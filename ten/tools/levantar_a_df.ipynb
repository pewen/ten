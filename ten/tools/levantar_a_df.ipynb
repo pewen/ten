{
 "cells": [
  {
   "cell_type": "code",
   "execution_count": 1,
   "metadata": {
    "collapsed": true
   },
   "outputs": [],
   "source": [
    "# %load post_procesamiento.py\n",
    "import os\n",
    "import pandas as pd\n",
    "import numpy as np\n",
    "import pandas as pd\n",
    "import matplotlib.pyplot as plt\n",
    "from scipy.optimize import curve_fit\n",
    "from scipy import integrate\n",
    "\n",
    "# Datos experimentales a los cuales comprar\n",
    "moleculas_quencher = 0, 9, 46, 82, 119, 156, 229, 351, 656, 1267, 2487,\\\n",
    "                     4929, 9289, 20190\n",
    "cociente_tau = 1.000, 1.004, 1.489, 1.947, 2.429, 2.625, 3.320, 3.978, \\\n",
    "               5.363, 6.484, 7.371, 7.024, 7.820, 8.913\n",
    "cociente_i = np.array([1.000, 1.061, 1.677, 2.117, 2.645, 3.031, 3.879,\\\n",
    "                       5.124, 6.840, 9.511, 11.775, 13.822, 16.141, 19.930])\n",
    "\n",
    "eff_teo = 1 - cociente_i**(-1)\n",
    "\n",
    "def bi_exp(x, a_1, b_1, a_2, b_2):\n",
    "    return a_1**2  * np.exp(x / -b_1) + a_2**2 * np.exp(x / -b_2)\n",
    "    \n",
    "def bi_exp_norm(x, a_1, b_1, a_2, b_2):\n",
    "    c = a_1 * b_1 + a_2 * b_2\n",
    "    return (a_1 * np.exp(x / -b_1) + a_2 * np.exp(x / -b_2)) / c\n",
    "\n",
    "def read_param_hist(path):\n",
    "#Leemos los parametors del ajuste de ramiro, calculamos su area y se la\n",
    "#agregamos como un parametro mas\n",
    "    with open(path, 'r') as hist:\n",
    "        line = hist.readline()\n",
    "        param_hist_ramiro = []\n",
    "        while line != '':\n",
    "            line =' '.join(line.split())\n",
    "            param = np.array(line.split(), dtype=np.float)\n",
    "            area = integrate.quad(bi_exp, 0, np.inf,\n",
    "                                  args=(param[1], param[2], param[3],\n",
    "                                        param[4]))[0]\n",
    "            param = param.tolist()\n",
    "            param_hist_ramiro.append(np.array(param + [area]))\n",
    "            line = hist.readline()\n",
    "        return param_hist_ramiro\n",
    "    \n",
    "# Leemos los datos del hist.dat\n",
    "'''\n",
    "Lee el hist.dat, devuelve una lista con #aceptores y una lista de\n",
    "arrays con los datos del histograma\n",
    "'''        \n",
    "def read_hist(path_hist):        \n",
    "    with open(path_hist, 'r') as hist:\n",
    "        line = hist.readline()\n",
    "        num_aceptores = []\n",
    "        decaimientos = []\n",
    "        while line != '':\n",
    "            values = list(eval(line))\n",
    "            num_aceptores.append(values.pop(0))\n",
    "            decaimientos.append(np.array(values))\n",
    "            line = hist.readline()\n",
    "        return(num_aceptores, decaimientos)\n",
    "\n",
    "# Leemos el result.dat\n",
    "def read_result(path_result):\n",
    "    datos_quenching = open(path_result, 'r')\n",
    "    line = datos_quenching.readline()\n",
    "    while 'Traps number' not in line:\n",
    "        line = datos_quenching.readline()\n",
    "    junk, traps_number = line.split(': ')\n",
    "    traps_number = eval(traps_number)\n",
    "    while 'Acceptors number' not in line:\n",
    "        line = datos_quenching.readline()\n",
    "    junk, aceptors_number = line.split(': ')\n",
    "    aceptors_number = eval(aceptors_number)\n",
    "    while  not 'aceptores' in line and not 'Tiempo' in line:\n",
    "        line = datos_quenching.readline()\n",
    "        if 'Delta_t' in line:\n",
    "            delta_t = (float(line.split(', ')[0].split(': ')[1]))\n",
    "        if line == '':\n",
    "            break\n",
    "    lista_valores = []\n",
    "    while True:\n",
    "        line = datos_quenching.readline()\n",
    "        if line == '\\n':                    \n",
    "            continue\n",
    "        if '-'*10 in line:\n",
    "            break\n",
    "        # Removemos el enter al final de linea\n",
    "        valores = '\\t'.join(line.split('\\n'))\n",
    "\n",
    "        # Removemos todos los '\\t'    \n",
    "        valores = (' '.join(valores.split('\\t')))\n",
    "        # Removemos los espacios que nos quedan\n",
    "        valores = np.array([float(valor) for valor in valores.split(' ') \\\n",
    "                            if valor != ''])\n",
    "        lista_valores.append(valores)\n",
    "        \n",
    "    datos_quenching.close()\n",
    "    return (lista_valores, delta_t)\n",
    "\n",
    "def area_hist(decaimiento, delta_t):\n",
    "    n, bins = np.histogram(decaimiento*delta_t, bins=max(decaimiento))\n",
    "    popt, pcov = curve_fit(bi_exp, bins[:-1], n)\n",
    "    area = popt[0]**2 * popt[1] + popt[2]**2 * popt[3]\n",
    "    return area, popt\n",
    "\n",
    "def pasar_a_bins(param_ramiro, hist, delta_t):\n",
    "    out = []\n",
    "    for histograma in histogramas:\n",
    "        n, bins = np.histogram(histograma*delta_t, bins=max(histograma), normed=True)\n",
    "        alturas_bins_ramiro = []\n",
    "        for i in range(len(bins)):\n",
    "            area_bin = integrate.quad(bi_exp_norm, delta_t*i, delta_t*(i+1), args=(param_ramiro[1], param_ramiro[2],\n",
    "                                                                              param_ramiro[3], param_ramiro[4]))[0]\n",
    "            altura_bin = area_bin / delta_t\n",
    "            alturas_bins_ramiro.append(altura_bin)\n",
    "        out.append([bins, n, alturas_bins_ramiro])\n",
    "    return out\n",
    "\n",
    "def extrac_param(string):\n",
    "    params = string.split('_')\n",
    "    mean_free_path = params[1]\n",
    "    num_tramp = params[2]\n",
    "    radio_tramp = params[3][:-4]\n",
    "    return mean_free_path, num_tramp, radio_tramp"
   ]
  },
  {
   "cell_type": "code",
   "execution_count": 2,
   "metadata": {
    "collapsed": false
   },
   "outputs": [],
   "source": [
    "param_ramiro = read_param_hist('hist_ramiro.dat')\n",
    "num_acept, histogramas = read_hist('hist.dat')\n",
    "result, delta_t = read_result('result.dat')  "
   ]
  },
  {
   "cell_type": "code",
   "execution_count": 4,
   "metadata": {
    "collapsed": false
   },
   "outputs": [],
   "source": [
    "out = pasar_a_bins(param_ramiro[0], histogramas, delta_t)\n",
    "\n",
    "diffs = []\n",
    "for salida in out:\n",
    "    diff = 0\n",
    "    for i in range(len(salida[1])):\n",
    "        diff += np.abs(salida[1][i] - salida[2][i])\n",
    "    diffs.append(diff)"
   ]
  },
  {
   "cell_type": "code",
   "execution_count": 5,
   "metadata": {
    "collapsed": true
   },
   "outputs": [],
   "source": [
    "df = pd.DataFrame(columns=[\"mean free path\", 'tramps', 'r_tramps', 'error_areas'])"
   ]
  },
  {
   "cell_type": "code",
   "execution_count": 6,
   "metadata": {
    "collapsed": true
   },
   "outputs": [],
   "source": [
    "os.chdir('../../out/')"
   ]
  },
  {
   "cell_type": "code",
   "execution_count": 21,
   "metadata": {
    "collapsed": false
   },
   "outputs": [],
   "source": [
    "df = pd.DataFrame(columns=['mean free path', 'num tramp', 'radio tramps', 'eeff', 'earea'])"
   ]
  },
  {
   "cell_type": "code",
   "execution_count": 22,
   "metadata": {
    "collapsed": false
   },
   "outputs": [],
   "source": [
    "df.loc[0] = 100, 5, 3, 100, 120"
   ]
  },
  {
   "cell_type": "code",
   "execution_count": 7,
   "metadata": {
    "collapsed": false,
    "scrolled": true
   },
   "outputs": [
    {
     "name": "stdout",
     "output_type": "stream",
     "text": [
      "hist_100.00_10_1.00.dat result_100.00_10_1.00.dat\n",
      "hist_100.00_10_2.00.dat result_100.00_10_2.00.dat\n",
      "hist_100.00_10_3.00.dat result_100.00_10_3.00.dat\n",
      "hist_100.00_10_4.00.dat result_100.00_10_4.00.dat\n",
      "hist_100.00_10_5.00.dat result_100.00_10_5.00.dat\n",
      "hist_100.00_15_1.00.dat result_100.00_15_1.00.dat\n",
      "hist_100.00_15_2.00.dat result_100.00_15_2.00.dat\n",
      "hist_100.00_15_3.00.dat result_100.00_15_3.00.dat\n",
      "hist_100.00_15_4.00.dat result_100.00_15_4.00.dat\n",
      "hist_100.00_15_5.00.dat result_100.00_15_5.00.dat\n",
      "hist_100.00_1_1.00.dat result_100.00_1_1.00.dat\n",
      "hist_100.00_1_2.00.dat result_100.00_1_2.00.dat\n",
      "hist_100.00_1_3.00.dat result_100.00_1_3.00.dat\n",
      "hist_100.00_1_4.00.dat result_100.00_1_4.00.dat\n",
      "hist_100.00_1_5.00.dat result_100.00_1_5.00.dat\n",
      "hist_100.00_20_1.00.dat result_100.00_20_1.00.dat\n",
      "hist_100.00_20_2.00.dat result_100.00_20_2.00.dat\n",
      "hist_100.00_20_3.00.dat result_100.00_20_3.00.dat\n",
      "hist_100.00_20_4.00.dat result_100.00_20_4.00.dat\n",
      "hist_100.00_20_5.00.dat result_100.00_20_5.00.dat\n",
      "hist_100.00_25_1.00.dat result_100.00_25_1.00.dat\n",
      "hist_100.00_25_2.00.dat result_100.00_25_2.00.dat\n",
      "hist_100.00_25_3.00.dat result_100.00_25_3.00.dat\n",
      "hist_100.00_25_4.00.dat result_100.00_25_4.00.dat\n",
      "hist_100.00_5_1.00.dat result_100.00_5_1.00.dat\n",
      "hist_100.00_5_2.00.dat result_100.00_5_2.00.dat\n",
      "hist_100.00_5_3.00.dat result_100.00_5_3.00.dat\n",
      "hist_100.00_5_4.00.dat result_100.00_5_4.00.dat\n",
      "hist_100.00_5_5.00.dat result_100.00_5_5.00.dat\n",
      "hist_50.00_10_1.00.dat result_50.00_10_1.00.dat\n",
      "hist_50.00_10_2.00.dat result_50.00_10_2.00.dat\n",
      "hist_50.00_10_3.00.dat result_50.00_10_3.00.dat\n",
      "hist_50.00_10_4.00.dat result_50.00_10_4.00.dat\n",
      "hist_50.00_10_5.00.dat result_50.00_10_5.00.dat\n",
      "hist_50.00_15_1.00.dat result_50.00_15_1.00.dat\n",
      "hist_50.00_15_2.00.dat result_50.00_15_2.00.dat\n",
      "hist_50.00_15_3.00.dat result_50.00_15_3.00.dat\n",
      "hist_50.00_15_4.00.dat result_50.00_15_4.00.dat\n",
      "hist_50.00_15_5.00.dat result_50.00_15_5.00.dat\n",
      "hist_50.00_1_1.00.dat result_50.00_1_1.00.dat\n",
      "hist_50.00_1_2.00.dat result_50.00_1_2.00.dat\n",
      "hist_50.00_1_3.00.dat result_50.00_1_3.00.dat\n",
      "hist_50.00_1_4.00.dat result_50.00_1_4.00.dat\n",
      "hist_50.00_1_5.00.dat result_50.00_1_5.00.dat\n",
      "hist_50.00_20_1.00.dat result_50.00_20_1.00.dat\n",
      "hist_50.00_20_2.00.dat result_50.00_20_2.00.dat\n",
      "hist_50.00_20_3.00.dat result_50.00_20_3.00.dat\n",
      "hist_50.00_20_4.00.dat result_50.00_20_4.00.dat\n",
      "hist_50.00_20_5.00.dat result_50.00_20_5.00.dat\n",
      "hist_50.00_25_1.00.dat result_50.00_25_1.00.dat\n",
      "hist_50.00_25_2.00.dat result_50.00_25_2.00.dat\n",
      "hist_50.00_25_3.00.dat result_50.00_25_3.00.dat\n",
      "hist_50.00_25_4.00.dat result_50.00_25_4.00.dat\n",
      "hist_50.00_25_5.00.dat result_50.00_25_5.00.dat\n",
      "hist_50.00_30_1.00.dat result_50.00_30_1.00.dat\n",
      "hist_50.00_30_2.00.dat result_50.00_30_2.00.dat\n",
      "hist_50.00_30_3.00.dat result_50.00_30_3.00.dat\n",
      "hist_50.00_30_4.00.dat result_50.00_30_4.00.dat\n",
      "hist_50.00_30_5.00.dat result_50.00_30_5.00.dat\n",
      "hist_50.00_5_1.00.dat result_50.00_5_1.00.dat\n",
      "hist_50.00_5_2.00.dat result_50.00_5_2.00.dat\n",
      "hist_50.00_5_3.00.dat result_50.00_5_3.00.dat\n",
      "hist_50.00_5_4.00.dat result_50.00_5_4.00.dat\n",
      "hist_50.00_5_5.00.dat result_50.00_5_5.00.dat\n",
      "hist_70.00_10_1.00.dat result_70.00_10_1.00.dat\n",
      "hist_70.00_10_2.00.dat result_70.00_10_2.00.dat\n",
      "hist_70.00_10_3.00.dat result_70.00_10_3.00.dat\n",
      "hist_70.00_10_4.00.dat result_70.00_10_4.00.dat\n",
      "hist_70.00_10_5.00.dat result_70.00_10_5.00.dat\n",
      "hist_70.00_15_1.00.dat result_70.00_15_1.00.dat\n",
      "hist_70.00_15_2.00.dat result_70.00_15_2.00.dat\n",
      "hist_70.00_15_3.00.dat result_70.00_15_3.00.dat\n",
      "hist_70.00_15_4.00.dat result_70.00_15_4.00.dat\n",
      "hist_70.00_15_5.00.dat result_70.00_15_5.00.dat\n",
      "hist_70.00_1_1.00.dat result_70.00_1_1.00.dat\n",
      "hist_70.00_1_2.00.dat result_70.00_1_2.00.dat\n",
      "hist_70.00_1_3.00.dat result_70.00_1_3.00.dat\n",
      "hist_70.00_1_4.00.dat result_70.00_1_4.00.dat\n",
      "hist_70.00_1_5.00.dat result_70.00_1_5.00.dat\n",
      "hist_70.00_20_1.00.dat result_70.00_20_1.00.dat\n",
      "hist_70.00_20_2.00.dat result_70.00_20_2.00.dat\n",
      "hist_70.00_20_3.00.dat result_70.00_20_3.00.dat\n",
      "hist_70.00_20_4.00.dat result_70.00_20_4.00.dat\n",
      "hist_70.00_20_5.00.dat result_70.00_20_5.00.dat\n",
      "hist_70.00_25_1.00.dat result_70.00_25_1.00.dat\n",
      "hist_70.00_25_2.00.dat result_70.00_25_2.00.dat\n",
      "hist_70.00_25_3.00.dat result_70.00_25_3.00.dat\n",
      "hist_70.00_25_4.00.dat result_70.00_25_4.00.dat\n",
      "hist_70.00_25_5.00.dat result_70.00_25_5.00.dat\n",
      "hist_70.00_30_1.00.dat result_70.00_30_1.00.dat\n",
      "hist_70.00_30_2.00.dat result_70.00_30_2.00.dat\n",
      "hist_70.00_30_3.00.dat result_70.00_30_3.00.dat\n",
      "hist_70.00_30_4.00.dat result_70.00_30_4.00.dat\n",
      "hist_70.00_30_5.00.dat result_70.00_30_5.00.dat\n",
      "hist_70.00_5_1.00.dat result_70.00_5_1.00.dat\n",
      "hist_70.00_5_2.00.dat result_70.00_5_2.00.dat\n",
      "hist_70.00_5_3.00.dat result_70.00_5_3.00.dat\n",
      "hist_70.00_5_4.00.dat result_70.00_5_4.00.dat\n",
      "hist_70.00_5_5.00.dat result_70.00_5_5.00.dat\n"
     ]
    }
   ],
   "source": [
    "list_dirs = os.listdir('.')\n",
    "list_dirs.sort()\n",
    "list_hist = list_dirs[:int(len(list_dirs)/2)]\n",
    "list_result = list_dirs[int(len(list_dirs)/2):]\n",
    "\n",
    "# Ojo con donde esta esto!\n",
    "#param_ramiro = read_param_hist('hist_ramiro.dat')\n",
    "\n",
    "df = pd.DataFrame(columns=['mean free path', 'num tramp', 'radio tramps', 'eeff', 'earea'])\n",
    "\n",
    "for hist, result in zip(list_hist, list_result):\n",
    "    num_acept, histogramas = read_hist(hist)\n",
    "    result, delta_t = read_result(result)  "
   ]
  },
  {
   "cell_type": "code",
   "execution_count": 8,
   "metadata": {
    "collapsed": false
   },
   "outputs": [
    {
     "data": {
      "image/png": "[encoded data removed]",
      "text/plain": [
       "<matplotlib.figure.Figure at 0x7f1bd41a8a90>"
      ]
     },
     "metadata": {},
     "output_type": "display_data"
    }
   ],
   "source": [
    "plt.bar(out[0][0][:-1], out[0][1], width=delta_t)\n",
    "\n",
    "plt.show()"
   ]
  },
  {
   "cell_type": "code",
   "execution_count": 63,
   "metadata": {
    "collapsed": false
   },
   "outputs": [
    {
     "data": {
      "image/png": "[encoded data removed]",
      "text/plain": [
       "<matplotlib.figure.Figure at 0x7f3fa19e68d0>"
      ]
     },
     "metadata": {},
     "output_type": "display_data"
    }
   ],
   "source": [
    "plt.bar(out[0][0], out[0][2], width=delta_t)\n",
    "plt.show()"
   ]
  },
  {
   "cell_type": "code",
   "execution_count": 64,
   "metadata": {
    "collapsed": false
   },
   "outputs": [
    {
     "data": {
      "text/plain": [
       "0.8425253341995188"
      ]
     },
     "execution_count": 64,
     "metadata": {},
     "output_type": "execute_result"
    }
   ],
   "source": [
    "sum(out[0][2]) * delta_t"
   ]
  },
  {
   "cell_type": "code",
   "execution_count": 33,
   "metadata": {
    "collapsed": false
   },
   "outputs": [
    {
     "name": "stdout",
     "output_type": "stream",
     "text": [
      "118.547671423\n",
      "379.538214616\n",
      "2389.25658335\n",
      "4396.91668514\n",
      "6290.25444861\n",
      "7537.40229739\n",
      "9053.98430396\n",
      "11030.3952816\n"
     ]
    }
   ],
   "source": [
    "# Ver si se toma norma o el cuadrado\n",
    "for salida in out:\n",
    "    diff = 0\n",
    "    for i in range(len(salida[1])):\n",
    "        diff += (salida[1][i] - salida[2][i])**2\n",
    "    print(diff)"
   ]
  },
  {
   "cell_type": "code",
   "execution_count": 70,
   "metadata": {
    "collapsed": false
   },
   "outputs": [
    {
     "name": "stdout",
     "output_type": "stream",
     "text": [
      "136.608541435\n"
     ]
    }
   ],
   "source": [
    "print(diff)"
   ]
  },
  {
   "cell_type": "code",
   "execution_count": 35,
   "metadata": {
    "collapsed": false
   },
   "outputs": [
    {
     "data": {
      "text/plain": [
       "8"
      ]
     },
     "execution_count": 35,
     "metadata": {},
     "output_type": "execute_result"
    }
   ],
   "source": [
    "len(out)"
   ]
  },
  {
   "cell_type": "code",
   "execution_count": null,
   "metadata": {
    "collapsed": true
   },
   "outputs": [],
   "source": []
  }
 ],
 "metadata": {
  "kernelspec": {
   "display_name": "Python 3",
   "language": "python",
   "name": "python3"
  },
  "language_info": {
   "codemirror_mode": {
    "name": "ipython",
    "version": 3
   },
   "file_extension": ".py",
   "mimetype": "text/x-python",
   "name": "python",
   "nbconvert_exporter": "python",
   "pygments_lexer": "ipython3",
   "version": "3.5.2"
  }
 },
 "nbformat": 4,
 "nbformat_minor": 1
}
