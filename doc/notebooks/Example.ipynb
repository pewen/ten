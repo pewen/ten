{
 "metadata": {
  "name": "",
  "signature": "sha256:f1d0e709c7b81301529c9ff4734241d859ea55599ae2dcbf82e4f0d500b3c489"
 },
 "nbformat": 3,
 "nbformat_minor": 0,
 "worksheets": [
  {
   "cells": [
    {
     "cell_type": "code",
     "collapsed": false,
     "input": [
      "import sys\n",
      "sys.path.append('../../')\n",
      "\n",
      "from src.nanoparticle import NanoParticle\n",
      "from src.photon import Photon\n",
      "from config import *"
     ],
     "language": "python",
     "metadata": {},
     "outputs": [],
     "prompt_number": 2
    },
    {
     "cell_type": "code",
     "collapsed": false,
     "input": [
      "NP = NanoParticle(r, 100, tau_D, R_Forster, L_D, delta_t)\n",
      "NP.deposit_volumetrically_acceptors()"
     ],
     "language": "python",
     "metadata": {},
     "outputs": [],
     "prompt_number": 3
    },
    {
     "cell_type": "code",
     "collapsed": false,
     "input": [
      "simu = Photon(NP, 10)\n",
      "simu.move()"
     ],
     "language": "python",
     "metadata": {},
     "outputs": [
      {
       "output_type": "stream",
       "stream": "stdout",
       "text": [
        "Decae\n",
        "Cantidad de pasos: 188\n",
        "Decae"
       ]
      },
      {
       "output_type": "stream",
       "stream": "stdout",
       "text": [
        "\n",
        "Cantidad de pasos: 298\n",
        "Decae"
       ]
      },
      {
       "output_type": "stream",
       "stream": "stdout",
       "text": [
        "\n",
        "Cantidad de pasos: 452\n",
        "Decae"
       ]
      },
      {
       "output_type": "stream",
       "stream": "stdout",
       "text": [
        "\n",
        "Cantidad de pasos: 350\n",
        "Se transfiere"
       ]
      },
      {
       "output_type": "stream",
       "stream": "stdout",
       "text": [
        "\n",
        "Cantidad de pasos: 530\n",
        "Decae"
       ]
      },
      {
       "output_type": "stream",
       "stream": "stdout",
       "text": [
        "\n",
        "Cantidad de pasos: 143\n",
        "Decae\n",
        "Cantidad de pasos: 18\n",
        "Decae"
       ]
      },
      {
       "output_type": "stream",
       "stream": "stdout",
       "text": [
        "\n",
        "Cantidad de pasos: 548\n",
        "Decae"
       ]
      },
      {
       "output_type": "stream",
       "stream": "stdout",
       "text": [
        "\n",
        "Cantidad de pasos: 738\n",
        "Decae"
       ]
      },
      {
       "output_type": "stream",
       "stream": "stdout",
       "text": [
        "\n",
        "Cantidad de pasos: 612\n"
       ]
      }
     ],
     "prompt_number": 5
    },
    {
     "cell_type": "code",
     "collapsed": false,
     "input": [],
     "language": "python",
     "metadata": {},
     "outputs": []
    }
   ],
   "metadata": {}
  }
 ]
}