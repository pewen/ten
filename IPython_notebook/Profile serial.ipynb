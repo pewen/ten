{
 "metadata": {
  "name": "",
  "signature": "sha256:ebb6de4596b4b1e543af9474b4c3129a634f62465e41ff5b33701193554a0ed8"
 },
 "nbformat": 3,
 "nbformat_minor": 0,
 "worksheets": [
  {
   "cells": [
    {
     "cell_type": "markdown",
     "metadata": {},
     "source": [
      "#Profile del c\u00f3digo serial\n",
      "\n",
      "Para esto, utilizamos el m\u00f3dulo cProfile que esta incluida en la libreria estandar de python.\n",
      "\n",
      "Desde la linea de comando corremos:\n",
      "\n",
      "    python3 -m cProfile -o lab/i_j main.py\n",
      "    \n",
      "Donde *i* es la cantidad de aceptores y *j* es la cantidad de bombardeos. Realizamos varias corridas en las que se variaba unicamente la cantidad de bombardeos, empezando en 1000 hasta 12000 avanzando de a 1000."
     ]
    },
    {
     "cell_type": "code",
     "collapsed": false,
     "input": [
      "import pstats\n",
      "\n",
      "import numpy as np\n",
      "from scipy.optimize import curve_fit\n",
      "import matplotlib.pyplot as plt\n",
      "%matplotlib inline"
     ],
     "language": "python",
     "metadata": {},
     "outputs": [],
     "prompt_number": 1
    },
    {
     "cell_type": "markdown",
     "metadata": {},
     "source": [
      "## Ejemplo de profile"
     ]
    },
    {
     "cell_type": "code",
     "collapsed": false,
     "input": [
      "p = pstats.Stats('profile/25_5000')\n",
      "p.sort_stats('cumulative').print_stats(20)"
     ],
     "language": "python",
     "metadata": {},
     "outputs": [
      {
       "output_type": "stream",
       "stream": "stdout",
       "text": [
        "Tue Nov  3 11:55:15 2015    profile/25_5000\n",
        "\n",
        "         11461237 function calls (11457925 primitive calls) in 163.966 seconds\n",
        "\n",
        "   Ordered by: cumulative time\n",
        "   List reduced from 1015 to 20 due to restriction <20>\n",
        "\n",
        "   ncalls  tottime  percall  cumtime  percall filename:lineno(function)\n",
        "    131/1    0.006    0.000  163.966  163.966 {built-in method exec}\n",
        "        1    0.002    0.002  163.966  163.966 main.py:3(<module>)\n",
        "       26    5.503    0.212  163.742    6.298 /home/fnbellomo/Desktop/Proyectos/ten/src/exciton.py:108(quenching)\n",
        "  1531940   52.250    0.000   74.084    0.000 /home/fnbellomo/Desktop/Proyectos/ten/src/utils.py:18(generate_random_points_in_sphere)\n",
        "  1157445   13.034    0.000   64.591    0.000 /home/fnbellomo/Desktop/Proyectos/ten/src/exciton.py:62(walk)\n",
        "  1268180   33.753    0.000   63.666    0.000 /home/fnbellomo/Desktop/Proyectos/ten/src/exciton.py:83(p_transfer)\n",
        "  2541010   35.955    0.000   35.957    0.000 {built-in method sum}\n",
        "   130000    0.300    0.000   23.924    0.000 /home/fnbellomo/Desktop/Proyectos/ten/src/nanoparticle.py:73(deposit_volumetrically_acceptors)\n",
        "  1531940   14.642    0.000   14.642    0.000 {method 'randn' of 'mtrand.RandomState' objects}\n",
        "  2819385    7.597    0.000    7.597    0.000 {method 'random_sample' of 'mtrand.RandomState' objects}\n",
        "   130000    0.314    0.000    5.232    0.000 /home/fnbellomo/Desktop/Proyectos/ten/src/exciton.py:39(laser_generated)\n",
        "   260000    0.394    0.000    0.394    0.000 {method 'copy' of 'numpy.ndarray' objects}\n",
        "    152/4    0.002    0.000    0.194    0.049 <frozen importlib._bootstrap>:2234(_find_and_load)\n",
        "    152/4    0.002    0.000    0.194    0.048 <frozen importlib._bootstrap>:2207(_find_and_load_unlocked)\n",
        "    148/5    0.001    0.000    0.193    0.039 <frozen importlib._bootstrap>:1186(_load_unlocked)\n",
        "    123/5    0.000    0.000    0.192    0.038 <frozen importlib._bootstrap>:1122(_exec)\n",
        "    123/5    0.001    0.000    0.192    0.038 <frozen importlib._bootstrap>:1465(exec_module)\n",
        "    187/5    0.001    0.000    0.191    0.038 <frozen importlib._bootstrap>:313(_call_with_frames_removed)\n",
        "        1    0.000    0.000    0.190    0.190 /home/fnbellomo/Desktop/Proyectos/ten/src/nanoparticle.py:3(<module>)\n",
        "    313/9    0.001    0.000    0.150    0.017 {built-in method __import__}\n",
        "\n",
        "\n"
       ]
      },
      {
       "metadata": {},
       "output_type": "pyout",
       "prompt_number": 2,
       "text": [
        "<pstats.Stats at 0x7f58fb7b8d30>"
       ]
      }
     ],
     "prompt_number": 2
    },
    {
     "cell_type": "markdown",
     "metadata": {},
     "source": [
      "## Tiempos"
     ]
    },
    {
     "cell_type": "code",
     "collapsed": false,
     "input": [
      "total_time = []\n",
      "x = np.array([i for i in range(1000, 13000, 1000)])\n",
      "\n",
      "# Funci\u00f3n con la cual voy a realizar el ajuste\n",
      "def func(x, a, b):\n",
      "    return a*x + b\n",
      "\n",
      "# Extraigo los tiempos\n",
      "for i in x:\n",
      "    profile = 'profile/25_%i' %i\n",
      "    p = pstats.Stats(profile)\n",
      "    total_time.append(p.total_tt)\n",
      "    \n",
      "popt, pcov = curve_fit(func, x, total_time)\n",
      "    \n",
      "plt.figure(figsize=(12,5))\n",
      "plt.plot(x, total_time, '-o', linewidth=2, label=\"Tiempos reales\")\n",
      "plt.plot(x, func(x, popt[0], popt[1]), 'r--', linewidth=2, label=\"Ajuste\")\n",
      "plt.xlabel(r'$N\u00famero\\; de\\; exitaciones$', fontsize=20)\n",
      "plt.ylabel(r'$Tiempo(seg)$', fontsize=20)\n",
      "plt.title(r'$Tiempo\\; c\u00f3digo\\; serial$', fontsize=20)\n",
      "plt.text(1100, 230, r'$Ajuste\\; ax+ b$', fontsize=20)\n",
      "plt.text(1100, 200, r'$a = %f b = %f$' %(popt[0], popt[1]), fontsize=20)\n",
      "plt.legend(loc='best', fontsize=16)\n",
      "plt.grid(True)"
     ],
     "language": "python",
     "metadata": {},
     "outputs": [
      {
       "metadata": {},
       "output_type": "display_data",
       "png": "[encoded data removed]",
       "text": [
        "<matplotlib.figure.Figure at 0x7f58fb2afc18>"
       ]
      }
     ],
     "prompt_number": 3
    },
    {
     "cell_type": "code",
     "collapsed": false,
     "input": [
      "#Este asombroso css es trabajo de @LorenaABarba\n",
      "from IPython.core.display import HTML\n",
      "css_file = 'css/personal.css'\n",
      "HTML(open(css_file, \"r\").read())"
     ],
     "language": "python",
     "metadata": {},
     "outputs": [
      {
       "html": [
        "<link href='http://fonts.googleapis.com/css?family=Alegreya+Sans:100,300,400,500,700,800,900,100italic,300italic,400italic,500italic,700italic,800italic,900italic' rel='stylesheet' type='text/css'>\n",
        "<link href='http://fonts.googleapis.com/css?family=Arvo:400,700,400italic' rel='stylesheet' type='text/css'>\n",
        "<link href='http://fonts.googleapis.com/css?family=PT+Mono' rel='stylesheet' type='text/css'>\n",
        "<link href='http://fonts.googleapis.com/css?family=Shadows+Into+Light' rel='stylesheet' type='text/css'>\n",
        "<link href='http://fonts.googleapis.com/css?family=Nixie+One' rel='stylesheet' type='text/css'>\n",
        "<style>\n",
        "@font-face {\n",
        "    font-family: \"Computer Modern\";\n",
        "    src: url('http://mirrors.ctan.org/fonts/cm-unicode/fonts/otf/cmunss.otf');\n",
        "}\n",
        "#notebook_panel { /* main background */\n",
        "    background: rgb(245,245,245);\n",
        "} \n",
        "div.cell { /* set cell width */\n",
        "    width: 80%;\n",
        "}\n",
        "div #notebook { /* centre the content */\n",
        "    background: #fff; /* white background for content */\n",
        "    width: 100%;\n",
        "    margin-right: 0px;\n",
        "    margin-left: 0px;\n",
        "    padding-left: 0em;\n",
        "}\n",
        "#notebook li { /* More space between bullet points */\n",
        "    margin-top:0.8em;\n",
        "}\n",
        "/* draw border around running cells */\n",
        "div.cell.border-box-sizing.code_cell.running {\n",
        "    border: 1px solid #111;\n",
        "}\n",
        "/* Put a solid color box around each cell and its output, visually linking them*/\n",
        "div.cell.code_cell {\n",
        "    background-color: rgb(256,256,256);\n",
        "    border-radius: 0px;\n",
        "    padding: 0.5em;\n",
        "    margin-left:1em;\n",
        "    margin-top: 1em;\n",
        "}\n",
        "div.text_cell_render{\n",
        "    font-family: 'Alegreya Sans' sans-serif;\n",
        "    line-height: 140%;\n",
        "    font-size: 125%;\n",
        "    font-weight: 400;\n",
        "    margin-left:0px;\n",
        "    margin-right:0px;\n",
        "}\n",
        "/* Formatting for header cells */\n",
        ".text_cell_render h1 {\n",
        "    font-family: 'Nixie One', serif;\n",
        "    font-style:regular;\n",
        "    font-weight: 400;\n",
        "    font-size: 45pt;\n",
        "    line-height: 100%;\n",
        "    color: rgb(0,51,102);\n",
        "    margin-bottom: 0.5em;\n",
        "    margin-top: 0.5em;\n",
        "    display: block;\n",
        "}  \n",
        ".text_cell_render h2 {\n",
        "    font-family: 'Nixie One', serif;\n",
        "    font-weight: 400;\n",
        "    font-size: 30pt;\n",
        "    line-height: 100%;\n",
        "    color: rgb(0,51,102);\n",
        "    margin-bottom: 0.1em;\n",
        "    margin-top: 0.3em;\n",
        "    display: block;\n",
        "}\t\n",
        ".text_cell_render h3 {\n",
        "    font-family: 'Nixie One', serif;\n",
        "    margin-top:16px;\n",
        "    font-size: 22pt;\n",
        "    font-weight: 600;\n",
        "    margin-bottom: 3px;\n",
        "    font-style: regular;\n",
        "    color: rgb(102,102,0);\n",
        "}\n",
        ".text_cell_render h4 { /*Use this for captions*/\n",
        "    font-family: 'Nixie One', serif;\n",
        "    font-size: 14pt;\n",
        "    text-align: center;\n",
        "    margin-top: 0em;\n",
        "    margin-bottom: 2em;\n",
        "    font-style: regular;\n",
        "}\n",
        ".text_cell_render h5 { /*Use this for small titles*/\n",
        "    font-family: 'Nixie One', sans-serif;\n",
        "    font-weight: 400;\n",
        "    font-size: 16pt;\n",
        "    color: rgb(163,0,0);\n",
        "    font-style: italic;\n",
        "    margin-bottom: .1em;\n",
        "    margin-top: 0.8em;\n",
        "    display: block;\n",
        "}\n",
        ".text_cell_render h6 { /*use this for copyright note*/\n",
        "    font-family: 'PT Mono', sans-serif;\n",
        "    font-weight: 300;\n",
        "    font-size: 9pt;\n",
        "    line-height: 100%;\n",
        "    color: grey;\n",
        "    margin-bottom: 1px;\n",
        "    margin-top: 1px;\n",
        "}\n",
        ".CodeMirror{\n",
        "    font-family: \"PT Mono\";\n",
        "    font-size: 90%;\n",
        "}\n",
        "</style>\n",
        "<script>\n",
        "MathJax.Hub.Config({\n",
        "\t\t       TeX: {\n",
        "\t\t\t   extensions: [\"AMSmath.js\"],\n",
        "\t\t\t   equationNumbers: { autoNumber: \"AMS\", useLabelIds: true}\n",
        "\t\t       },\n",
        "\t\t       tex2jax: {\n",
        "\t\t\t   inlineMath: [ ['$','$'], [\"\\\\(\",\"\\\\)\"] ],\n",
        "\t\t\t   displayMath: [ ['$$','$$'], [\"\\\\[\",\"\\\\]\"] ]\n",
        "\t\t       },\n",
        "\t\t       displayAlign: 'center', // Change this to 'center' to center equations.\n",
        "\t\t       \"HTML-CSS\": {\n",
        "\t\t\t   styles: {'.MathJax_Display': {\"margin\": 4}}\n",
        "\t\t       }\n",
        "\t\t   });\n",
        "</script>"
       ],
       "metadata": {},
       "output_type": "pyout",
       "prompt_number": 4,
       "text": [
        "<IPython.core.display.HTML at 0x7f58fac96a20>"
       ]
      }
     ],
     "prompt_number": 4
    },
    {
     "cell_type": "markdown",
     "metadata": {},
     "source": [
      "#####Licencia\n",
      "\n",
      "<a rel=\"license\" href=\"http://creativecommons.org/licenses/by/4.0/\"><img alt=\"Creative Commons License\" style=\"border-width:0\" src=\"https://i.creativecommons.org/l/by/4.0/88x31.png\" /></a><br /><span xmlns:dct=\"http://purl.org/dc/terms/\" property=\"dct:title\">TEN</span> by <span xmlns:cc=\"http://creativecommons.org/ns#\" property=\"cc:attributionName\">Laboratorio de Microscopia \u00d3ptica Avanzada - UNRC</span> is licensed under a <a rel=\"license\" href=\"http://creativecommons.org/licenses/by/4.0/\">Creative Commons Attribution 4.0 International License</a>.<br />Based on a work at <a xmlns:dct=\"http://purl.org/dc/terms/\" href=\"https://github.com/pewen/ten\" rel=\"dct:source\">https://github.com/pewen/ten</a>"
     ]
    }
   ],
   "metadata": {}
  }
 ]
}