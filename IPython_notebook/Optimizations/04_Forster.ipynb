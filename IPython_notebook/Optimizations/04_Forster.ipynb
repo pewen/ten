{
 "cells": [
  {
   "cell_type": "code",
   "execution_count": 1,
   "metadata": {
    "collapsed": true
   },
   "outputs": [],
   "source": [
    "import sys\n",
    "\n",
    "sys.path.append('../../')"
   ]
  },
  {
   "cell_type": "code",
   "execution_count": 2,
   "metadata": {
    "collapsed": false
   },
   "outputs": [],
   "source": [
    "from ten.nanoparticle import Nanoparticle\n",
    "from ten.aceptor import Aceptor\n",
    "import ten.experiments as experiments\n",
    "\n",
    "from ten.mechanisms.mechanisms import forster, forsterF90"
   ]
  },
  {
   "cell_type": "code",
   "execution_count": 3,
   "metadata": {
    "collapsed": false
   },
   "outputs": [
    {
     "name": "stdout",
     "output_type": "stream",
     "text": [
      "Radio: 15 ~ U(15, 0),\n",
      "Tau: 0.333, Mean_path: 80, Epsilon: 1,\n",
      "Delta_t: 0.0041625, Prob decay: 0.012422199506118559,\n",
      "Nº Intrisic aceptors: 10, R_Mechanisms: 1, way: vol\n"
     ]
    }
   ],
   "source": [
    "# Dopantes propios (intrisicos) de la NP\n",
    "dopantes_propios = Aceptor(number=10, r_mechanisms=1, way='vol')\n",
    "\n",
    "# Dopantes que le vamos a agregar a la NP\n",
    "dopantes = Aceptor(number=5, r_mechanisms=3.14, way='vol')\n",
    "\n",
    "# Nanoparticula\n",
    "NP = Nanoparticle(r_param=[15, 0], tau_d=0.333, mean_path=80, epsilon=1, intrinsic_aceptors=dopantes_propios)\n",
    "print(NP)"
   ]
  },
  {
   "cell_type": "code",
   "execution_count": 4,
   "metadata": {
    "collapsed": false
   },
   "outputs": [
    {
     "name": "stdout",
     "output_type": "stream",
     "text": [
      "1 loop, best of 3: 10.9 s per loop\n"
     ]
    }
   ],
   "source": [
    "%%timeit\n",
    "\n",
    "for i in range(10):\n",
    "    out = experiments.quenching(NP, dopantes, forster, 'laser')"
   ]
  },
  {
   "cell_type": "code",
   "execution_count": 6,
   "metadata": {
    "collapsed": false
   },
   "outputs": [
    {
     "name": "stdout",
     "output_type": "stream",
     "text": [
      "1 loop, best of 3: 2.12 s per loop\n"
     ]
    }
   ],
   "source": [
    "%%timeit\n",
    "\n",
    "for i in range(10):\n",
    "    out = experiments.quenching(NP, dopantes, forsterF90, 'laser')"
   ]
  },
  {
   "cell_type": "code",
   "execution_count": null,
   "metadata": {
    "collapsed": true
   },
   "outputs": [],
   "source": []
  }
 ],
 "metadata": {
  "kernelspec": {
   "display_name": "Python 3",
   "language": "python",
   "name": "python3"
  },
  "language_info": {
   "codemirror_mode": {
    "name": "ipython",
    "version": 3
   },
   "file_extension": ".py",
   "mimetype": "text/x-python",
   "name": "python",
   "nbconvert_exporter": "python",
   "pygments_lexer": "ipython3",
   "version": "3.5.1"
  }
 },
 "nbformat": 4,
 "nbformat_minor": 0
}
