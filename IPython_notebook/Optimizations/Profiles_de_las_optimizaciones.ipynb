{
 "cells": [
  {
   "cell_type": "code",
   "execution_count": 1,
   "metadata": {
    "collapsed": true
   },
   "outputs": [],
   "source": [
    "import pstats"
   ]
  },
  {
   "cell_type": "markdown",
   "metadata": {},
   "source": [
    "## Código original\n",
    "\n",
    "Todo en Python"
   ]
  },
  {
   "cell_type": "code",
   "execution_count": 2,
   "metadata": {
    "collapsed": false
   },
   "outputs": [
    {
     "name": "stdout",
     "output_type": "stream",
     "text": [
      "Mon Jun 13 16:15:04 2016    ../../output/profiles/prop\n",
      "\n",
      "         21748402 function calls (21746006 primitive calls) in 351.969 seconds\n",
      "\n",
      "   Ordered by: cumulative time\n",
      "   List reduced from 881 to 20 due to restriction <20>\n",
      "\n",
      "   ncalls  tottime  percall  cumtime  percall filename:lineno(function)\n",
      "    128/1    0.008    0.000  351.970  351.970 {built-in method builtins.exec}\n",
      "        1    0.001    0.001  351.970  351.970 test_time.py:1(<module>)\n",
      "       28    0.177    0.006  351.706   12.561 /home/fnbellomo/Desktop/ten/ten/experiments.py:13(quenching)\n",
      "    33500   27.871    0.001  347.449    0.010 /home/fnbellomo/Desktop/ten/ten/mechanisms.py:27(forster)\n",
      "  4191930  124.165    0.000  166.385    0.000 /home/fnbellomo/Desktop/ten/ten/mechanisms.py:162(__transfer_rate)\n",
      "  2062465   31.399    0.000  152.377    0.000 /home/fnbellomo/Desktop/ten/ten/exciter.py:124(walk)\n",
      "  2246171   90.432    0.000  112.874    0.000 /home/fnbellomo/Desktop/ten/ten/utils.py:15(generate_random_points_in_sphere)\n",
      "  6371073   53.849    0.000   53.849    0.000 {built-in method builtins.sum}\n",
      "  4375636   14.586    0.000   14.586    0.000 {method 'random_sample' of 'mtrand.RandomState' objects}\n",
      "  2246171    8.672    0.000    8.672    0.000 {method 'randn' of 'mtrand.RandomState' objects}\n",
      "    33500    0.146    0.000    2.071    0.000 /home/fnbellomo/Desktop/ten/ten/nanoparticle.py:207(excite)\n",
      "    33500    0.070    0.000    2.009    0.000 /home/fnbellomo/Desktop/ten/ten/nanoparticle.py:162(doped)\n",
      "    33528    0.114    0.000    1.942    0.000 /home/fnbellomo/Desktop/ten/ten/aceptor.py:66(generate)\n",
      "    33500    0.127    0.000    1.925    0.000 /home/fnbellomo/Desktop/ten/ten/exciter.py:13(__init__)\n",
      "    33500    0.101    0.000    1.798    0.000 /home/fnbellomo/Desktop/ten/ten/exciter.py:81(laser_generated)\n",
      "    148/1    0.002    0.000    0.256    0.256 <frozen importlib._bootstrap>:966(_find_and_load)\n",
      "    148/1    0.001    0.000    0.256    0.256 <frozen importlib._bootstrap>:939(_find_and_load_unlocked)\n",
      "    199/1    0.000    0.000    0.256    0.256 <frozen importlib._bootstrap>:214(_call_with_frames_removed)\n",
      "    312/1    0.001    0.000    0.256    0.256 {built-in method builtins.__import__}\n",
      "    140/1    0.002    0.000    0.256    0.256 <frozen importlib._bootstrap>:659(_load_unlocked)\n",
      "\n",
      "\n"
     ]
    },
    {
     "data": {
      "text/plain": [
       "<pstats.Stats at 0x7f69ac3497f0>"
      ]
     },
     "execution_count": 2,
     "metadata": {},
     "output_type": "execute_result"
    }
   ],
   "source": [
    "p = pstats.Stats('../../output/profiles/prop')\n",
    "p.sort_stats('cumulative').print_stats(20)"
   ]
  },
  {
   "cell_type": "markdown",
   "metadata": {},
   "source": [
    "Podemos observar que la función `__transfer_rate` (que calcula la taza de transferencia del exiton a cualquier aceptor mediante un mecanismo de forster) tarda en total 124 seg.\n",
    "Ahora, la misma simulación, pero con esta función implementada en Fortran90"
   ]
  },
  {
   "cell_type": "code",
   "execution_count": 3,
   "metadata": {
    "collapsed": false
   },
   "outputs": [
    {
     "name": "stdout",
     "output_type": "stream",
     "text": [
      "Tue Jun 14 09:37:11 2016    ../../output/profiles/prop2\n",
      "\n",
      "         13779389 function calls (13776987 primitive calls) in 203.436 seconds\n",
      "\n",
      "   Ordered by: cumulative time\n",
      "   List reduced from 896 to 20 due to restriction <20>\n",
      "\n",
      "   ncalls  tottime  percall  cumtime  percall filename:lineno(function)\n",
      "    129/1    0.008    0.000  203.436  203.436 {built-in method builtins.exec}\n",
      "        1    0.001    0.001  203.436  203.436 test_time.py:1(<module>)\n",
      "       28    0.193    0.007  203.163    7.256 /home/fnbellomo/Desktop/ten/ten/experiments.py:13(quenching)\n",
      "    34000   39.293    0.001  198.823    0.006 /home/fnbellomo/Desktop/ten/ten/mechanisms/mechanisms.py:29(forster)\n",
      "  2128783   32.715    0.000  158.611    0.000 /home/fnbellomo/Desktop/ten/ten/exciter.py:124(walk)\n",
      "  2315887   93.238    0.000  115.835    0.000 /home/fnbellomo/Desktop/ten/ten/utils.py:15(generate_random_points_in_sphere)\n",
      "  4512670   14.714    0.000   14.714    0.000 {method 'random_sample' of 'mtrand.RandomState' objects}\n",
      "  2247859   13.619    0.000   13.619    0.000 {built-in method builtins.sum}\n",
      "  2315887    8.803    0.000    8.803    0.000 {method 'randn' of 'mtrand.RandomState' objects}\n",
      "    34000    0.158    0.000    2.119    0.000 /home/fnbellomo/Desktop/ten/ten/nanoparticle.py:207(excite)\n",
      "    34000    0.068    0.000    2.028    0.000 /home/fnbellomo/Desktop/ten/ten/nanoparticle.py:162(doped)\n",
      "    34028    0.121    0.000    1.963    0.000 /home/fnbellomo/Desktop/ten/ten/aceptor.py:66(generate)\n",
      "    34000    0.139    0.000    1.961    0.000 /home/fnbellomo/Desktop/ten/ten/exciter.py:13(__init__)\n",
      "    34000    0.107    0.000    1.822    0.000 /home/fnbellomo/Desktop/ten/ten/exciter.py:81(laser_generated)\n",
      "    150/2    0.002    0.000    0.265    0.132 <frozen importlib._bootstrap>:966(_find_and_load)\n",
      "    150/2    0.001    0.000    0.265    0.132 <frozen importlib._bootstrap>:939(_find_and_load_unlocked)\n",
      "    142/2    0.002    0.000    0.264    0.132 <frozen importlib._bootstrap>:659(_load_unlocked)\n",
      "    121/2    0.001    0.000    0.264    0.132 <frozen importlib._bootstrap_external>:656(exec_module)\n",
      "    203/3    0.000    0.000    0.241    0.080 <frozen importlib._bootstrap>:214(_call_with_frames_removed)\n",
      "    312/1    0.001    0.000    0.236    0.236 {built-in method builtins.__import__}\n",
      "\n",
      "\n"
     ]
    },
    {
     "data": {
      "text/plain": [
       "<pstats.Stats at 0x7f69ac2edd30>"
      ]
     },
     "execution_count": 3,
     "metadata": {},
     "output_type": "execute_result"
    }
   ],
   "source": [
    "p = pstats.Stats('../../output/profiles/prop2')\n",
    "p.sort_stats('cumulative').print_stats(20)"
   ]
  },
  {
   "cell_type": "markdown",
   "metadata": {},
   "source": [
    "Ahora no aparece. Si comparamos los tiempos totales, en el primer caso es de 352 segundos mientras que en el segundo caso es de 203 segundos. La diferencia entre estos tiempos es la función `__transfer_rate`"
   ]
  },
  {
   "cell_type": "code",
   "execution_count": 4,
   "metadata": {
    "collapsed": false
   },
   "outputs": [
    {
     "name": "stdout",
     "output_type": "stream",
     "text": [
      "Wed Jun 15 08:57:55 2016    ../../output/profiles/prop3\n",
      "\n",
      "         10237062 function calls (10234654 primitive calls) in 93.374 seconds\n",
      "\n",
      "   Ordered by: cumulative time\n",
      "   List reduced from 896 to 20 due to restriction <20>\n",
      "\n",
      "   ncalls  tottime  percall  cumtime  percall filename:lineno(function)\n",
      "    129/1    0.007    0.000   93.375   93.375 {built-in method builtins.exec}\n",
      "        1    0.001    0.001   93.375   93.375 test_time.py:1(<module>)\n",
      "       28    0.136    0.005   93.129    3.326 /home/fnbellomo/Desktop/ten/ten/experiments.py:13(quenching)\n",
      "    35500   33.268    0.001   92.262    0.003 /home/fnbellomo/Desktop/ten/ten/mechanisms/mechanisms.py:29(forster)\n",
      "  2333560   34.981    0.000   58.027    0.000 /home/fnbellomo/Desktop/ten/ten/exciter.py:124(walk)\n",
      "  2576240   13.651    0.000   13.651    0.000 {built-in method builtins.sum}\n",
      "  2647268    9.690    0.000    9.724    0.000 /home/fnbellomo/Desktop/ten/ten/utils.py:17(generate_random_points_in_sphere)\n",
      "  2404560    0.967    0.000    0.967    0.000 {method 'random_sample' of 'mtrand.RandomState' objects}\n",
      "    35500    0.106    0.000    0.388    0.000 /home/fnbellomo/Desktop/ten/ten/nanoparticle.py:207(excite)\n",
      "    35500    0.053    0.000    0.343    0.000 /home/fnbellomo/Desktop/ten/ten/nanoparticle.py:162(doped)\n",
      "    35528    0.074    0.000    0.291    0.000 /home/fnbellomo/Desktop/ten/ten/aceptor.py:66(generate)\n",
      "    35500    0.094    0.000    0.283    0.000 /home/fnbellomo/Desktop/ten/ten/exciter.py:13(__init__)\n",
      "    151/2    0.002    0.000    0.240    0.120 <frozen importlib._bootstrap>:966(_find_and_load)\n",
      "    151/2    0.001    0.000    0.240    0.120 <frozen importlib._bootstrap>:939(_find_and_load_unlocked)\n",
      "    205/2    0.000    0.000    0.240    0.120 <frozen importlib._bootstrap>:214(_call_with_frames_removed)\n",
      "    143/2    0.002    0.000    0.240    0.120 <frozen importlib._bootstrap>:659(_load_unlocked)\n",
      "    121/2    0.001    0.000    0.239    0.120 <frozen importlib._bootstrap_external>:656(exec_module)\n",
      "    312/1    0.001    0.000    0.239    0.239 {built-in method builtins.__import__}\n",
      "        1    0.000    0.000    0.238    0.238 /home/fnbellomo/Desktop/ten/ten/__init__.py:1(<module>)\n",
      "        1    0.000    0.000    0.235    0.235 /home/fnbellomo/Desktop/ten/ten/nanoparticle.py:3(<module>)\n",
      "\n",
      "\n"
     ]
    },
    {
     "data": {
      "text/plain": [
       "<pstats.Stats at 0x7f69ac21b160>"
      ]
     },
     "execution_count": 4,
     "metadata": {},
     "output_type": "execute_result"
    }
   ],
   "source": [
    "p = pstats.Stats('../../output/profiles/prop3')\n",
    "p.sort_stats('cumulative').print_stats(20)"
   ]
  },
  {
   "cell_type": "code",
   "execution_count": 5,
   "metadata": {
    "collapsed": false
   },
   "outputs": [
    {
     "name": "stdout",
     "output_type": "stream",
     "text": [
      "Wed Jun 15 09:22:16 2016    ../../output/profiles/prop4\n",
      "\n",
      "         4751282 function calls (4748875 primitive calls) in 36.753 seconds\n",
      "\n",
      "   Ordered by: cumulative time\n",
      "   List reduced from 880 to 20 due to restriction <20>\n",
      "\n",
      "   ncalls  tottime  percall  cumtime  percall filename:lineno(function)\n",
      "    129/1    0.008    0.000   36.754   36.754 {built-in method builtins.exec}\n",
      "        1    0.001    0.001   36.754   36.754 test_time.py:1(<module>)\n",
      "       28    0.121    0.004   36.509    1.304 /home/fnbellomo/Desktop/ten/ten/experiments.py:13(quenching)\n",
      "    33500   28.142    0.001   35.702    0.001 /home/fnbellomo/Desktop/ten/ten/mechanisms/mechanisms.py:29(forster)\n",
      "  2176426    6.793    0.000    6.793    0.000 /home/fnbellomo/Desktop/ten/ten/exciter.py:125(walk)\n",
      "  2243426    0.767    0.000    0.767    0.000 {method 'random_sample' of 'mtrand.RandomState' objects}\n",
      "    33500    0.089    0.000    0.364    0.000 /home/fnbellomo/Desktop/ten/ten/nanoparticle.py:207(excite)\n",
      "    33500    0.050    0.000    0.322    0.000 /home/fnbellomo/Desktop/ten/ten/nanoparticle.py:162(doped)\n",
      "    67028    0.272    0.000    0.309    0.000 /home/fnbellomo/Desktop/ten/ten/utils.py:17(generate_random_points_in_sphere)\n",
      "    33500    0.092    0.000    0.275    0.000 /home/fnbellomo/Desktop/ten/ten/exciter.py:14(__init__)\n",
      "    33528    0.073    0.000    0.273    0.000 /home/fnbellomo/Desktop/ten/ten/aceptor.py:66(generate)\n",
      "    151/2    0.003    0.000    0.240    0.120 <frozen importlib._bootstrap>:966(_find_and_load)\n",
      "    151/2    0.001    0.000    0.240    0.120 <frozen importlib._bootstrap>:939(_find_and_load_unlocked)\n",
      "    204/2    0.000    0.000    0.239    0.120 <frozen importlib._bootstrap>:214(_call_with_frames_removed)\n",
      "    143/2    0.002    0.000    0.239    0.120 <frozen importlib._bootstrap>:659(_load_unlocked)\n",
      "    121/2    0.001    0.000    0.239    0.120 <frozen importlib._bootstrap_external>:656(exec_module)\n",
      "    312/1    0.001    0.000    0.239    0.239 {built-in method builtins.__import__}\n",
      "        1    0.000    0.000    0.238    0.238 /home/fnbellomo/Desktop/ten/ten/__init__.py:1(<module>)\n",
      "        1    0.000    0.000    0.235    0.235 /home/fnbellomo/Desktop/ten/ten/nanoparticle.py:3(<module>)\n",
      "        1    0.000    0.000    0.212    0.212 /home/fnbellomo/anaconda3/lib/python3.5/site-packages/numpy/__init__.py:106(<module>)\n",
      "\n",
      "\n"
     ]
    },
    {
     "data": {
      "text/plain": [
       "<pstats.Stats at 0x7f69ac21bda0>"
      ]
     },
     "execution_count": 5,
     "metadata": {},
     "output_type": "execute_result"
    }
   ],
   "source": [
    "p = pstats.Stats('../../output/profiles/prop4')\n",
    "p.sort_stats('cumulative').print_stats(20)"
   ]
  },
  {
   "cell_type": "code",
   "execution_count": null,
   "metadata": {
    "collapsed": true
   },
   "outputs": [],
   "source": []
  }
 ],
 "metadata": {
  "kernelspec": {
   "display_name": "Python 3",
   "language": "python",
   "name": "python3"
  },
  "language_info": {
   "codemirror_mode": {
    "name": "ipython",
    "version": 3
   },
   "file_extension": ".py",
   "mimetype": "text/x-python",
   "name": "python",
   "nbconvert_exporter": "python",
   "pygments_lexer": "ipython3",
   "version": "3.5.1"
  }
 },
 "nbformat": 4,
 "nbformat_minor": 0
}
