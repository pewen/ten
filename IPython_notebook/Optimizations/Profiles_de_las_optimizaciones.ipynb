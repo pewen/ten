{
 "cells": [
  {
   "cell_type": "markdown",
   "metadata": {},
   "source": [
    "# Python + Fortran90\n",
    "\n",
    "Luego de realizar varias optimizaciones en los algoritmos utilizados en las simulaciones, decidimos migrar algunas pocas funciones a Fortran90. \n",
    "\n",
    "En este notebook se muestran los distintos profiles obtenidos con estas nuevas funciones. En los profiles solo se van a mostrar 20 funciones ordenas en orden decresiente de tiempo computacional."
   ]
  },
  {
   "cell_type": "code",
   "execution_count": 1,
   "metadata": {
    "collapsed": true
   },
   "outputs": [],
   "source": [
    "import pstats"
   ]
  },
  {
   "cell_type": "markdown",
   "metadata": {},
   "source": [
    "## Primera versión del código\n",
    "\n",
    "Escrita totalmente en python."
   ]
  },
  {
   "cell_type": "code",
   "execution_count": 2,
   "metadata": {
    "collapsed": false
   },
   "outputs": [
    {
     "name": "stdout",
     "output_type": "stream",
     "text": [
      "Mon Jun 13 16:15:04 2016    data/prop\n",
      "\n",
      "         21748402 function calls (21746006 primitive calls) in 351.969 seconds\n",
      "\n",
      "   Ordered by: internal time\n",
      "   List reduced from 881 to 20 due to restriction <20>\n",
      "\n",
      "   ncalls  tottime  percall  cumtime  percall filename:lineno(function)\n",
      "  4191930  124.165    0.000  166.385    0.000 /home/fnbellomo/Desktop/ten/ten/mechanisms.py:162(__transfer_rate)\n",
      "  2246171   90.432    0.000  112.874    0.000 /home/fnbellomo/Desktop/ten/ten/utils.py:15(generate_random_points_in_sphere)\n",
      "  6371073   53.849    0.000   53.849    0.000 {built-in method builtins.sum}\n",
      "  2062465   31.399    0.000  152.377    0.000 /home/fnbellomo/Desktop/ten/ten/exciter.py:124(walk)\n",
      "    33500   27.871    0.001  347.449    0.010 /home/fnbellomo/Desktop/ten/ten/mechanisms.py:27(forster)\n",
      "  4375636   14.586    0.000   14.586    0.000 {method 'random_sample' of 'mtrand.RandomState' objects}\n",
      "  2246171    8.672    0.000    8.672    0.000 {method 'randn' of 'mtrand.RandomState' objects}\n",
      "       28    0.177    0.006  351.706   12.561 /home/fnbellomo/Desktop/ten/ten/experiments.py:13(quenching)\n",
      "    33500    0.146    0.000    2.071    0.000 /home/fnbellomo/Desktop/ten/ten/nanoparticle.py:207(excite)\n",
      "    33500    0.127    0.000    1.925    0.000 /home/fnbellomo/Desktop/ten/ten/exciter.py:13(__init__)\n",
      "    33528    0.114    0.000    1.942    0.000 /home/fnbellomo/Desktop/ten/ten/aceptor.py:66(generate)\n",
      "    33500    0.101    0.000    1.798    0.000 /home/fnbellomo/Desktop/ten/ten/exciter.py:81(laser_generated)\n",
      "    33500    0.070    0.000    2.009    0.000 /home/fnbellomo/Desktop/ten/ten/nanoparticle.py:162(doped)\n",
      "    17/16    0.050    0.003    0.056    0.004 {built-in method _imp.create_dynamic}\n",
      "      120    0.035    0.000    0.035    0.000 {built-in method marshal.loads}\n",
      "  305/303    0.013    0.000    0.028    0.000 {built-in method builtins.__build_class__}\n",
      "    128/1    0.008    0.000  351.970  351.970 {built-in method builtins.exec}\n",
      "      262    0.007    0.000    0.026    0.000 <frozen importlib._bootstrap_external>:1212(find_spec)\n",
      "      578    0.007    0.000    0.007    0.000 {built-in method posix.stat}\n",
      "      120    0.005    0.000    0.008    0.000 <frozen importlib._bootstrap_external>:813(get_data)\n",
      "\n",
      "\n"
     ]
    },
    {
     "data": {
      "text/plain": [
       "<pstats.Stats at 0x7f2e3460e898>"
      ]
     },
     "execution_count": 2,
     "metadata": {},
     "output_type": "execute_result"
    }
   ],
   "source": [
    "p = pstats.Stats('data/prop')\n",
    "p.sort_stats('tottime').print_stats(20)"
   ]
  },
  {
   "cell_type": "markdown",
   "metadata": {},
   "source": [
    "Podemos observar que la función `__transfer_rate` (que calcula la taza de transferencia del exiton a cualquier aceptor mediante un mecanismo de forster) tarda 124 seg. Es la función que más tiempo acumula durante toda la corrida.\n",
    "Notar que esta verción original **tarda 352 seg**.\n",
    "\n",
    "## Transfer en Fortran\n",
    "\n",
    "Ahora, la misma simulación, pero con esta función implementada en Fortran90"
   ]
  },
  {
   "cell_type": "code",
   "execution_count": 3,
   "metadata": {
    "collapsed": false
   },
   "outputs": [
    {
     "name": "stdout",
     "output_type": "stream",
     "text": [
      "Tue Jun 14 09:37:11 2016    data/prop2\n",
      "\n",
      "         13779389 function calls (13776987 primitive calls) in 203.436 seconds\n",
      "\n",
      "   Ordered by: internal time\n",
      "   List reduced from 896 to 20 due to restriction <20>\n",
      "\n",
      "   ncalls  tottime  percall  cumtime  percall filename:lineno(function)\n",
      "  2315887   93.238    0.000  115.835    0.000 /home/fnbellomo/Desktop/ten/ten/utils.py:15(generate_random_points_in_sphere)\n",
      "    34000   39.293    0.001  198.823    0.006 /home/fnbellomo/Desktop/ten/ten/mechanisms/mechanisms.py:29(forster)\n",
      "  2128783   32.715    0.000  158.611    0.000 /home/fnbellomo/Desktop/ten/ten/exciter.py:124(walk)\n",
      "  4512670   14.714    0.000   14.714    0.000 {method 'random_sample' of 'mtrand.RandomState' objects}\n",
      "  2247859   13.619    0.000   13.619    0.000 {built-in method builtins.sum}\n",
      "  2315887    8.803    0.000    8.803    0.000 {method 'randn' of 'mtrand.RandomState' objects}\n",
      "       28    0.193    0.007  203.163    7.256 /home/fnbellomo/Desktop/ten/ten/experiments.py:13(quenching)\n",
      "    34000    0.158    0.000    2.119    0.000 /home/fnbellomo/Desktop/ten/ten/nanoparticle.py:207(excite)\n",
      "    34000    0.139    0.000    1.961    0.000 /home/fnbellomo/Desktop/ten/ten/exciter.py:13(__init__)\n",
      "    34028    0.121    0.000    1.963    0.000 /home/fnbellomo/Desktop/ten/ten/aceptor.py:66(generate)\n",
      "    34000    0.107    0.000    1.822    0.000 /home/fnbellomo/Desktop/ten/ten/exciter.py:81(laser_generated)\n",
      "    34000    0.068    0.000    2.028    0.000 /home/fnbellomo/Desktop/ten/ten/nanoparticle.py:162(doped)\n",
      "      120    0.034    0.000    0.034    0.000 {built-in method marshal.loads}\n",
      "    18/17    0.034    0.002    0.041    0.002 {built-in method _imp.create_dynamic}\n",
      "      122    0.026    0.000    0.026    0.000 {method 'read' of '_io.FileIO' objects}\n",
      "  305/303    0.013    0.000    0.029    0.000 {built-in method builtins.__build_class__}\n",
      "    129/1    0.008    0.000  203.436  203.436 {built-in method builtins.exec}\n",
      "      264    0.007    0.000    0.026    0.000 <frozen importlib._bootstrap_external>:1212(find_spec)\n",
      "      589    0.006    0.000    0.006    0.000 {built-in method posix.stat}\n",
      "      122    0.005    0.000    0.030    0.000 <frozen importlib._bootstrap_external>:813(get_data)\n",
      "\n",
      "\n"
     ]
    },
    {
     "data": {
      "text/plain": [
       "<pstats.Stats at 0x7f2e345b0c50>"
      ]
     },
     "execution_count": 3,
     "metadata": {},
     "output_type": "execute_result"
    }
   ],
   "source": [
    "p = pstats.Stats('data/prop2')\n",
    "p.sort_stats('tottime').print_stats(20)"
   ]
  },
  {
   "cell_type": "markdown",
   "metadata": {},
   "source": [
    "Esta nueva función no alcanza a rankear entre las 20 funciones más costosas. Ademas, el método `{built-in method builtins.sum}` tambien redujo dastricamente su tiempo (de 53 seg a 13 seg).\n",
    "Si comparamos los tiempos totales, en el primer caso es de 352 segundos mientras que en el segundo caso es de 203 segundos. \n",
    "\n",
    "Esta nueva implementación demora **57% de la versión original**.\n",
    "\n",
    "## Generando puntos aleatorios desde Fortran\n",
    "\n",
    "Ahora migramos la función encargada de generar puntos aleatorios en una esfera. Esta función se utiliza para crear la posición inicial de los aceptores, del exiton y también se utiliza para realizar el random walk."
   ]
  },
  {
   "cell_type": "code",
   "execution_count": 4,
   "metadata": {
    "collapsed": false
   },
   "outputs": [
    {
     "name": "stdout",
     "output_type": "stream",
     "text": [
      "Wed Jun 15 08:57:55 2016    data/prop3\n",
      "\n",
      "         10237062 function calls (10234654 primitive calls) in 93.374 seconds\n",
      "\n",
      "   Ordered by: internal time\n",
      "   List reduced from 896 to 20 due to restriction <20>\n",
      "\n",
      "   ncalls  tottime  percall  cumtime  percall filename:lineno(function)\n",
      "  2333560   34.981    0.000   58.027    0.000 /home/fnbellomo/Desktop/ten/ten/exciter.py:124(walk)\n",
      "    35500   33.268    0.001   92.262    0.003 /home/fnbellomo/Desktop/ten/ten/mechanisms/mechanisms.py:29(forster)\n",
      "  2576240   13.651    0.000   13.651    0.000 {built-in method builtins.sum}\n",
      "  2647268    9.690    0.000    9.724    0.000 /home/fnbellomo/Desktop/ten/ten/utils.py:17(generate_random_points_in_sphere)\n",
      "  2404560    0.967    0.000    0.967    0.000 {method 'random_sample' of 'mtrand.RandomState' objects}\n",
      "       28    0.136    0.005   93.129    3.326 /home/fnbellomo/Desktop/ten/ten/experiments.py:13(quenching)\n",
      "    35500    0.106    0.000    0.388    0.000 /home/fnbellomo/Desktop/ten/ten/nanoparticle.py:207(excite)\n",
      "    35500    0.094    0.000    0.283    0.000 /home/fnbellomo/Desktop/ten/ten/exciter.py:13(__init__)\n",
      "    35500    0.076    0.000    0.188    0.000 /home/fnbellomo/Desktop/ten/ten/exciter.py:81(laser_generated)\n",
      "    35528    0.074    0.000    0.291    0.000 /home/fnbellomo/Desktop/ten/ten/aceptor.py:66(generate)\n",
      "    35500    0.053    0.000    0.343    0.000 /home/fnbellomo/Desktop/ten/ten/nanoparticle.py:162(doped)\n",
      "      120    0.034    0.000    0.034    0.000 {built-in method marshal.loads}\n",
      "    19/18    0.034    0.002    0.041    0.002 {built-in method _imp.create_dynamic}\n",
      "     8000    0.034    0.000    0.034    0.000 {method 'randn' of 'mtrand.RandomState' objects}\n",
      "  305/303    0.013    0.000    0.028    0.000 {built-in method builtins.__build_class__}\n",
      "    129/1    0.007    0.000   93.375   93.375 {built-in method builtins.exec}\n",
      "      265    0.007    0.000    0.026    0.000 <frozen importlib._bootstrap_external>:1212(find_spec)\n",
      "      591    0.006    0.000    0.006    0.000 {built-in method posix.stat}\n",
      "      122    0.005    0.000    0.009    0.000 <frozen importlib._bootstrap_external>:813(get_data)\n",
      "      122    0.004    0.000    0.004    0.000 {method 'read' of '_io.FileIO' objects}\n",
      "\n",
      "\n"
     ]
    },
    {
     "data": {
      "text/plain": [
       "<pstats.Stats at 0x7f2e344e00b8>"
      ]
     },
     "execution_count": 4,
     "metadata": {},
     "output_type": "execute_result"
    }
   ],
   "source": [
    "p = pstats.Stats('data/prop3')\n",
    "p.sort_stats('tottime').print_stats(20)"
   ]
  },
  {
   "cell_type": "markdown",
   "metadata": {},
   "source": [
    "Si bien la función `walk` continua estando entre las que más tarda, ahora tarda un 10% de la función original. Ademas, los métodos `{method 'random_sample' of 'mtrand.RandomState' objects}` y `{method 'randn' of 'mtrand.RandomState' objects}` tambien redujeron sus tiempos de ejecución.\n",
    "\n",
    "Esta segunda implementación demora **26% de la versión original**.\n",
    "\n",
    "## La caminata\n",
    "\n",
    "Migrando el random walk a Fortran obtenemos"
   ]
  },
  {
   "cell_type": "code",
   "execution_count": 5,
   "metadata": {
    "collapsed": false
   },
   "outputs": [
    {
     "name": "stdout",
     "output_type": "stream",
     "text": [
      "Wed Jun 15 09:22:16 2016    data/prop4\n",
      "\n",
      "         4751282 function calls (4748875 primitive calls) in 36.753 seconds\n",
      "\n",
      "   Ordered by: internal time\n",
      "   List reduced from 880 to 20 due to restriction <20>\n",
      "\n",
      "   ncalls  tottime  percall  cumtime  percall filename:lineno(function)\n",
      "    33500   28.142    0.001   35.702    0.001 /home/fnbellomo/Desktop/ten/ten/mechanisms/mechanisms.py:29(forster)\n",
      "  2176426    6.793    0.000    6.793    0.000 /home/fnbellomo/Desktop/ten/ten/exciter.py:125(walk)\n",
      "  2243426    0.767    0.000    0.767    0.000 {method 'random_sample' of 'mtrand.RandomState' objects}\n",
      "    67028    0.272    0.000    0.309    0.000 /home/fnbellomo/Desktop/ten/ten/utils.py:17(generate_random_points_in_sphere)\n",
      "       28    0.121    0.004   36.509    1.304 /home/fnbellomo/Desktop/ten/ten/experiments.py:13(quenching)\n",
      "    33500    0.092    0.000    0.275    0.000 /home/fnbellomo/Desktop/ten/ten/exciter.py:14(__init__)\n",
      "    33500    0.089    0.000    0.364    0.000 /home/fnbellomo/Desktop/ten/ten/nanoparticle.py:207(excite)\n",
      "    33500    0.075    0.000    0.183    0.000 /home/fnbellomo/Desktop/ten/ten/exciter.py:82(laser_generated)\n",
      "    33528    0.073    0.000    0.273    0.000 /home/fnbellomo/Desktop/ten/ten/aceptor.py:66(generate)\n",
      "    33500    0.050    0.000    0.322    0.000 /home/fnbellomo/Desktop/ten/ten/nanoparticle.py:162(doped)\n",
      "     9000    0.037    0.000    0.037    0.000 {method 'randn' of 'mtrand.RandomState' objects}\n",
      "      121    0.034    0.000    0.034    0.000 {built-in method marshal.loads}\n",
      "    19/18    0.034    0.002    0.041    0.002 {built-in method _imp.create_dynamic}\n",
      "  305/303    0.013    0.000    0.028    0.000 {built-in method builtins.__build_class__}\n",
      "    129/1    0.008    0.000   36.754   36.754 {built-in method builtins.exec}\n",
      "      265    0.007    0.000    0.026    0.000 <frozen importlib._bootstrap_external>:1212(find_spec)\n",
      "      589    0.006    0.000    0.006    0.000 {built-in method posix.stat}\n",
      "      121    0.005    0.000    0.009    0.000 <frozen importlib._bootstrap_external>:813(get_data)\n",
      "       68    0.004    0.000    0.006    0.000 /home/fnbellomo/anaconda3/lib/python3.5/sre_compile.py:248(_optimize_charset)\n",
      "    84/26    0.004    0.000    0.010    0.000 /home/fnbellomo/anaconda3/lib/python3.5/sre_parse.py:491(_parse)\n",
      "\n",
      "\n"
     ]
    },
    {
     "data": {
      "text/plain": [
       "<pstats.Stats at 0x7f2e344e0a58>"
      ]
     },
     "execution_count": 5,
     "metadata": {},
     "output_type": "execute_result"
    }
   ],
   "source": [
    "p = pstats.Stats('data/prop4')\n",
    "p.sort_stats('tottime').print_stats(20)"
   ]
  },
  {
   "cell_type": "markdown",
   "metadata": {},
   "source": [
    "De donde **walk** pasa de tardar 34 seg a 6 seg. Ademas, varias métodos internos desaparecen.\n",
    "\n",
    "Con la migración de esta terceer función, la simulación demora **10% de la versión original**.\n",
    "\n",
    "##  Mecanismo de transferencia\n",
    "\n",
    "Ahora, la implementación total del mecanismo de trasferencia es en Fortran"
   ]
  },
  {
   "cell_type": "code",
   "execution_count": 6,
   "metadata": {
    "collapsed": false
   },
   "outputs": [
    {
     "name": "stdout",
     "output_type": "stream",
     "text": [
      "Wed Jun 15 17:22:12 2016    data/prop5\n",
      "\n",
      "         330851 function calls (328444 primitive calls) in 8.106 seconds\n",
      "\n",
      "   Ordered by: internal time\n",
      "   List reduced from 878 to 20 due to restriction <20>\n",
      "\n",
      "   ncalls  tottime  percall  cumtime  percall filename:lineno(function)\n",
      "    33500    7.141    0.000    7.141    0.000 ../../ten/mechanisms/mechanisms.py:29(forsterF90)\n",
      "    67028    0.250    0.000    0.281    0.000 ../../ten/utils.py:17(generate_random_points_in_sphere)\n",
      "       28    0.108    0.004    7.868    0.281 ../../ten/experiments.py:13(quenching)\n",
      "    33500    0.084    0.000    0.329    0.000 ../../ten/nanoparticle.py:207(excite)\n",
      "    33500    0.079    0.000    0.245    0.000 ../../ten/exciter.py:12(__init__)\n",
      "    33500    0.065    0.000    0.165    0.000 ../../ten/exciter.py:80(laser_generated)\n",
      "    33528    0.064    0.000    0.245    0.000 ../../ten/aceptor.py:66(generate)\n",
      "    33500    0.046    0.000    0.290    0.000 ../../ten/nanoparticle.py:162(doped)\n",
      "      121    0.034    0.000    0.034    0.000 {built-in method marshal.loads}\n",
      "    19/18    0.033    0.002    0.040    0.002 {built-in method _imp.create_dynamic}\n",
      "     8000    0.032    0.000    0.032    0.000 {method 'randn' of 'mtrand.RandomState' objects}\n",
      "  305/303    0.013    0.000    0.028    0.000 {built-in method builtins.__build_class__}\n",
      "    129/1    0.007    0.000    8.106    8.106 {built-in method builtins.exec}\n",
      "      274    0.007    0.000    0.026    0.000 <frozen importlib._bootstrap_external>:1212(find_spec)\n",
      "      599    0.006    0.000    0.006    0.000 {built-in method posix.stat}\n",
      "      121    0.005    0.000    0.008    0.000 <frozen importlib._bootstrap_external>:813(get_data)\n",
      "       68    0.004    0.000    0.005    0.000 /home/fnbellomo/anaconda3/lib/python3.5/sre_compile.py:248(_optimize_charset)\n",
      "      121    0.004    0.000    0.004    0.000 <frozen importlib._bootstrap_external>:416(_validate_bytecode_header)\n",
      "      334    0.003    0.000    0.004    0.000 <frozen importlib._bootstrap>:94(acquire)\n",
      "      121    0.003    0.000    0.003    0.000 {method 'read' of '_io.FileIO' objects}\n",
      "\n",
      "\n"
     ]
    },
    {
     "data": {
      "text/plain": [
       "<pstats.Stats at 0x7f2e34462cc0>"
      ]
     },
     "execution_count": 6,
     "metadata": {},
     "output_type": "execute_result"
    }
   ],
   "source": [
    "p = pstats.Stats('data/prop5')\n",
    "p.sort_stats('tottime').print_stats(20)"
   ]
  },
  {
   "cell_type": "markdown",
   "metadata": {},
   "source": [
    "El tiempo de `walk` y `forster` están sumados en una sola función (`forsterF90`) que es la que más tiempo insume. Entonces, la mayor parte del tiempo de esta implementación es debido a `walk`.\n",
    "\n",
    "Esta última implementación demora **2% de la versión original**."
   ]
  },
  {
   "cell_type": "code",
   "execution_count": 7,
   "metadata": {
    "collapsed": false
   },
   "outputs": [
    {
     "data": {
      "text/html": [
       "<link href='http://fonts.googleapis.com/css?family=Alegreya+Sans:100,300,400,500,700,800,900,100italic,300italic,400italic,500italic,700italic,800italic,900italic' rel='stylesheet' type='text/css'>\n",
       "<link href='http://fonts.googleapis.com/css?family=Arvo:400,700,400italic' rel='stylesheet' type='text/css'>\n",
       "<link href='http://fonts.googleapis.com/css?family=PT+Mono' rel='stylesheet' type='text/css'>\n",
       "<link href='http://fonts.googleapis.com/css?family=Shadows+Into+Light' rel='stylesheet' type='text/css'>\n",
       "<link href='http://fonts.googleapis.com/css?family=Nixie+One' rel='stylesheet' type='text/css'>\n",
       "\n",
       "<style>\n",
       "@font-face {\n",
       "    font-family: \"Computer Modern\";\n",
       "    src: url('http://mirrors.ctan.org/fonts/cm-unicode/fonts/otf/cmunss.otf');\n",
       "}\n",
       "\n",
       "/* main background */\n",
       "#notebook_panel {\n",
       "    background: rgb(245,245,245);\n",
       "}\n",
       "\n",
       "/* centre the content */\n",
       "div #notebook {\n",
       "    background: #fff; /* white background for content */\n",
       "    width: 100%;\n",
       "    margin-right: 0px;\n",
       "    margin-left: 0px;\n",
       "    padding-left: 0em;\n",
       "}\n",
       "\n",
       "/* More space between bullet points */\n",
       "#notebook li {\n",
       "    margin-top:0.8em;\n",
       "}\n",
       "\n",
       "/* set cell width */\n",
       "div.cell {\n",
       "    width: 95%;\n",
       "}\n",
       "\n",
       "/* draw border around running cells */\n",
       "div.cell.border-box-sizing.code_cell.running {\n",
       "    border: 1px solid #111;\n",
       "}\n",
       "\n",
       "/* Put a solid color box around each cell and its output, \n",
       "   visually linking them*/\n",
       "div.cell.code_cell {\n",
       "    background-color: rgb(256,256,256);\n",
       "    border-radius: 0px;\n",
       "    padding: 0.5em;\n",
       "    margin-left:1em;\n",
       "    margin-top: 1em;\n",
       "}\n",
       "\n",
       "div.text_cell_render{\n",
       "    font-family: 'Alegreya Sans' sans-serif;\n",
       "    line-height: 140%;\n",
       "    font-size: 145%;\n",
       "    font-weight: 400;\n",
       "    margin-left:0px;\n",
       "    margin-right:0px;\n",
       "}\n",
       "\n",
       "/* Formatting for header cells */\n",
       ".text_cell_render h1 {\n",
       "    font-family: 'Nixie One', serif;\n",
       "    font-style:regular;\n",
       "    font-weight: 400;\n",
       "    font-size: 45pt;\n",
       "    line-height: 100%;\n",
       "    color: rgb(0,51,102);\n",
       "    margin-bottom: 0.5em;\n",
       "    margin-top: 0.5em;\n",
       "    display: block;\n",
       "}\n",
       "\n",
       ".text_cell_render h2 {\n",
       "    font-family: 'Nixie One', serif;\n",
       "    font-weight: 400;\n",
       "    font-size: 30pt;\n",
       "    line-height: 100%;\n",
       "    color: rgb(0,51,102);\n",
       "    margin-bottom: 0.1em;\n",
       "    margin-top: 0.3em;\n",
       "    display: block;\n",
       "}\n",
       "\n",
       ".text_cell_render h3 {\n",
       "    font-family: 'Nixie One', serif;\n",
       "    margin-top:16px;\n",
       "    font-size: 22pt;\n",
       "    font-weight: 600;\n",
       "    margin-bottom: 3px;\n",
       "    font-style: regular;\n",
       "    color: rgb(102,102,0);\n",
       "}\n",
       "\n",
       ".text_cell_render h4 { /*Use this for captions*/\n",
       "    font-family: 'Nixie One', serif;\n",
       "    font-size: 14pt;\n",
       "    text-align: center;\n",
       "    margin-top: 0em;\n",
       "    margin-bottom: 2em;\n",
       "    font-style: regular;\n",
       "}\n",
       "\n",
       ".text_cell_render h5 { /*Use this for small titles*/\n",
       "    font-family: 'Nixie One', sans-serif;\n",
       "    font-weight: 400;\n",
       "    font-size: 16pt;\n",
       "    color: rgb(163,0,0);\n",
       "    font-style: italic;\n",
       "    margin-bottom: .1em;\n",
       "    margin-top: 0.8em;\n",
       "    display: block;\n",
       "}\n",
       "\n",
       ".text_cell_render h6 { /*use this for copyright note*/\n",
       "    font-family: 'PT Mono', sans-serif;\n",
       "    font-weight: 300;\n",
       "    font-size: 9pt;\n",
       "    line-height: 100%;\n",
       "    color: grey;\n",
       "    margin-bottom: 1px;\n",
       "    margin-top: 1px;\n",
       "}\n",
       "\n",
       ".CodeMirror{\n",
       "    font-family: \"PT Mono\";\n",
       "    font-size: 100%;\n",
       "}\n",
       "\n",
       "</style>\n",
       "\n",
       "<script type=\"text/x-mathjax-config\">\n",
       "MathJax.Hub.Config({\n",
       "\t\t      TeX: {\n",
       "\t\t      extensions: [\"AMSmath.js\"],\n",
       "\t\t      equationNumbers: { autoNumber: \"AMS\", useLabelIds: true}\n",
       "\t\t  },\n",
       "\t\t      tex2jax: {\n",
       "\t\t\t  inlineMath: [ ['$','$'], [\"\\\\(\",\"\\\\)\"] ],\n",
       "\t\t\t  displayMath: [ ['$$','$$'], [\"\\\\[\",\"\\\\]\"] ],\n",
       "\t\t\t  processEscapes: true,\n",
       "\t\t\t  processEnvironments: true\n",
       "\t\t      },\n",
       "\t\t      displayAlign: 'center',\n",
       "\t\t      \"HTML-CSS\": {\n",
       "\t\t\t  styles: {'.MathJax_Display': {\"margin\": 4}}\n",
       "\t\t      }\n",
       "\t\t  });\n",
       "</script>"
      ],
      "text/plain": [
       "<IPython.core.display.HTML object>"
      ]
     },
     "execution_count": 7,
     "metadata": {},
     "output_type": "execute_result"
    }
   ],
   "source": [
    "#Este css es trabajo de @LorenaABarba y su grupo\n",
    "from IPython.core.display import HTML\n",
    "css_file = '../css/personal.css'\n",
    "HTML(open(css_file, \"r\").read())"
   ]
  },
  {
   "cell_type": "markdown",
   "metadata": {},
   "source": [
    "##### Licencia\n",
    "El código esta licenciado bajo MIT.\n",
    "\n",
    "La documentación bajo:\n",
    "\n",
    "<a rel=\"license\" href=\"http://creativecommons.org/licenses/by/4.0/\"><img alt=\"Creative Commons License\" style=\"border-width:0\" src=\"https://i.creativecommons.org/l/by/4.0/88x31.png\" /></a><br /><span xmlns:dct=\"http://purl.org/dc/terms/\" property=\"dct:title\">TEN</span> by <span xmlns:cc=\"http://creativecommons.org/ns#\" property=\"cc:attributionName\">Laboratorio de Microscopia Óptica Avanzada - UNRC</span> is licensed under a <a rel=\"license\" href=\"http://creativecommons.org/licenses/by/4.0/\">Creative Commons Attribution 4.0 International License</a>.<br />Based on a work at <a xmlns:dct=\"http://purl.org/dc/terms/\" href=\"https://github.com/pewen/ten\" rel=\"dct:source\">https://github.com/pewen/ten</a>"
   ]
  }
 ],
 "metadata": {
  "kernelspec": {
   "display_name": "Python 3",
   "language": "python",
   "name": "python3"
  },
  "language_info": {
   "codemirror_mode": {
    "name": "ipython",
    "version": 3
   },
   "file_extension": ".py",
   "mimetype": "text/x-python",
   "name": "python",
   "nbconvert_exporter": "python",
   "pygments_lexer": "ipython3",
   "version": "3.5.1"
  }
 },
 "nbformat": 4,
 "nbformat_minor": 0
}
