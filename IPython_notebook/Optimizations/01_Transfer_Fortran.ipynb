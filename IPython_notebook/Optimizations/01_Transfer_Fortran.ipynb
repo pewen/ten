{
 "cells": [
  {
   "cell_type": "code",
   "execution_count": 1,
   "metadata": {
    "collapsed": true
   },
   "outputs": [],
   "source": [
    "import sys\n",
    "\n",
    "sys.path.append('../../')"
   ]
  },
  {
   "cell_type": "code",
   "execution_count": 2,
   "metadata": {
    "collapsed": false
   },
   "outputs": [],
   "source": [
    "from ten.nanoparticle import Nanoparticle\n",
    "from ten.aceptor import Aceptor\n",
    "import ten.experiments as experiments\n",
    "\n",
    "from ten.mechanisms import transferF90"
   ]
  },
  {
   "cell_type": "code",
   "execution_count": 3,
   "metadata": {
    "collapsed": false
   },
   "outputs": [
    {
     "name": "stdout",
     "output_type": "stream",
     "text": [
      "rate = transfer_rate(exiton,aceptors,tau_d,r_forster,[m])\n",
      "\n",
      "Wrapper for ``transfer_rate``.\n",
      "\n",
      "Parameters\n",
      "----------\n",
      "exiton : input rank-1 array('d') with bounds (3)\n",
      "aceptors : input rank-2 array('d') with bounds (m,3)\n",
      "tau_d : input float\n",
      "r_forster : input float\n",
      "\n",
      "Other Parameters\n",
      "----------------\n",
      "m : input int, optional\n",
      "    Default: shape(aceptors,0)\n",
      "\n",
      "Returns\n",
      "-------\n",
      "rate : float\n",
      "\n"
     ]
    }
   ],
   "source": [
    "print(transferF90.transfer_rate.__doc__)"
   ]
  },
  {
   "cell_type": "code",
   "execution_count": 4,
   "metadata": {
    "collapsed": true
   },
   "outputs": [],
   "source": [
    "# Implementacion original en python\n",
    "\n",
    "def transfer_py(exiton_pos, aceptors_pos, tau_d, r_forster):\n",
    "    # constente usa para el calculo de k_et\n",
    "    cte = r_forster**6/tau_d\n",
    "\n",
    "    diff = exiton_pos - aceptors_pos\n",
    "    component_square = diff*diff\n",
    "    one_over_distance = 1/(component_square[:, 0] +\n",
    "                           component_square[:, 1] +\n",
    "                           component_square[:, 2])\n",
    "    distance_6 = one_over_distance*one_over_distance*one_over_distance\n",
    "    k = cte*sum(distance_6)\n",
    "    return(k)"
   ]
  },
  {
   "cell_type": "code",
   "execution_count": 5,
   "metadata": {
    "collapsed": true
   },
   "outputs": [],
   "source": [
    "# Dopantes propios (intrisicos) de la NP\n",
    "dopantes_propios = Aceptor(number=10, r_mechanisms=1, way='vol')\n",
    "# Dopantes que le vamos a agregar a la NP\n",
    "dopantes = Aceptor(number=500, r_mechanisms=3.14, way='vol')\n",
    "\n",
    "# Nanoparticula\n",
    "NP = Nanoparticle(r_param=[15, 0], tau_d=0.333, mean_path=80, epsilon=1, intrinsic_aceptors=dopantes_propios)\n",
    "# Dopo la NP\n",
    "NP.doped(dopantes)\n",
    "# Genero el exiton\n",
    "NP.excite('laser')"
   ]
  },
  {
   "cell_type": "code",
   "execution_count": 6,
   "metadata": {
    "collapsed": false
   },
   "outputs": [
    {
     "data": {
      "text/plain": [
       "array([-6.70457227, -1.27616068, -1.16347277])"
      ]
     },
     "execution_count": 6,
     "metadata": {},
     "output_type": "execute_result"
    }
   ],
   "source": [
    "NP.exiton.position"
   ]
  },
  {
   "cell_type": "code",
   "execution_count": 7,
   "metadata": {
    "collapsed": false
   },
   "outputs": [
    {
     "data": {
      "text/plain": [
       "(500, 3)"
      ]
     },
     "execution_count": 7,
     "metadata": {},
     "output_type": "execute_result"
    }
   ],
   "source": [
    "NP.aceptors.position.shape"
   ]
  },
  {
   "cell_type": "code",
   "execution_count": 8,
   "metadata": {
    "collapsed": false
   },
   "outputs": [
    {
     "data": {
      "text/plain": [
       "36662.964238141038"
      ]
     },
     "execution_count": 8,
     "metadata": {},
     "output_type": "execute_result"
    }
   ],
   "source": [
    "transfer_py(NP.exiton.position, NP.aceptors.position, NP.tau_d, NP.aceptors.r_mechanisms)"
   ]
  },
  {
   "cell_type": "code",
   "execution_count": 9,
   "metadata": {
    "collapsed": false
   },
   "outputs": [
    {
     "data": {
      "text/plain": [
       "36662.96423814104"
      ]
     },
     "execution_count": 9,
     "metadata": {},
     "output_type": "execute_result"
    }
   ],
   "source": [
    "transferF90.transfer_rate(NP.exiton.position, NP.aceptors.position, \n",
    "                          NP.tau_d, NP.aceptors.r_mechanisms)"
   ]
  },
  {
   "cell_type": "code",
   "execution_count": 10,
   "metadata": {
    "collapsed": false
   },
   "outputs": [
    {
     "name": "stdout",
     "output_type": "stream",
     "text": [
      "1 loop, best of 3: 1.7 s per loop\n"
     ]
    }
   ],
   "source": [
    "%%timeit\n",
    "\n",
    "for i in range(10000):\n",
    "    out1 = transfer_py(NP.exiton.position, NP.aceptors.position, NP.tau_d, NP.aceptors.r_mechanisms)"
   ]
  },
  {
   "cell_type": "code",
   "execution_count": 11,
   "metadata": {
    "collapsed": false
   },
   "outputs": [
    {
     "name": "stdout",
     "output_type": "stream",
     "text": [
      "10 loops, best of 3: 135 ms per loop\n"
     ]
    }
   ],
   "source": [
    "%%timeit\n",
    "\n",
    "for i in range(10000):\n",
    "    out2 = transferF90.transfer_rate(NP.exiton.position, NP.aceptors.position, \n",
    "                                     NP.tau_d, NP.aceptors.r_mechanisms)"
   ]
  }
 ],
 "metadata": {
  "kernelspec": {
   "display_name": "Python 3",
   "language": "python",
   "name": "python3"
  },
  "language_info": {
   "codemirror_mode": {
    "name": "ipython",
    "version": 3
   },
   "file_extension": ".py",
   "mimetype": "text/x-python",
   "name": "python",
   "nbconvert_exporter": "python",
   "pygments_lexer": "ipython3",
   "version": "3.5.1"
  }
 },
 "nbformat": 4,
 "nbformat_minor": 0
}
