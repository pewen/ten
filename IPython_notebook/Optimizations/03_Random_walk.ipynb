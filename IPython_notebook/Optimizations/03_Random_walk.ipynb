{
 "cells": [
  {
   "cell_type": "code",
   "execution_count": 1,
   "metadata": {
    "collapsed": true
   },
   "outputs": [],
   "source": [
    "import sys\n",
    "\n",
    "sys.path.append('../../')"
   ]
  },
  {
   "cell_type": "code",
   "execution_count": 2,
   "metadata": {
    "collapsed": true
   },
   "outputs": [],
   "source": [
    "from ten.nanoparticle import Nanoparticle\n",
    "from ten.aceptor import Aceptor\n",
    "from ten.random_points import points_in_sphere\n",
    "\n",
    "from ten.random_points import random_walk"
   ]
  },
  {
   "cell_type": "code",
   "execution_count": 3,
   "metadata": {
    "collapsed": true
   },
   "outputs": [],
   "source": [
    "# Original implementation\n",
    "\n",
    "import numpy as np\n",
    "\n",
    "def walk_py(position, radio, epsilon):\n",
    "        check = 1\n",
    "\n",
    "        while check == 1:\n",
    "            new_positon = points_in_sphere(1, epsilon, epsilon)[0]\n",
    "\n",
    "            distance = np.sqrt(sum((new_positon + position)**2))\n",
    "            if distance <= radio:\n",
    "                check = 0\n",
    "\n",
    "        position += new_positon\n",
    "        \n",
    "        return position"
   ]
  },
  {
   "cell_type": "code",
   "execution_count": 4,
   "metadata": {
    "collapsed": false
   },
   "outputs": [
    {
     "name": "stdout",
     "output_type": "stream",
     "text": [
      "random_walk(position,radio,epsilon)\n",
      "\n",
      "Wrapper for ``random_walk``.\n",
      "\n",
      "Parameters\n",
      "----------\n",
      "position : in/output rank-1 array('d') with bounds (3)\n",
      "radio : input float\n",
      "epsilon : input float\n",
      "\n"
     ]
    }
   ],
   "source": [
    "print(random_walk.__doc__)"
   ]
  },
  {
   "cell_type": "code",
   "execution_count": 5,
   "metadata": {
    "collapsed": false
   },
   "outputs": [
    {
     "data": {
      "text/plain": [
       "array([ -5.19228916,  13.42173575,  -4.23050147])"
      ]
     },
     "execution_count": 5,
     "metadata": {},
     "output_type": "execute_result"
    }
   ],
   "source": [
    "# Dopantes propios (intrisicos) de la NP\n",
    "dopantes_propios = Aceptor(number=10, r_mechanisms=1, way='vol')\n",
    "# Dopantes que le vamos a agregar a la NP\n",
    "dopantes = Aceptor(number=500, r_mechanisms=3.14, way='vol')\n",
    "\n",
    "# Nanoparticula\n",
    "NP = Nanoparticle(r_param=[15, 0], tau_d=0.333, mean_path=80, epsilon=1, intrinsic_aceptors=dopantes_propios)\n",
    "# Dopo la NP\n",
    "NP.doped(dopantes)\n",
    "# Genero el exiton\n",
    "NP.excite('laser')\n",
    "\n",
    "NP.exiton.position"
   ]
  },
  {
   "cell_type": "code",
   "execution_count": 6,
   "metadata": {
    "collapsed": false
   },
   "outputs": [
    {
     "name": "stdout",
     "output_type": "stream",
     "text": [
      "10 loops, best of 3: 101 ms per loop\n"
     ]
    }
   ],
   "source": [
    "%%timeit\n",
    "\n",
    "for i in range(5000):\n",
    "    walk_py(NP.exiton.position, NP.radio, NP.epsilon)"
   ]
  },
  {
   "cell_type": "code",
   "execution_count": 7,
   "metadata": {
    "collapsed": false
   },
   "outputs": [
    {
     "name": "stdout",
     "output_type": "stream",
     "text": [
      "100 loops, best of 3: 11.8 ms per loop\n"
     ]
    }
   ],
   "source": [
    "%%timeit\n",
    "\n",
    "for i in range(5000):\n",
    "    random_walk(NP.exiton.position, NP.radio, NP.epsilon)"
   ]
  },
  {
   "cell_type": "code",
   "execution_count": 8,
   "metadata": {
    "collapsed": false
   },
   "outputs": [
    {
     "data": {
      "text/plain": [
       "11.008690118119977"
      ]
     },
     "execution_count": 8,
     "metadata": {},
     "output_type": "execute_result"
    }
   ],
   "source": [
    "np.sqrt(NP.exiton.position[0]**2 + NP.exiton.position[1]**2 + NP.exiton.position[2]**2)"
   ]
  }
 ],
 "metadata": {
  "kernelspec": {
   "display_name": "Python 3",
   "language": "python",
   "name": "python3"
  },
  "language_info": {
   "codemirror_mode": {
    "name": "ipython",
    "version": 3
   },
   "file_extension": ".py",
   "mimetype": "text/x-python",
   "name": "python",
   "nbconvert_exporter": "python",
   "pygments_lexer": "ipython3",
   "version": "3.5.1"
  }
 },
 "nbformat": 4,
 "nbformat_minor": 0
}
