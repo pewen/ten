{
 "cells": [
  {
   "cell_type": "code",
   "execution_count": 1,
   "metadata": {
    "collapsed": true
   },
   "outputs": [],
   "source": [
    "import sys\n",
    "\n",
    "sys.path.append('../../')"
   ]
  },
  {
   "cell_type": "code",
   "execution_count": 2,
   "metadata": {
    "collapsed": false
   },
   "outputs": [],
   "source": [
    "import numpy as np\n",
    "\n",
    "from ten.random_points import points_in_sphere"
   ]
  },
  {
   "cell_type": "code",
   "execution_count": 3,
   "metadata": {
    "collapsed": false
   },
   "outputs": [
    {
     "name": "stdout",
     "output_type": "stream",
     "text": [
      "uniform_in_sphere = points_in_sphere(n_points,r_max,r_min)\n",
      "\n",
      "Wrapper for ``points_in_sphere``.\n",
      "\n",
      "Parameters\n",
      "----------\n",
      "n_points : input int\n",
      "r_max : input float\n",
      "r_min : input float\n",
      "\n",
      "Returns\n",
      "-------\n",
      "uniform_in_sphere : rank-2 array('d') with bounds (n_points,3)\n",
      "\n"
     ]
    }
   ],
   "source": [
    "print(points_in_sphere.__doc__)"
   ]
  },
  {
   "cell_type": "code",
   "execution_count": 4,
   "metadata": {
    "collapsed": true
   },
   "outputs": [],
   "source": [
    "# implementacion original en python\n",
    "\n",
    "def generate_random_points_in_sphere(n_points, R, r=0):\n",
    "    \"\"\"\n",
    "    Return a array with the cordenades in cartesian for a\n",
    "    point between two sphere of radio_out and radio_in.\n",
    "    If R == r points are in the surface\n",
    "\n",
    "    Parameters\n",
    "    ----------\n",
    "    n_points = int\n",
    "        Number of points in sphere\n",
    "    R : float\n",
    "        Radio max of generate\n",
    "    r : floar\n",
    "        Radio min of generate. Default \"0\"\n",
    "\n",
    "    Is not trivial generate random point in a sphere.\n",
    "    See the ipython notebook in:\n",
    "    ten/IPython_notebooks/Random_points_in_sphere.ipynb\n",
    "    to understan why we generate for this form.\n",
    "    \"\"\"\n",
    "    U = np.random.random(n_points)\n",
    "    uniform_between_R_r = (R - r) * U**(1/3) + r\n",
    "\n",
    "    X = np.random.randn(n_points, 3)\n",
    "    randoms_versors = (np.sqrt(X[:, 0]**2 + X[:, 1]**2 +\n",
    "                               X[:, 2]**2))**(-1) * X.T\n",
    "\n",
    "    points_uniform_in_sphere = randoms_versors * uniform_between_R_r\n",
    "\n",
    "    return points_uniform_in_sphere.T"
   ]
  },
  {
   "cell_type": "code",
   "execution_count": 5,
   "metadata": {
    "collapsed": true
   },
   "outputs": [],
   "source": [
    "num_points = 100\n",
    "R = 15\n",
    "r = 0"
   ]
  },
  {
   "cell_type": "code",
   "execution_count": 6,
   "metadata": {
    "collapsed": false
   },
   "outputs": [
    {
     "name": "stdout",
     "output_type": "stream",
     "text": [
      "1 loop, best of 3: 1.06 s per loop\n"
     ]
    }
   ],
   "source": [
    "%%timeit\n",
    "\n",
    "for i in range(10000):\n",
    "    generate_random_points_in_sphere(num_points, R, r)"
   ]
  },
  {
   "cell_type": "code",
   "execution_count": 7,
   "metadata": {
    "collapsed": false
   },
   "outputs": [
    {
     "name": "stdout",
     "output_type": "stream",
     "text": [
      "1 loop, best of 3: 467 ms per loop\n"
     ]
    }
   ],
   "source": [
    "%%timeit\n",
    "\n",
    "for i in range(10000):\n",
    "    points_in_sphere(num_points, R, r)"
   ]
  },
  {
   "cell_type": "code",
   "execution_count": 10,
   "metadata": {
    "collapsed": false
   },
   "outputs": [
    {
     "data": {
      "text/plain": [
       "array([[  5.34164284, -12.84543762,   5.60906267]])"
      ]
     },
     "execution_count": 10,
     "metadata": {},
     "output_type": "execute_result"
    }
   ],
   "source": [
    "out = points_in_sphere(1, R, r)\n",
    "out"
   ]
  },
  {
   "cell_type": "code",
   "execution_count": 12,
   "metadata": {
    "collapsed": false
   },
   "outputs": [
    {
     "data": {
      "text/plain": [
       "array([], shape=(0, 3), dtype=float64)"
      ]
     },
     "execution_count": 12,
     "metadata": {},
     "output_type": "execute_result"
    }
   ],
   "source": [
    "a = generate_random_points_in_sphere(0,R, r)\n",
    "a"
   ]
  },
  {
   "cell_type": "code",
   "execution_count": 16,
   "metadata": {
    "collapsed": false
   },
   "outputs": [
    {
     "ename": "TypeError",
     "evalue": "an integer is required (got type tuple)",
     "output_type": "error",
     "traceback": [
      "\u001b[1;31m---------------------------------------------------------------------------\u001b[0m",
      "\u001b[1;31mTypeError\u001b[0m                                 Traceback (most recent call last)",
      "\u001b[1;32m<ipython-input-16-e9aade32c29c>\u001b[0m in \u001b[0;36m<module>\u001b[1;34m()\u001b[0m\n\u001b[1;32m----> 1\u001b[1;33m \u001b[0mnp\u001b[0m\u001b[1;33m.\u001b[0m\u001b[0marray\u001b[0m\u001b[1;33m(\u001b[0m\u001b[1;33m[\u001b[0m\u001b[1;33m]\u001b[0m\u001b[1;33m,\u001b[0m \u001b[0mndmin\u001b[0m\u001b[1;33m=\u001b[0m\u001b[1;33m(\u001b[0m\u001b[1;36m0\u001b[0m\u001b[1;33m,\u001b[0m\u001b[1;36m3\u001b[0m\u001b[1;33m)\u001b[0m\u001b[1;33m)\u001b[0m\u001b[1;33m\u001b[0m\u001b[0m\n\u001b[0m",
      "\u001b[1;31mTypeError\u001b[0m: an integer is required (got type tuple)"
     ]
    }
   ],
   "source": [
    "np.array([], ndmin=(0,3))"
   ]
  },
  {
   "cell_type": "code",
   "execution_count": null,
   "metadata": {
    "collapsed": true
   },
   "outputs": [],
   "source": []
  }
 ],
 "metadata": {
  "kernelspec": {
   "display_name": "Python 3",
   "language": "python",
   "name": "python3"
  },
  "language_info": {
   "codemirror_mode": {
    "name": "ipython",
    "version": 3
   },
   "file_extension": ".py",
   "mimetype": "text/x-python",
   "name": "python",
   "nbconvert_exporter": "python",
   "pygments_lexer": "ipython3",
   "version": "3.5.1"
  }
 },
 "nbformat": 4,
 "nbformat_minor": 0
}
