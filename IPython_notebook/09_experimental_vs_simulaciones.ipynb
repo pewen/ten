{
 "metadata": {
  "name": "",
  "signature": "sha256:e8800cb5d5aab8a4c3392975ee95369f84112f80e096490f9d074c3fcc43ff32"
 },
 "nbformat": 3,
 "nbformat_minor": 0,
 "worksheets": [
  {
   "cells": [
    {
     "cell_type": "markdown",
     "metadata": {},
     "source": [
      "# Comparaci\u00f3n Datos Experimentales\n",
      "\n",
      "Queremos validar el c\u00f3digo comparandolo con datos experimental."
     ]
    },
    {
     "cell_type": "code",
     "collapsed": false,
     "input": [
      "import os\n",
      "import sys\n",
      "sys.path.append('../')\n",
      "\n",
      "import numpy as np\n",
      "import matplotlib.pyplot as plt\n",
      "%matplotlib inline\n",
      "plt.rcParams['figure.figsize'] = (13.0, 4.0)\n",
      "\n",
      "import ten"
     ],
     "language": "python",
     "metadata": {},
     "outputs": [],
     "prompt_number": 21
    },
    {
     "cell_type": "markdown",
     "metadata": {},
     "source": [
      "## Datos Experimentales\n",
      "\n",
      "Estos datos fueron extraidos de los gr\u00e1ficos del paper de Mc. Neal."
     ]
    },
    {
     "cell_type": "code",
     "collapsed": false,
     "input": [
      "# Datos del paper de McNeal\n",
      "\n",
      "# Perylene:\n",
      "aceptor_perylene = [0, 21, 43, 86, 171, 436, 871]\n",
      "eff_perylene = [0, 0.1875, 0.3125, 0.68, 0.78, 0.9, 0.95]\n",
      "r_perylene = 2.29\n",
      "\n",
      "# Coumarin 6\n",
      "aceptor_coumarin = [0, 20, 60, 120, 240, 600, 1000]\n",
      "eff_coumarin = [0, 0.42, 0.58, 0.85, 0.92, 0.97, 0.98]\n",
      "r_coumarin = 3.05\n",
      "\n",
      "# TPP\n",
      "aceptor_TPP = [0, 40, 100, 200, 400, 1000]\n",
      "eff_TPP = [0, 0.48, 0.82, 0.9, 0.95, 0.98]\n",
      "r_TPP = 3.14"
     ],
     "language": "python",
     "metadata": {},
     "outputs": [],
     "prompt_number": 2
    },
    {
     "cell_type": "code",
     "collapsed": false,
     "input": [
      "# Archivo de configuraci\u00f3n para hacer las comparaciones\n",
      "\n",
      "def experient_conf(acceptors, r, epsilon, free_path):\n",
      "    acceptors = str(acceptors)\n",
      "    ext, rest = acceptors.split('[')\n",
      "    acceptor_list, ext = rest.split(']')\n",
      "    \n",
      "    conf = \"\"\"r_mean = 15\n",
      "    R_Forster = %f\n",
      "    mean_path = %f\n",
      "    tau_D = 0.333\n",
      "    epsilon = %f\n",
      "\n",
      "    num_acceptors_min = 0\n",
      "    num_acceptors_max = 501\n",
      "    acceptors_step = 20\n",
      "\n",
      "    arbitrary_list = 1 #Para una lista arbitraria (if == 1, use list)\n",
      "    list_num_acceptors = %s\n",
      "\n",
      "    num_exc = 5000\n",
      "\n",
      "    acceptors = vol\n",
      "    exiton = laser\n",
      "    r_electro = 0\"\"\"%(r, free_path, epsilon, acceptor_list)\n",
      "\n",
      "    conf_file = open('speed.conf', 'w')\n",
      "    conf_file.write(conf)\n",
      "    conf_file.close"
     ],
     "language": "python",
     "metadata": {},
     "outputs": [],
     "prompt_number": 3
    },
    {
     "cell_type": "markdown",
     "metadata": {},
     "source": [
      "### Perylene"
     ]
    },
    {
     "cell_type": "code",
     "collapsed": false,
     "input": [
      "# Perylene\n",
      "free_path_init = 100\n",
      "free_path_end = 301\n",
      "\n",
      "for epsilon in np.linspace(1, 3, 5):\n",
      "   for free_path in range(free_path_init, free_path_end, 50):\n",
      "        experient_conf(aceptor_perylene, r_perylene, epsilon, free_path)\n",
      "        !mpirun -n 2 python3 ../parallelized_main.py -o perilene/ -c speed.conf -q\n",
      "\n",
      "        sys.stdout.write(\"\\rTermino la corrida con free_path = {0} y epsilon = {1}\".format(free_path, epsilon))"
     ],
     "language": "python",
     "metadata": {},
     "outputs": [
      {
       "output_type": "stream",
       "stream": "stdout",
       "text": [
        "se termino la corrida con free_path = 100.000000 y epsilon = 1.000000\n"
       ]
      },
      {
       "output_type": "stream",
       "stream": "stdout",
       "text": [
        "se termino la corrida con free_path = 150.000000 y epsilon = 1.000000\n"
       ]
      },
      {
       "output_type": "stream",
       "stream": "stdout",
       "text": [
        "se termino la corrida con free_path = 200.000000 y epsilon = 1.000000\n"
       ]
      },
      {
       "output_type": "stream",
       "stream": "stdout",
       "text": [
        "se termino la corrida con free_path = 250.000000 y epsilon = 1.000000\n"
       ]
      },
      {
       "output_type": "stream",
       "stream": "stdout",
       "text": [
        "se termino la corrida con free_path = 300.000000 y epsilon = 1.000000\n"
       ]
      },
      {
       "output_type": "stream",
       "stream": "stdout",
       "text": [
        "se termino la corrida con free_path = 100.000000 y epsilon = 1.666667\n"
       ]
      },
      {
       "output_type": "stream",
       "stream": "stdout",
       "text": [
        "se termino la corrida con free_path = 150.000000 y epsilon = 1.666667\n"
       ]
      },
      {
       "output_type": "stream",
       "stream": "stdout",
       "text": [
        "se termino la corrida con free_path = 200.000000 y epsilon = 1.666667\n"
       ]
      },
      {
       "output_type": "stream",
       "stream": "stdout",
       "text": [
        "se termino la corrida con free_path = 250.000000 y epsilon = 1.666667\n"
       ]
      },
      {
       "output_type": "stream",
       "stream": "stdout",
       "text": [
        "se termino la corrida con free_path = 300.000000 y epsilon = 1.666667\n"
       ]
      },
      {
       "output_type": "stream",
       "stream": "stdout",
       "text": [
        "se termino la corrida con free_path = 100.000000 y epsilon = 2.333333\n"
       ]
      },
      {
       "output_type": "stream",
       "stream": "stdout",
       "text": [
        "se termino la corrida con free_path = 150.000000 y epsilon = 2.333333\n"
       ]
      },
      {
       "output_type": "stream",
       "stream": "stdout",
       "text": [
        "se termino la corrida con free_path = 200.000000 y epsilon = 2.333333\n"
       ]
      },
      {
       "output_type": "stream",
       "stream": "stdout",
       "text": [
        "se termino la corrida con free_path = 250.000000 y epsilon = 2.333333\n"
       ]
      },
      {
       "output_type": "stream",
       "stream": "stdout",
       "text": [
        "se termino la corrida con free_path = 300.000000 y epsilon = 2.333333\n"
       ]
      },
      {
       "output_type": "stream",
       "stream": "stdout",
       "text": [
        "se termino la corrida con free_path = 100.000000 y epsilon = 3.000000\n"
       ]
      },
      {
       "output_type": "stream",
       "stream": "stdout",
       "text": [
        "se termino la corrida con free_path = 150.000000 y epsilon = 3.000000\n"
       ]
      },
      {
       "output_type": "stream",
       "stream": "stdout",
       "text": [
        "se termino la corrida con free_path = 200.000000 y epsilon = 3.000000\n"
       ]
      },
      {
       "output_type": "stream",
       "stream": "stdout",
       "text": [
        "se termino la corrida con free_path = 250.000000 y epsilon = 3.000000\n"
       ]
      },
      {
       "output_type": "stream",
       "stream": "stdout",
       "text": [
        "se termino la corrida con free_path = 300.000000 y epsilon = 3.000000\n"
       ]
      }
     ],
     "prompt_number": 4
    },
    {
     "cell_type": "markdown",
     "metadata": {},
     "source": [
      "### Coumarin 6"
     ]
    },
    {
     "cell_type": "code",
     "collapsed": false,
     "input": [
      "# Coumarin\n",
      "ree_path_init = 100\n",
      "free_path_end = 301\n",
      "\n",
      "for epsilon in np.linspace(1, 3, 5):\n",
      "   for free_path in range(free_path_init, free_path_end, 50):\n",
      "        experient_conf(aceptor_coumarin, r_coumarin, epsilon, free_path)\n",
      "        !mpirun -n 2 python3 ../parallelized_main.py -o coumarin/ -c speed.conf -q\n",
      "        \n",
      "        sys.stdout.write(\"\\rTermino la corrida con free_path = {0} y epsilon = {1}\".format(free_path, epsilon))"
     ],
     "language": "python",
     "metadata": {},
     "outputs": [
      {
       "output_type": "stream",
       "stream": "stdout",
       "text": [
        "\r",
        "Termino la corrida con free_path = 100 y epsilon = 1.0"
       ]
      },
      {
       "output_type": "stream",
       "stream": "stdout",
       "text": [
        "\r",
        "Termino la corrida con free_path = 150 y epsilon = 1.0"
       ]
      },
      {
       "output_type": "stream",
       "stream": "stdout",
       "text": [
        "\r",
        "Termino la corrida con free_path = 200 y epsilon = 1.0"
       ]
      },
      {
       "output_type": "stream",
       "stream": "stdout",
       "text": [
        "\r",
        "Termino la corrida con free_path = 250 y epsilon = 1.0"
       ]
      },
      {
       "output_type": "stream",
       "stream": "stdout",
       "text": [
        "\r",
        "Termino la corrida con free_path = 300 y epsilon = 1.0"
       ]
      },
      {
       "output_type": "stream",
       "stream": "stdout",
       "text": [
        "\r",
        "Termino la corrida con free_path = 100 y epsilon = 1.6666666666666665"
       ]
      },
      {
       "output_type": "stream",
       "stream": "stdout",
       "text": [
        "\r",
        "Termino la corrida con free_path = 150 y epsilon = 1.6666666666666665"
       ]
      },
      {
       "output_type": "stream",
       "stream": "stdout",
       "text": [
        "\r",
        "Termino la corrida con free_path = 200 y epsilon = 1.6666666666666665"
       ]
      }
     ]
    },
    {
     "cell_type": "markdown",
     "metadata": {},
     "source": [
      "### TPP"
     ]
    },
    {
     "cell_type": "code",
     "collapsed": false,
     "input": [
      "# TPP\n",
      "free_path_init = 100\n",
      "free_path_end = 301\n",
      "\n",
      "for epsilon in np.linspace(1, 3, 5):\n",
      "   for free_path in range(free_path_init, free_path_end, 50):\n",
      "        experient_conf(aceptor_TPP, r_TPP, epsilon, free_path)\n",
      "        !mpirun -n 2 python3 ../parallelized_main.py -o TPP/ -c speed.conf -q\n",
      "        \n",
      "        sys.stdout.write(\"\\rTermino la corrida con free_path = {0} y epsilon = {1}\".format(free_path, epsilon))"
     ],
     "language": "python",
     "metadata": {},
     "outputs": [
      {
       "output_type": "stream",
       "stream": "stdout",
       "text": [
        "\r",
        "Termino la corrida con free_path = 100 y epsilon = 1.0"
       ]
      },
      {
       "output_type": "stream",
       "stream": "stdout",
       "text": [
        "\r",
        "Termino la corrida con free_path = 150 y epsilon = 1.0"
       ]
      },
      {
       "output_type": "stream",
       "stream": "stdout",
       "text": [
        "\r",
        "Termino la corrida con free_path = 200 y epsilon = 1.0"
       ]
      },
      {
       "output_type": "stream",
       "stream": "stdout",
       "text": [
        "\r",
        "Termino la corrida con free_path = 250 y epsilon = 1.0"
       ]
      },
      {
       "output_type": "stream",
       "stream": "stdout",
       "text": [
        "\r",
        "Termino la corrida con free_path = 300 y epsilon = 1.0"
       ]
      },
      {
       "output_type": "stream",
       "stream": "stdout",
       "text": [
        "\r",
        "Termino la corrida con free_path = 100 y epsilon = 1.5"
       ]
      },
      {
       "output_type": "stream",
       "stream": "stdout",
       "text": [
        "\r",
        "Termino la corrida con free_path = 150 y epsilon = 1.5"
       ]
      },
      {
       "output_type": "stream",
       "stream": "stdout",
       "text": [
        "\r",
        "Termino la corrida con free_path = 200 y epsilon = 1.5"
       ]
      },
      {
       "output_type": "stream",
       "stream": "stdout",
       "text": [
        "\r",
        "Termino la corrida con free_path = 250 y epsilon = 1.5"
       ]
      },
      {
       "output_type": "stream",
       "stream": "stdout",
       "text": [
        "\r",
        "Termino la corrida con free_path = 300 y epsilon = 1.5"
       ]
      },
      {
       "output_type": "stream",
       "stream": "stdout",
       "text": [
        "\r",
        "Termino la corrida con free_path = 100 y epsilon = 2.0"
       ]
      },
      {
       "output_type": "stream",
       "stream": "stdout",
       "text": [
        "\r",
        "Termino la corrida con free_path = 150 y epsilon = 2.0"
       ]
      },
      {
       "output_type": "stream",
       "stream": "stdout",
       "text": [
        "\r",
        "Termino la corrida con free_path = 200 y epsilon = 2.0"
       ]
      },
      {
       "output_type": "stream",
       "stream": "stdout",
       "text": [
        "\r",
        "Termino la corrida con free_path = 250 y epsilon = 2.0"
       ]
      },
      {
       "output_type": "stream",
       "stream": "stdout",
       "text": [
        "\r",
        "Termino la corrida con free_path = 300 y epsilon = 2.0"
       ]
      },
      {
       "output_type": "stream",
       "stream": "stdout",
       "text": [
        "\r",
        "Termino la corrida con free_path = 100 y epsilon = 2.5"
       ]
      },
      {
       "output_type": "stream",
       "stream": "stdout",
       "text": [
        "\r",
        "Termino la corrida con free_path = 150 y epsilon = 2.5"
       ]
      },
      {
       "output_type": "stream",
       "stream": "stdout",
       "text": [
        "\r",
        "Termino la corrida con free_path = 200 y epsilon = 2.5"
       ]
      },
      {
       "output_type": "stream",
       "stream": "stdout",
       "text": [
        "\r",
        "Termino la corrida con free_path = 250 y epsilon = 2.5"
       ]
      },
      {
       "output_type": "stream",
       "stream": "stdout",
       "text": [
        "\r",
        "Termino la corrida con free_path = 300 y epsilon = 2.5"
       ]
      },
      {
       "output_type": "stream",
       "stream": "stdout",
       "text": [
        "\r",
        "Termino la corrida con free_path = 100 y epsilon = 3.0"
       ]
      },
      {
       "output_type": "stream",
       "stream": "stdout",
       "text": [
        "\r",
        "Termino la corrida con free_path = 150 y epsilon = 3.0"
       ]
      },
      {
       "output_type": "stream",
       "stream": "stdout",
       "text": [
        "\r",
        "Termino la corrida con free_path = 200 y epsilon = 3.0"
       ]
      },
      {
       "output_type": "stream",
       "stream": "stdout",
       "text": [
        "\r",
        "Termino la corrida con free_path = 250 y epsilon = 3.0"
       ]
      },
      {
       "output_type": "stream",
       "stream": "stdout",
       "text": [
        "\r",
        "Termino la corrida con free_path = 300 y epsilon = 3.0"
       ]
      }
     ],
     "prompt_number": 6
    },
    {
     "cell_type": "code",
     "collapsed": false,
     "input": [
      "data = ten.post.extrac4dir('TPP/', aceptor_TPP)\n",
      "data = ten.post.diference2(eff_TPP, data)\n",
      "element_min = np.argmin(data[:,3])\n",
      "\n",
      "D = data[element_min][0]\n",
      "epsilon = data[element_min][1]\n",
      "\n",
      "plt.figure()\n",
      "plt.plot(aceptor_TPP, eff_TPP, '-o', label='Experimental')\n",
      "plt.plot(aceptor_TPP, data[element_min][4:], '-o', label='Simulate')\n",
      "plt.legend(loc='best')\n",
      "plt.text(680, 0.6, r'$Simulation\\; parameters$', fontsize=20)\n",
      "plt.text(680, 0.5, r'$\\epsilon = %.2f\\; D = %.2f$' %(epsilon, D), fontsize=20)\n",
      "plt.text(680, 0.3, r'$L_{D}(theory) = %.3f$' %np.sqrt(epsilon*D), fontsize=20)\n",
      "plt.title(r'$Contraste\\; exp.\\; data\\; with\\; simulated\\; data$', fontsize=20)\n",
      "plt.xlabel(r'$Number\\; of\\; acceptors$', fontsize=20)\n",
      "plt.ylabel(r'$Eff$', fontsize=20)\n",
      "plt.xlim((-10, 1010))\n",
      "plt.ylim((-0.1, 1.1))\n",
      "plt.grid(True)"
     ],
     "language": "python",
     "metadata": {},
     "outputs": [
      {
       "metadata": {},
       "output_type": "display_data",
       "png": "[encoded data removed]",
       "text": [
        "<matplotlib.figure.Figure at 0x7f8eef2382e8>"
       ]
      }
     ],
     "prompt_number": 26
    },
    {
     "cell_type": "code",
     "collapsed": false,
     "input": [
      "#Este css esta basado en el de @LorenaABarba y su grupo\n",
      "from IPython.core.display import HTML\n",
      "css_file = 'css/personal.css'\n",
      "HTML(open(css_file, \"r\").read())"
     ],
     "language": "python",
     "metadata": {},
     "outputs": [
      {
       "html": [
        "<link href='http://fonts.googleapis.com/css?family=Alegreya+Sans:100,300,400,500,700,800,900,100italic,300italic,400italic,500italic,700italic,800italic,900italic' rel='stylesheet' type='text/css'>\n",
        "<link href='http://fonts.googleapis.com/css?family=Arvo:400,700,400italic' rel='stylesheet' type='text/css'>\n",
        "<link href='http://fonts.googleapis.com/css?family=PT+Mono' rel='stylesheet' type='text/css'>\n",
        "<link href='http://fonts.googleapis.com/css?family=Shadows+Into+Light' rel='stylesheet' type='text/css'>\n",
        "<link href='http://fonts.googleapis.com/css?family=Nixie+One' rel='stylesheet' type='text/css'>\n",
        "<style>\n",
        "@font-face {\n",
        "    font-family: \"Computer Modern\";\n",
        "    src: url('http://mirrors.ctan.org/fonts/cm-unicode/fonts/otf/cmunss.otf');\n",
        "}\n",
        "#notebook_panel { /* main background */\n",
        "    background: rgb(245,245,245);\n",
        "} \n",
        "div.cell { /* set cell width */\n",
        "    width: 80%;\n",
        "}\n",
        "div #notebook { /* centre the content */\n",
        "    background: #fff; /* white background for content */\n",
        "    width: 100%;\n",
        "    margin-right: 0px;\n",
        "    margin-left: 0px;\n",
        "    padding-left: 0em;\n",
        "}\n",
        "#notebook li { /* More space between bullet points */\n",
        "    margin-top:0.8em;\n",
        "}\n",
        "/* draw border around running cells */\n",
        "div.cell.border-box-sizing.code_cell.running {\n",
        "    border: 1px solid #111;\n",
        "}\n",
        "/* Put a solid color box around each cell and its output, visually linking them*/\n",
        "div.cell.code_cell {\n",
        "    background-color: rgb(256,256,256);\n",
        "    border-radius: 0px;\n",
        "    padding: 0.5em;\n",
        "    margin-left:1em;\n",
        "    margin-top: 1em;\n",
        "}\n",
        "div.text_cell_render{\n",
        "    font-family: 'Alegreya Sans' sans-serif;\n",
        "    line-height: 140%;\n",
        "    font-size: 125%;\n",
        "    font-weight: 400;\n",
        "    margin-left:0px;\n",
        "    margin-right:0px;\n",
        "}\n",
        "/* Formatting for header cells */\n",
        ".text_cell_render h1 {\n",
        "    font-family: 'Nixie One', serif;\n",
        "    font-style:regular;\n",
        "    font-weight: 400;\n",
        "    font-size: 45pt;\n",
        "    line-height: 100%;\n",
        "    color: rgb(0,51,102);\n",
        "    margin-bottom: 0.5em;\n",
        "    margin-top: 0.5em;\n",
        "    display: block;\n",
        "}  \n",
        ".text_cell_render h2 {\n",
        "    font-family: 'Nixie One', serif;\n",
        "    font-weight: 400;\n",
        "    font-size: 30pt;\n",
        "    line-height: 100%;\n",
        "    color: rgb(0,51,102);\n",
        "    margin-bottom: 0.1em;\n",
        "    margin-top: 0.3em;\n",
        "    display: block;\n",
        "}\t\n",
        ".text_cell_render h3 {\n",
        "    font-family: 'Nixie One', serif;\n",
        "    margin-top:16px;\n",
        "    font-size: 22pt;\n",
        "    font-weight: 600;\n",
        "    margin-bottom: 3px;\n",
        "    font-style: regular;\n",
        "    color: rgb(102,102,0);\n",
        "}\n",
        ".text_cell_render h4 { /*Use this for captions*/\n",
        "    font-family: 'Nixie One', serif;\n",
        "    font-size: 14pt;\n",
        "    text-align: center;\n",
        "    margin-top: 0em;\n",
        "    margin-bottom: 2em;\n",
        "    font-style: regular;\n",
        "}\n",
        ".text_cell_render h5 { /*Use this for small titles*/\n",
        "    font-family: 'Nixie One', sans-serif;\n",
        "    font-weight: 400;\n",
        "    font-size: 16pt;\n",
        "    color: rgb(163,0,0);\n",
        "    font-style: italic;\n",
        "    margin-bottom: .1em;\n",
        "    margin-top: 0.8em;\n",
        "    display: block;\n",
        "}\n",
        ".text_cell_render h6 { /*use this for copyright note*/\n",
        "    font-family: 'PT Mono', sans-serif;\n",
        "    font-weight: 300;\n",
        "    font-size: 9pt;\n",
        "    line-height: 100%;\n",
        "    color: grey;\n",
        "    margin-bottom: 1px;\n",
        "    margin-top: 1px;\n",
        "}\n",
        ".CodeMirror{\n",
        "    font-family: \"PT Mono\";\n",
        "    font-size: 90%;\n",
        "}\n",
        "</style>\n",
        "<script>\n",
        "MathJax.Hub.Config({\n",
        "\t\t       TeX: {\n",
        "\t\t\t   extensions: [\"AMSmath.js\"],\n",
        "\t\t\t   equationNumbers: { autoNumber: \"AMS\", useLabelIds: true}\n",
        "\t\t       },\n",
        "\t\t       tex2jax: {\n",
        "\t\t\t   inlineMath: [ ['$','$'], [\"\\\\(\",\"\\\\)\"] ],\n",
        "\t\t\t   displayMath: [ ['$$','$$'], [\"\\\\[\",\"\\\\]\"] ]\n",
        "\t\t       },\n",
        "\t\t       displayAlign: 'center', // Change this to 'center' to center equations.\n",
        "\t\t       \"HTML-CSS\": {\n",
        "\t\t\t   styles: {'.MathJax_Display': {\"margin\": 4}}\n",
        "\t\t       }\n",
        "\t\t   });\n",
        "</script>"
       ],
       "metadata": {},
       "output_type": "pyout",
       "prompt_number": 1,
       "text": [
        "<IPython.core.display.HTML at 0x7fa44345add8>"
       ]
      }
     ],
     "prompt_number": 1
    },
    {
     "cell_type": "markdown",
     "metadata": {},
     "source": [
      "#####Licencia\n",
      "El c\u00f3digo esta licenciado bajo MIT.\n",
      "\n",
      "La documentaci\u00f3n bajo:\n",
      "\n",
      "<a rel=\"license\" href=\"http://creativecommons.org/licenses/by/4.0/\"><img alt=\"Creative Commons License\" style=\"border-width:0\" src=\"https://i.creativecommons.org/l/by/4.0/88x31.png\" /></a><br /><span xmlns:dct=\"http://purl.org/dc/terms/\" property=\"dct:title\">TEN</span> by <span xmlns:cc=\"http://creativecommons.org/ns#\" property=\"cc:attributionName\">Laboratorio de Microscopia \u00d3ptica Avanzada - UNRC</span> is licensed under a <a rel=\"license\" href=\"http://creativecommons.org/licenses/by/4.0/\">Creative Commons Attribution 4.0 International License</a>.<br />Based on a work at <a xmlns:dct=\"http://purl.org/dc/terms/\" href=\"https://github.com/pewen/ten\" rel=\"dct:source\">https://github.com/pewen/ten</a>"
     ]
    }
   ],
   "metadata": {}
  }
 ]
}