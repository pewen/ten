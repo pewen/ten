{
 "cells": [
  {
   "cell_type": "markdown",
   "metadata": {},
   "source": [
    "# Comparación Datos Experimentales\n",
    "\n",
    "Queremos validar el código comparandolo con datos experimental."
   ]
  },
  {
   "cell_type": "code",
   "execution_count": 1,
   "metadata": {
    "collapsed": false
   },
   "outputs": [],
   "source": [
    "import os\n",
    "import sys\n",
    "sys.path.append('../')\n",
    "\n",
    "import numpy as np\n",
    "import matplotlib.pyplot as plt\n",
    "%matplotlib inline\n",
    "plt.rcParams['figure.figsize'] = (13.0, 4.0)\n",
    "\n",
    "import ten"
   ]
  },
  {
   "cell_type": "markdown",
   "metadata": {},
   "source": [
    "## Datos Experimentales\n",
    "\n",
    "Estos datos fueron extraidos de los gráficos del paper de Mc. Neal."
   ]
  },
  {
   "cell_type": "code",
   "execution_count": 2,
   "metadata": {
    "collapsed": false
   },
   "outputs": [],
   "source": [
    "# Datos del paper de McNeal\n",
    "\n",
    "# Perylene:\n",
    "aceptor_perylene = [0, 21, 43, 86, 171, 436, 871]\n",
    "eff_perylene = [0, 0.1875, 0.3125, 0.68, 0.78, 0.9, 0.95]\n",
    "r_perylene = 2.29\n",
    "\n",
    "# Coumarin 6\n",
    "aceptor_coumarin = [0, 20, 60, 120, 240, 600, 1000]\n",
    "eff_coumarin = [0, 0.42, 0.58, 0.85, 0.92, 0.97, 0.98]\n",
    "r_coumarin = 3.05\n",
    "\n",
    "# TPP\n",
    "aceptor_TPP = [0, 40, 100, 200, 400, 1000]\n",
    "eff_TPP = [0, 0.48, 0.82, 0.9, 0.95, 0.98]\n",
    "r_TPP = 3.14"
   ]
  },
  {
   "cell_type": "code",
   "execution_count": 3,
   "metadata": {
    "collapsed": false
   },
   "outputs": [],
   "source": [
    "# Archivo de configuración para hacer las comparaciones\n",
    "\n",
    "def experient_conf(acceptors, r, epsilon, free_path):\n",
    "    acceptors = str(acceptors)\n",
    "    ext, rest = acceptors.split('[')\n",
    "    acceptor_list, ext = rest.split(']')\n",
    "    \n",
    "    conf = \"\"\"r_mean = 15\n",
    "    R_Forster = %f\n",
    "    mean_path = %f\n",
    "    tau_D = 0.333\n",
    "    epsilon = %f\n",
    "\n",
    "    num_acceptors_min = 0\n",
    "    num_acceptors_max = 501\n",
    "    acceptors_step = 20\n",
    "\n",
    "    arbitrary_list = 1 #Para una lista arbitraria (if == 1, use list)\n",
    "    list_num_acceptors = %s\n",
    "\n",
    "    num_exc = 5000\n",
    "\n",
    "    acceptors = vol\n",
    "    exiton = laser\n",
    "    r_electro = 0\"\"\"%(r, free_path, epsilon, acceptor_list)\n",
    "\n",
    "    conf_file = open('speed.conf', 'w')\n",
    "    conf_file.write(conf)\n",
    "    conf_file.close"
   ]
  },
  {
   "cell_type": "markdown",
   "metadata": {},
   "source": [
    "### Perylene"
   ]
  },
  {
   "cell_type": "code",
   "execution_count": 4,
   "metadata": {
    "collapsed": false
   },
   "outputs": [
    {
     "name": "stdout",
     "output_type": "stream",
     "text": [
      "Termino la corrida con free_path = 600 y epsilon = 3.0"
     ]
    }
   ],
   "source": [
    "# Perylene\n",
    "free_path_list = list(range(1, 5, 1)) + list(range(5, 61, 5)) + list(range(70, 101, 10)) + list(range(150, 601, 50))\n",
    "\n",
    "\n",
    "for epsilon in np.arange(0.5, 3.5, 0.5):\n",
    "   for free_path in free_path_list:\n",
    "        experient_conf(aceptor_perylene, r_perylene, epsilon, free_path)\n",
    "        !mpirun -n 2 python3 ../parallelized_main.py -o data/perilene/ -c speed.conf -q\n",
    "\n",
    "        sys.stdout.write(\"\\rTermino la corrida con free_path = {0} y epsilon = {1}\".format(free_path, epsilon))"
   ]
  },
  {
   "cell_type": "markdown",
   "metadata": {},
   "source": [
    "### Coumarin 6"
   ]
  },
  {
   "cell_type": "markdown",
   "metadata": {},
   "source": [
    "### TPP"
   ]
  },
  {
   "cell_type": "code",
   "execution_count": 6,
   "metadata": {
    "collapsed": false
   },
   "outputs": [
    {
     "name": "stdout",
     "output_type": "stream",
     "text": [
      "Termino la corrida con free_path = 600 y epsilon = 3.0"
     ]
    }
   ],
   "source": [
    "# TPP\n",
    "free_path_list = list(range(1, 5, 1)) + list(range(5, 61, 5)) + list(range(70, 101, 10)) + list(range(150, 601, 50))\n",
    "\n",
    "for epsilon in np.arange(0.5, 3.5, 0.5):\n",
    "   for free_path in free_path_list:\n",
    "        experient_conf(aceptor_TPP, r_TPP, epsilon, free_path)\n",
    "        !mpirun -n 2 python3 ../parallelized_main.py -o data/TPP/ -c speed.conf -q\n",
    "        \n",
    "        sys.stdout.write(\"\\rTermino la corrida con free_path = {0} y epsilon = {1}\".format(free_path, epsilon))"
   ]
  },
  {
   "cell_type": "code",
   "execution_count": 5,
   "metadata": {
    "collapsed": false
   },
   "outputs": [
    {
     "name": "stdout",
     "output_type": "stream",
     "text": [
      "Termino la corrida con free_path = 45 y epsilon = 0.5[ein:22924] [[38560,1],1]-[[38560,0],0] mca_oob_tcp_msg_recv: readv failed: Connection timed out (110)\n",
      "--------------------------------------------------------------------------\n",
      "mpirun has exited due to process rank 1 with PID 22924 on\n",
      "node ein exiting improperly. There are two reasons this could occur:\n",
      "\n",
      "1. this process did not call \"init\" before exiting, but others in\n",
      "the job did. This can cause a job to hang indefinitely while it waits\n",
      "for all processes to call \"init\". By rule, if one process calls \"init\",\n",
      "then ALL processes must call \"init\" prior to termination.\n",
      "\n",
      "2. this process called \"init\", but exited without calling \"finalize\".\n",
      "By rule, all processes that call \"init\" MUST call \"finalize\" prior to\n",
      "exiting or it will be considered an \"abnormal termination\"\n",
      "\n",
      "This may have caused other processes in the application to be\n",
      "terminated by signals sent by mpirun (as reported here).\n",
      "--------------------------------------------------------------------------\n",
      "Termino la corrida con free_path = 600 y epsilon = 3.0"
     ]
    }
   ],
   "source": [
    "# Coumarin\n",
    "free_path_list = list(range(1, 5, 1)) + list(range(5, 61, 5)) + list(range(70, 101, 10)) + list(range(150, 601, 50))\n",
    "\n",
    "for epsilon in np.arange(0.5, 3.5, 0.5):\n",
    "   for free_path in free_path_list:\n",
    "        experient_conf(aceptor_coumarin, r_coumarin, epsilon, free_path)\n",
    "        !mpirun -n 2 python3 ../parallelized_main.py -o data/coumarin/ -c speed.conf -q\n",
    "        \n",
    "        sys.stdout.write(\"\\rTermino la corrida con free_path = {0} y epsilon = {1}\".format(free_path, epsilon))"
   ]
  },
  {
   "cell_type": "code",
   "execution_count": 1,
   "metadata": {
    "collapsed": false
   },
   "outputs": [
    {
     "data": {
      "text/html": [
       "<link href='http://fonts.googleapis.com/css?family=Alegreya+Sans:100,300,400,500,700,800,900,100italic,300italic,400italic,500italic,700italic,800italic,900italic' rel='stylesheet' type='text/css'>\n",
       "<link href='http://fonts.googleapis.com/css?family=Arvo:400,700,400italic' rel='stylesheet' type='text/css'>\n",
       "<link href='http://fonts.googleapis.com/css?family=PT+Mono' rel='stylesheet' type='text/css'>\n",
       "<link href='http://fonts.googleapis.com/css?family=Shadows+Into+Light' rel='stylesheet' type='text/css'>\n",
       "<link href='http://fonts.googleapis.com/css?family=Nixie+One' rel='stylesheet' type='text/css'>\n",
       "\n",
       "<style>\n",
       "@font-face {\n",
       "    font-family: \"Computer Modern\";\n",
       "    src: url('http://mirrors.ctan.org/fonts/cm-unicode/fonts/otf/cmunss.otf');\n",
       "}\n",
       "\n",
       "/* main background */\n",
       "#notebook_panel {\n",
       "    background: rgb(245,245,245);\n",
       "}\n",
       "\n",
       "/* centre the content */\n",
       "div #notebook {\n",
       "    background: #fff; /* white background for content */\n",
       "    width: 100%;\n",
       "    margin-right: 0px;\n",
       "    margin-left: 0px;\n",
       "    padding-left: 0em;\n",
       "}\n",
       "\n",
       "/* More space between bullet points */\n",
       "#notebook li {\n",
       "    margin-top:0.8em;\n",
       "}\n",
       "\n",
       "/* set cell width */\n",
       "div.cell {\n",
       "    width: 95%;\n",
       "}\n",
       "\n",
       "/* draw border around running cells */\n",
       "div.cell.border-box-sizing.code_cell.running {\n",
       "    border: 1px solid #111;\n",
       "}\n",
       "\n",
       "/* Put a solid color box around each cell and its output, \n",
       "   visually linking them*/\n",
       "div.cell.code_cell {\n",
       "    background-color: rgb(256,256,256);\n",
       "    border-radius: 0px;\n",
       "    padding: 0.5em;\n",
       "    margin-left:1em;\n",
       "    margin-top: 1em;\n",
       "}\n",
       "\n",
       "div.text_cell_render{\n",
       "    font-family: 'Alegreya Sans' sans-serif;\n",
       "    line-height: 140%;\n",
       "    font-size: 145%;\n",
       "    font-weight: 400;\n",
       "    margin-left:0px;\n",
       "    margin-right:0px;\n",
       "}\n",
       "\n",
       "/* Formatting for header cells */\n",
       ".text_cell_render h1 {\n",
       "    font-family: 'Nixie One', serif;\n",
       "    font-style:regular;\n",
       "    font-weight: 400;\n",
       "    font-size: 45pt;\n",
       "    line-height: 100%;\n",
       "    color: rgb(0,51,102);\n",
       "    margin-bottom: 0.5em;\n",
       "    margin-top: 0.5em;\n",
       "    display: block;\n",
       "}\n",
       "\n",
       ".text_cell_render h2 {\n",
       "    font-family: 'Nixie One', serif;\n",
       "    font-weight: 400;\n",
       "    font-size: 30pt;\n",
       "    line-height: 100%;\n",
       "    color: rgb(0,51,102);\n",
       "    margin-bottom: 0.1em;\n",
       "    margin-top: 0.3em;\n",
       "    display: block;\n",
       "}\n",
       "\n",
       ".text_cell_render h3 {\n",
       "    font-family: 'Nixie One', serif;\n",
       "    margin-top:16px;\n",
       "    font-size: 22pt;\n",
       "    font-weight: 600;\n",
       "    margin-bottom: 3px;\n",
       "    font-style: regular;\n",
       "    color: rgb(102,102,0);\n",
       "}\n",
       "\n",
       ".text_cell_render h4 { /*Use this for captions*/\n",
       "    font-family: 'Nixie One', serif;\n",
       "    font-size: 14pt;\n",
       "    text-align: center;\n",
       "    margin-top: 0em;\n",
       "    margin-bottom: 2em;\n",
       "    font-style: regular;\n",
       "}\n",
       "\n",
       ".text_cell_render h5 { /*Use this for small titles*/\n",
       "    font-family: 'Nixie One', sans-serif;\n",
       "    font-weight: 400;\n",
       "    font-size: 16pt;\n",
       "    color: rgb(163,0,0);\n",
       "    font-style: italic;\n",
       "    margin-bottom: .1em;\n",
       "    margin-top: 0.8em;\n",
       "    display: block;\n",
       "}\n",
       "\n",
       ".text_cell_render h6 { /*use this for copyright note*/\n",
       "    font-family: 'PT Mono', sans-serif;\n",
       "    font-weight: 300;\n",
       "    font-size: 9pt;\n",
       "    line-height: 100%;\n",
       "    color: grey;\n",
       "    margin-bottom: 1px;\n",
       "    margin-top: 1px;\n",
       "}\n",
       "\n",
       ".CodeMirror{\n",
       "    font-family: \"PT Mono\";\n",
       "    font-size: 100%;\n",
       "}\n",
       "\n",
       "</style>\n",
       "\n",
       "<script type=\"text/x-mathjax-config\">\n",
       "MathJax.Hub.Config({\n",
       "\t\t      TeX: {\n",
       "\t\t      extensions: [\"AMSmath.js\"],\n",
       "\t\t      equationNumbers: { autoNumber: \"AMS\", useLabelIds: true}\n",
       "\t\t  },\n",
       "\t\t      tex2jax: {\n",
       "\t\t\t  inlineMath: [ ['$','$'], [\"\\\\(\",\"\\\\)\"] ],\n",
       "\t\t\t  displayMath: [ ['$$','$$'], [\"\\\\[\",\"\\\\]\"] ],\n",
       "\t\t\t  processEscapes: true,\n",
       "\t\t\t  processEnvironments: true\n",
       "\t\t      },\n",
       "\t\t      displayAlign: 'center',\n",
       "\t\t      \"HTML-CSS\": {\n",
       "\t\t\t  styles: {'.MathJax_Display': {\"margin\": 4}}\n",
       "\t\t      }\n",
       "\t\t  });\n",
       "</script>"
      ],
      "text/plain": [
       "<IPython.core.display.HTML object>"
      ]
     },
     "execution_count": 1,
     "metadata": {},
     "output_type": "execute_result"
    }
   ],
   "source": [
    "#Este css esta basado en el de @LorenaABarba y su grupo\n",
    "from IPython.core.display import HTML\n",
    "css_file = 'css/personal.css'\n",
    "HTML(open(css_file, \"r\").read())"
   ]
  },
  {
   "cell_type": "markdown",
   "metadata": {},
   "source": [
    "##### Licencia\n",
    "El código esta licenciado bajo MIT.\n",
    "\n",
    "La documentación bajo:\n",
    "\n",
    "<a rel=\"license\" href=\"http://creativecommons.org/licenses/by/4.0/\"><img alt=\"Creative Commons License\" style=\"border-width:0\" src=\"https://i.creativecommons.org/l/by/4.0/88x31.png\" /></a><br /><span xmlns:dct=\"http://purl.org/dc/terms/\" property=\"dct:title\">TEN</span> by <span xmlns:cc=\"http://creativecommons.org/ns#\" property=\"cc:attributionName\">Laboratorio de Microscopia Óptica Avanzada - UNRC</span> is licensed under a <a rel=\"license\" href=\"http://creativecommons.org/licenses/by/4.0/\">Creative Commons Attribution 4.0 International License</a>.<br />Based on a work at <a xmlns:dct=\"http://purl.org/dc/terms/\" href=\"https://github.com/pewen/ten\" rel=\"dct:source\">https://github.com/pewen/ten</a>"
   ]
  }
 ],
 "metadata": {
  "kernelspec": {
   "display_name": "Python 3",
   "language": "python",
   "name": "python3"
  },
  "language_info": {
   "codemirror_mode": {
    "name": "ipython",
    "version": 3
   },
   "file_extension": ".py",
   "mimetype": "text/x-python",
   "name": "python",
   "nbconvert_exporter": "python",
   "pygments_lexer": "ipython3",
   "version": "3.5.1"
  }
 },
 "nbformat": 4,
 "nbformat_minor": 0
}
