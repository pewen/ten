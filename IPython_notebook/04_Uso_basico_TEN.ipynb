{
 "cells": [
  {
   "cell_type": "markdown",
   "metadata": {},
   "source": [
    "# Uso básico de TEN\n",
    "\n",
    "Podemos utilizar TEN de dos maneras distintas. La primera, es simplemente usar el main.py y la segunda es llamando a cada módulo desde una terminal python (IPython en este caso).\n",
    "\n",
    "## Mediante cli\n",
    "El uso de *TEN* mediante la *cli* consta de dos archivos. El primero es el archivo de configuración de la simulación (*experiment.conf* por default). En este archivo vamos a setear las propiedades de la NP y los dopantes, la forma de generación de los exitones y demas parámetros de la simulación.\n",
    "*experiment.conf* tiene esta forma:\n",
    "\n",
    "    \"\"\"\n",
    "    Configuration of the experiment.\n",
    "\n",
    "    NP Parameters\n",
    "    -------------\n",
    "    r_mean : float\n",
    "        Mean of the normal distribution nanoparticle radius. [r] = nm\n",
    "    r_deviation : float, optional\n",
    "        Standard deviation of the normal distribution NP radius. \n",
    "        if not, the radius is considered constant. [r] = nm\n",
    "    R_Forster : float\n",
    "        Forster radius. [R_Forster] = nm\n",
    "    mean_path : float\n",
    "        Mean free path. [mean_path] = nm\n",
    "    tau_D : float\n",
    "        Lifetime of donor. [tau_D] = ns\n",
    "    epsilon : float\n",
    "        [epsilon] = nm\n",
    "\n",
    "    Simulation Parameters\n",
    "    ---------------------\n",
    "    num_acceptors_min : int, optional\n",
    "        Minimum number of acceptores to simulate. Default value = 1\n",
    "    num_acceptors_max : int\n",
    "        Maximum number of acceptores to simulate.\n",
    "    acceptors_step : int\n",
    "        Step number of acceptores.\n",
    "    num_exc : int\n",
    "        Numbers of exitation of the same nanoparticle.\n",
    "    each : bool, optional\n",
    "        If True in each new recalculation, new positions of dopants is generated.\n",
    "        Else, only generate one time the dopants.\n",
    "\n",
    "    Experiment Parameters\n",
    "    ---------------------\n",
    "    acceptors : str\n",
    "        Way to create the acceptors. Can be 'vol' (volumetrically) \n",
    "        for uniform distribution inside of nanoparticle or 'sup' (superficialy)\n",
    "        for uniform distributions on the surface of the nanoparticle.\n",
    "    exiton : str\n",
    "        Way to create the exiton. Can be 'laser' to generate uniformily in \n",
    "        the nanoparticle or 'elec' (electrolysis) to generate between the \n",
    "        radius R of the nanoparticle and a r (R > r).\n",
    "    r_electro : float, optional\n",
    "        In a chemical electrolysis, the exiton position is generated between\n",
    "        the radius R of the nanoparticle and a radius r (r<R),\n",
    "        where r depends electrolysis.\n",
    "    \"\"\"\n",
    "\n",
    "    r_mean = 15 #coment\n",
    "    R_Forster = 3.14\n",
    "    mean_path = 100\n",
    "    tau_D = 0.333\n",
    "    epsilon = 1.5\n",
    "\n",
    "    num_acceptors_min = 0\n",
    "    num_acceptors_max = 501\n",
    "    acceptors_step = 20\n",
    "    num_exc = 2000\n",
    "\n",
    "    acceptors = vol\n",
    "    exiton = laser\n",
    "    r_electro = 0\n",
    "    \n",
    "Notar que todas las lineas que estan entre *\"\"\"* (triple comilla) y *\"\"\"* o las lineas que tienen un *#* son comentarios.\n",
    "\n",
    "El segundo archivo es *main.py*. Este es el encargado de realizar la simulación.\n",
    "\n",
    "    ten$ python3 main.py -h\n",
    "    usage: main.py [-h] [-c CONFIG] [-o OUT_PATH]\n",
    "\n",
    "    TEN\n",
    "\n",
    "    optional arguments:\n",
    "      -h, --help     show this help message and exit\n",
    "      -c, --config   path to configuration (initial parameters) file\n",
    "      -o             output path\n",
    "      \n",
    "Luego, para usar *TEN* desde la *cli*, simplemente hacemos:\n",
    "\n",
    "    ten$ python3 main.py\n",
    "    \n",
    "Tambien existe un *parallelized_main.py* que, como lo indica su nombre, es la verción paralelizada. \n",
    "\n",
    "    ten$ mpirun -np N python3 parallelized_main.py\n",
    "    \n",
    "Donde *N* indica la cantidad de procesadores que vamos a usar.\n",
    "\n",
    "## Llamando a cada módulo"
   ]
  },
  {
   "cell_type": "code",
   "execution_count": 2,
   "metadata": {
    "collapsed": false
   },
   "outputs": [],
   "source": [
    "# Imports básicos\n",
    "import time\n",
    "import sys\n",
    "sys.path.append('../')\n",
    "\n",
    "import numpy as np\n",
    "import matplotlib.pyplot as plt\n",
    "%matplotlib inline\n",
    "\n",
    "import ten"
   ]
  },
  {
   "cell_type": "markdown",
   "metadata": {},
   "source": [
    "Podemos usar el mismo archivo de configuración que en el ejempo anterior. Para esto usamos el modulo *read4file*"
   ]
  },
  {
   "cell_type": "code",
   "execution_count": 3,
   "metadata": {
    "collapsed": false
   },
   "outputs": [],
   "source": [
    "init_param = ten.read4file('../experiment.conf')"
   ]
  },
  {
   "cell_type": "markdown",
   "metadata": {},
   "source": [
    "Inicializamos la NP con dopamiento superficial ('sup') y el exiton."
   ]
  },
  {
   "cell_type": "code",
   "execution_count": null,
   "metadata": {
    "collapsed": true
   },
   "outputs": [],
   "source": [
    "ten.Nanoparticle"
   ]
  },
  {
   "cell_type": "code",
   "execution_count": 5,
   "metadata": {
    "collapsed": false
   },
   "outputs": [
    {
     "name": "stdout",
     "output_type": "stream",
     "text": [
      "Radio: 15.0 ~ U(15.0, 0),\n",
      "Tau: 0.333, Mean_path: 100.0, Epsilon: 1.5,\n",
      "Delta_t: 0.004995, Prob decay: 0.014888060396937353,\n",
      "Nº Intrisic aceptors: 10, R_Forster: 1, way: vol\n"
     ]
    }
   ],
   "source": [
    "# Dopantes propios (intrisicos) de la NP\n",
    "dopantes_propios = ten.Aceptor(number=10, r_forster=1, way='vol')\n",
    "# Dopantes que le vamos a agregar a la NP\n",
    "dopantes = ten.Aceptor(number=50, r_forster=init_param['R_Forster'], way='vol')\n",
    "\n",
    "# Nanoparticula\n",
    "r = [init_param['r_mean'], init_param['r_deviation']]\n",
    "NP = ten.Nanoparticle(r, init_param['tau_D'], init_param['mean_path'], \n",
    "                      init_param['epsilon'], dopantes_propios)\n",
    "\n",
    "print(NP)\n",
    "\n",
    "# Dopamos la NP\n",
    "NP.doped(dopantes)"
   ]
  },
  {
   "cell_type": "markdown",
   "metadata": {},
   "source": [
    "Calculamos la eficiencia de Quenching"
   ]
  },
  {
   "cell_type": "code",
   "execution_count": 6,
   "metadata": {
    "collapsed": false
   },
   "outputs": [
    {
     "name": "stdout",
     "output_type": "stream",
     "text": [
      "Eficiencia: 0.7353333333333333, Nº decaidos: 397, Nº transferidos: 1103\n",
      "Pasos promedio: 18.33 nm, Tiempo total: 4.75 seg.\n"
     ]
    }
   ],
   "source": [
    "out = ten.experiments.quenching(NP, dopantes, ten.mechanisms.forster, 'laser')\n",
    "print(\"Eficiencia: {0}, Nº decaidos: {1}, Nº transferidos: {2}\".format(out[0], out[1], out[3]-out[1]))\n",
    "print(\"Pasos promedio: {0:.2f} nm, Tiempo total: {1:.2f} seg.\".format(out[2], out[4]))"
   ]
  },
  {
   "cell_type": "markdown",
   "metadata": {},
   "source": [
    "### Varias simulaciones de una NP"
   ]
  },
  {
   "cell_type": "code",
   "execution_count": 9,
   "metadata": {
    "collapsed": false
   },
   "outputs": [],
   "source": [
    "times = []\n",
    "eff = []\n",
    "\n",
    "for i in range(200, 20001, 200):\n",
    "    simu = ten.Exciton(nano_particle, i, 'laser')\n",
    "    simu.quenching()\n",
    "    times.append(simu.total_time)\n",
    "    eff.append(simu.efficiency)"
   ]
  },
  {
   "cell_type": "code",
   "execution_count": 13,
   "metadata": {
    "collapsed": false
   },
   "outputs": [
    {
     "data": {
      "text/plain": [
       "<matplotlib.text.Text at 0x7f7734b405c0>"
      ]
     },
     "execution_count": 13,
     "metadata": {},
     "output_type": "execute_result"
    },
    {
     "data": {
      "image/png": "[encoded data removed]",
      "text/plain": [
       "<matplotlib.figure.Figure at 0x7f7734bc3358>"
      ]
     },
     "metadata": {},
     "output_type": "display_data"
    }
   ],
   "source": [
    "x = np.array(range(200,20001, 200))\n",
    "\n",
    "fig, host = plt.subplots(figsize=(12,7))\n",
    "\n",
    "par1 = host.twinx()\n",
    "\n",
    "p1, = host.plot(x, times, \"b-\", label=\"time(seg)\")\n",
    "p2, = par1.plot(x, eff, \"r-\", label=\"Eff\")\n",
    "\n",
    "host.set_xlabel(r\"$Numbers\\; of\\; photons$\", fontsize=20)\n",
    "host.set_ylabel(r\"$Time(seg)$\", fontsize=20)\n",
    "par1.set_ylabel(r\"$Efficiency$\", fontsize=20)\n",
    "\n",
    "tkw = dict(size=8, width=1.5)\n",
    "host.tick_params(axis='y', colors=p1.get_color(), **tkw)\n",
    "par1.tick_params(axis='y', colors=p2.get_color(), **tkw)\n",
    "host.tick_params(axis='x', **tkw)\n",
    "\n",
    "lines = [p1, p2]\n",
    "host.legend(lines, [l.get_label() for l in lines])\n",
    "\n",
    "host.grid(True)\n",
    "plt.title(r'$Numbers\\; of\\; acceptos:\\; %i$' %(simu.nano_particle.n_acceptors), fontsize=20)"
   ]
  },
  {
   "cell_type": "markdown",
   "metadata": {},
   "source": [
    "Observar que si bien parece que la eficiencia fluctua mucho, las variaciones con $\\pm0.01$"
   ]
  },
  {
   "cell_type": "code",
   "execution_count": 7,
   "metadata": {
    "collapsed": false
   },
   "outputs": [
    {
     "data": {
      "text/html": [
       "<link href='http://fonts.googleapis.com/css?family=Alegreya+Sans:100,300,400,500,700,800,900,100italic,300italic,400italic,500italic,700italic,800italic,900italic' rel='stylesheet' type='text/css'>\n",
       "<link href='http://fonts.googleapis.com/css?family=Arvo:400,700,400italic' rel='stylesheet' type='text/css'>\n",
       "<link href='http://fonts.googleapis.com/css?family=PT+Mono' rel='stylesheet' type='text/css'>\n",
       "<link href='http://fonts.googleapis.com/css?family=Shadows+Into+Light' rel='stylesheet' type='text/css'>\n",
       "<link href='http://fonts.googleapis.com/css?family=Nixie+One' rel='stylesheet' type='text/css'>\n",
       "\n",
       "<style>\n",
       "@font-face {\n",
       "    font-family: \"Computer Modern\";\n",
       "    src: url('http://mirrors.ctan.org/fonts/cm-unicode/fonts/otf/cmunss.otf');\n",
       "}\n",
       "\n",
       "/* main background */\n",
       "#notebook_panel {\n",
       "    background: rgb(245,245,245);\n",
       "}\n",
       "\n",
       "/* centre the content */\n",
       "div #notebook {\n",
       "    background: #fff; /* white background for content */\n",
       "    width: 100%;\n",
       "    margin-right: 0px;\n",
       "    margin-left: 0px;\n",
       "    padding-left: 0em;\n",
       "}\n",
       "\n",
       "/* More space between bullet points */\n",
       "#notebook li {\n",
       "    margin-top:0.8em;\n",
       "}\n",
       "\n",
       "/* set cell width */\n",
       "div.cell {\n",
       "    width: 95%;\n",
       "}\n",
       "\n",
       "/* draw border around running cells */\n",
       "div.cell.border-box-sizing.code_cell.running {\n",
       "    border: 1px solid #111;\n",
       "}\n",
       "\n",
       "/* Put a solid color box around each cell and its output, \n",
       "   visually linking them*/\n",
       "div.cell.code_cell {\n",
       "    background-color: rgb(256,256,256);\n",
       "    border-radius: 0px;\n",
       "    padding: 0.5em;\n",
       "    margin-left:1em;\n",
       "    margin-top: 1em;\n",
       "}\n",
       "\n",
       "div.text_cell_render{\n",
       "    font-family: 'Alegreya Sans' sans-serif;\n",
       "    line-height: 140%;\n",
       "    font-size: 145%;\n",
       "    font-weight: 400;\n",
       "    margin-left:0px;\n",
       "    margin-right:0px;\n",
       "}\n",
       "\n",
       "/* Formatting for header cells */\n",
       ".text_cell_render h1 {\n",
       "    font-family: 'Nixie One', serif;\n",
       "    font-style:regular;\n",
       "    font-weight: 400;\n",
       "    font-size: 45pt;\n",
       "    line-height: 100%;\n",
       "    color: rgb(0,51,102);\n",
       "    margin-bottom: 0.5em;\n",
       "    margin-top: 0.5em;\n",
       "    display: block;\n",
       "}\n",
       "\n",
       ".text_cell_render h2 {\n",
       "    font-family: 'Nixie One', serif;\n",
       "    font-weight: 400;\n",
       "    font-size: 30pt;\n",
       "    line-height: 100%;\n",
       "    color: rgb(0,51,102);\n",
       "    margin-bottom: 0.1em;\n",
       "    margin-top: 0.3em;\n",
       "    display: block;\n",
       "}\n",
       "\n",
       ".text_cell_render h3 {\n",
       "    font-family: 'Nixie One', serif;\n",
       "    margin-top:16px;\n",
       "    font-size: 22pt;\n",
       "    font-weight: 600;\n",
       "    margin-bottom: 3px;\n",
       "    font-style: regular;\n",
       "    color: rgb(102,102,0);\n",
       "}\n",
       "\n",
       ".text_cell_render h4 { /*Use this for captions*/\n",
       "    font-family: 'Nixie One', serif;\n",
       "    font-size: 14pt;\n",
       "    text-align: center;\n",
       "    margin-top: 0em;\n",
       "    margin-bottom: 2em;\n",
       "    font-style: regular;\n",
       "}\n",
       "\n",
       ".text_cell_render h5 { /*Use this for small titles*/\n",
       "    font-family: 'Nixie One', sans-serif;\n",
       "    font-weight: 400;\n",
       "    font-size: 16pt;\n",
       "    color: rgb(163,0,0);\n",
       "    font-style: italic;\n",
       "    margin-bottom: .1em;\n",
       "    margin-top: 0.8em;\n",
       "    display: block;\n",
       "}\n",
       "\n",
       ".text_cell_render h6 { /*use this for copyright note*/\n",
       "    font-family: 'PT Mono', sans-serif;\n",
       "    font-weight: 300;\n",
       "    font-size: 9pt;\n",
       "    line-height: 100%;\n",
       "    color: grey;\n",
       "    margin-bottom: 1px;\n",
       "    margin-top: 1px;\n",
       "}\n",
       "\n",
       ".CodeMirror{\n",
       "    font-family: \"PT Mono\";\n",
       "    font-size: 100%;\n",
       "}\n",
       "\n",
       "</style>\n",
       "\n",
       "<script>\n",
       "MathJax.Hub.Config({\n",
       "\t\t      TeX: {\n",
       "\t\t      extensions: [\"AMSmath.js\"],\n",
       "\t\t      equationNumbers: { autoNumber: \"AMS\", useLabelIds: true}\n",
       "\t\t  },\n",
       "\t\t      tex2jax: {\n",
       "\t\t\t  inlineMath: [ ['$','$'], [\"\\\\(\",\"\\\\)\"] ],\n",
       "\t\t\t  displayMath: [ ['$$','$$'], [\"\\\\[\",\"\\\\]\"] ]\n",
       "\t\t      },\n",
       "\t\t      displayAlign: 'center', // Change this to 'center' to center equations.\n",
       "\t\t\t\t\t\t \"HTML-CSS\": {\n",
       "\t\t\t  styles: {'.MathJax_Display': {\"margin\": 4}}\n",
       "\t\t      }\n",
       "\t\t  });\n",
       "</script>"
      ],
      "text/plain": [
       "<IPython.core.display.HTML object>"
      ]
     },
     "execution_count": 7,
     "metadata": {},
     "output_type": "execute_result"
    }
   ],
   "source": [
    "#Este css esta basado en el de @LorenaABarba y su grupo\n",
    "from IPython.core.display import HTML\n",
    "css_file = 'css/personal.css'\n",
    "HTML(open(css_file, \"r\").read())"
   ]
  },
  {
   "cell_type": "markdown",
   "metadata": {},
   "source": [
    "##### Licencia\n",
    "El código esta licenciado bajo MIT.\n",
    "\n",
    "La documentación bajo:\n",
    "<a rel=\"license\" href=\"http://creativecommons.org/licenses/by/4.0/\"><img alt=\"Creative Commons License\" style=\"border-width:0\" src=\"https://i.creativecommons.org/l/by/4.0/88x31.png\" /></a><br /><span xmlns:dct=\"http://purl.org/dc/terms/\" property=\"dct:title\">TEN</span> by <span xmlns:cc=\"http://creativecommons.org/ns#\" property=\"cc:attributionName\">Laboratorio de Microscopia Óptica Avanzada - UNRC</span> is licensed under a <a rel=\"license\" href=\"http://creativecommons.org/licenses/by/4.0/\">Creative Commons Attribution 4.0 International License</a>.<br />Based on a work at <a xmlns:dct=\"http://purl.org/dc/terms/\" href=\"https://github.com/pewen/ten\" rel=\"dct:source\">https://github.com/pewen/ten</a>"
   ]
  }
 ],
 "metadata": {
  "kernelspec": {
   "display_name": "Python 3",
   "language": "python",
   "name": "python3"
  },
  "language_info": {
   "codemirror_mode": {
    "name": "ipython",
    "version": 3
   },
   "file_extension": ".py",
   "mimetype": "text/x-python",
   "name": "python",
   "nbconvert_exporter": "python",
   "pygments_lexer": "ipython3",
   "version": "3.5.1"
  }
 },
 "nbformat": 4,
 "nbformat_minor": 0
}
