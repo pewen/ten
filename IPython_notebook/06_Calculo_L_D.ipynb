{
 "metadata": {
  "name": "",
  "signature": "sha256:f61b7357b737c8708e61fd65581c4dbeb6c7cfbae79efd7f5277a32ea9623c14"
 },
 "nbformat": 3,
 "nbformat_minor": 0,
 "worksheets": [
  {
   "cells": [
    {
     "cell_type": "markdown",
     "metadata": {},
     "source": [
      "#Calculo $L_{D}$"
     ]
    },
    {
     "cell_type": "code",
     "collapsed": false,
     "input": [
      "import math\n",
      "import sys\n",
      "sys.path.append('../')\n",
      "\n",
      "import numpy as np\n",
      "import matplotlib.pyplot as plt\n",
      "from matplotlib import rc\n",
      "rc('font', **{'family':'sans-serif', 'sans-serif':['Helvetica']})\n",
      "rc('text', usetex=True)\n",
      "\n",
      "%matplotlib inline\n",
      "\n",
      "import ten"
     ],
     "language": "python",
     "metadata": {},
     "outputs": [],
     "prompt_number": 1
    },
    {
     "cell_type": "code",
     "collapsed": false,
     "input": [
      "# Propiedades de la NP\n",
      "r = 50000\n",
      "R_Forster = 2.29\n",
      "L_D = 100\n",
      "tau_D = 0.333\n",
      "epsilon = 1\n",
      "num_exc = 5000\n",
      "num_acceptors = 0\n",
      "\n",
      "nano_particle = ten.NanoParticle(r,\n",
      "                             0, \n",
      "                            num_acceptors,\n",
      "                            tau_D,\n",
      "                            R_Forster,\n",
      "                            L_D,\n",
      "                            epsilon,\n",
      "                            'vol')\n",
      "\n",
      "l_d = []\n",
      "x = [i for i in range(5000, 10001, 1000)]\n",
      "\n",
      "for num_exc in x:\n",
      "    # Inicializaci\u00f3n del exiton\n",
      "    simu = ten.Exciton(nano_particle,\n",
      "                    num_exc,\n",
      "                    'laser')\n",
      "\n",
      "    out = simu.l_d()\n",
      "    l_d.append(simu.rms)\n",
      "\n",
      "    print('se termino ', num_exc)"
     ],
     "language": "python",
     "metadata": {},
     "outputs": [
      {
       "output_type": "stream",
       "stream": "stdout",
       "text": [
        "se termino  5000\n",
        "se termino "
       ]
      },
      {
       "output_type": "stream",
       "stream": "stdout",
       "text": [
        " 6000\n",
        "se termino "
       ]
      },
      {
       "output_type": "stream",
       "stream": "stdout",
       "text": [
        " 7000\n",
        "se termino "
       ]
      },
      {
       "output_type": "stream",
       "stream": "stdout",
       "text": [
        " 8000\n",
        "se termino "
       ]
      },
      {
       "output_type": "stream",
       "stream": "stdout",
       "text": [
        " 9000\n",
        "se termino "
       ]
      },
      {
       "output_type": "stream",
       "stream": "stdout",
       "text": [
        " 10000\n"
       ]
      }
     ],
     "prompt_number": 2
    },
    {
     "cell_type": "code",
     "collapsed": false,
     "input": [
      "plt.figure(figsize=(12, 6))\n",
      "plt.plot(x, l_d, '-o', label='simulaciones')\n",
      "plt.xlabel(r'$Numero\\; de\\; exitaciones $', fontsize=20)\n",
      "plt.ylabel(r'$L_{D}$', fontsize=20)\n",
      "plt.title(r'$L_{D}\\; teorico = %f$' %(np.sqrt(L_D)*np.sqrt(epsilon)), fontsize=20)\n",
      "plt.legend()\n",
      "plt.grid(True)"
     ],
     "language": "python",
     "metadata": {},
     "outputs": [
      {
       "metadata": {},
       "output_type": "display_data",
       "png": "[encoded data removed]",
       "text": [
        "<matplotlib.figure.Figure at 0x7f795f638438>"
       ]
      }
     ],
     "prompt_number": 3
    },
    {
     "cell_type": "code",
     "collapsed": false,
     "input": [
      "#Este css esta basado en el de @LorenaABarba y su grupo\n",
      "from IPython.core.display import HTML\n",
      "css_file = 'css/personal.css'\n",
      "HTML(open(css_file, \"r\").read())"
     ],
     "language": "python",
     "metadata": {},
     "outputs": [
      {
       "html": [
        "<link href='http://fonts.googleapis.com/css?family=Alegreya+Sans:100,300,400,500,700,800,900,100italic,300italic,400italic,500italic,700italic,800italic,900italic' rel='stylesheet' type='text/css'>\n",
        "<link href='http://fonts.googleapis.com/css?family=Arvo:400,700,400italic' rel='stylesheet' type='text/css'>\n",
        "<link href='http://fonts.googleapis.com/css?family=PT+Mono' rel='stylesheet' type='text/css'>\n",
        "<link href='http://fonts.googleapis.com/css?family=Shadows+Into+Light' rel='stylesheet' type='text/css'>\n",
        "<link href='http://fonts.googleapis.com/css?family=Nixie+One' rel='stylesheet' type='text/css'>\n",
        "<style>\n",
        "@font-face {\n",
        "    font-family: \"Computer Modern\";\n",
        "    src: url('http://mirrors.ctan.org/fonts/cm-unicode/fonts/otf/cmunss.otf');\n",
        "}\n",
        "#notebook_panel { /* main background */\n",
        "    background: rgb(245,245,245);\n",
        "} \n",
        "div.cell { /* set cell width */\n",
        "    width: 80%;\n",
        "}\n",
        "div #notebook { /* centre the content */\n",
        "    background: #fff; /* white background for content */\n",
        "    width: 100%;\n",
        "    margin-right: 0px;\n",
        "    margin-left: 0px;\n",
        "    padding-left: 0em;\n",
        "}\n",
        "#notebook li { /* More space between bullet points */\n",
        "    margin-top:0.8em;\n",
        "}\n",
        "/* draw border around running cells */\n",
        "div.cell.border-box-sizing.code_cell.running {\n",
        "    border: 1px solid #111;\n",
        "}\n",
        "/* Put a solid color box around each cell and its output, visually linking them*/\n",
        "div.cell.code_cell {\n",
        "    background-color: rgb(256,256,256);\n",
        "    border-radius: 0px;\n",
        "    padding: 0.5em;\n",
        "    margin-left:1em;\n",
        "    margin-top: 1em;\n",
        "}\n",
        "div.text_cell_render{\n",
        "    font-family: 'Alegreya Sans' sans-serif;\n",
        "    line-height: 140%;\n",
        "    font-size: 125%;\n",
        "    font-weight: 400;\n",
        "    margin-left:0px;\n",
        "    margin-right:0px;\n",
        "}\n",
        "/* Formatting for header cells */\n",
        ".text_cell_render h1 {\n",
        "    font-family: 'Nixie One', serif;\n",
        "    font-style:regular;\n",
        "    font-weight: 400;\n",
        "    font-size: 45pt;\n",
        "    line-height: 100%;\n",
        "    color: rgb(0,51,102);\n",
        "    margin-bottom: 0.5em;\n",
        "    margin-top: 0.5em;\n",
        "    display: block;\n",
        "}  \n",
        ".text_cell_render h2 {\n",
        "    font-family: 'Nixie One', serif;\n",
        "    font-weight: 400;\n",
        "    font-size: 30pt;\n",
        "    line-height: 100%;\n",
        "    color: rgb(0,51,102);\n",
        "    margin-bottom: 0.1em;\n",
        "    margin-top: 0.3em;\n",
        "    display: block;\n",
        "}\t\n",
        ".text_cell_render h3 {\n",
        "    font-family: 'Nixie One', serif;\n",
        "    margin-top:16px;\n",
        "    font-size: 22pt;\n",
        "    font-weight: 600;\n",
        "    margin-bottom: 3px;\n",
        "    font-style: regular;\n",
        "    color: rgb(102,102,0);\n",
        "}\n",
        ".text_cell_render h4 { /*Use this for captions*/\n",
        "    font-family: 'Nixie One', serif;\n",
        "    font-size: 14pt;\n",
        "    text-align: center;\n",
        "    margin-top: 0em;\n",
        "    margin-bottom: 2em;\n",
        "    font-style: regular;\n",
        "}\n",
        ".text_cell_render h5 { /*Use this for small titles*/\n",
        "    font-family: 'Nixie One', sans-serif;\n",
        "    font-weight: 400;\n",
        "    font-size: 16pt;\n",
        "    color: rgb(163,0,0);\n",
        "    font-style: italic;\n",
        "    margin-bottom: .1em;\n",
        "    margin-top: 0.8em;\n",
        "    display: block;\n",
        "}\n",
        ".text_cell_render h6 { /*use this for copyright note*/\n",
        "    font-family: 'PT Mono', sans-serif;\n",
        "    font-weight: 300;\n",
        "    font-size: 9pt;\n",
        "    line-height: 100%;\n",
        "    color: grey;\n",
        "    margin-bottom: 1px;\n",
        "    margin-top: 1px;\n",
        "}\n",
        ".CodeMirror{\n",
        "    font-family: \"PT Mono\";\n",
        "    font-size: 90%;\n",
        "}\n",
        "</style>\n",
        "<script>\n",
        "MathJax.Hub.Config({\n",
        "\t\t       TeX: {\n",
        "\t\t\t   extensions: [\"AMSmath.js\"],\n",
        "\t\t\t   equationNumbers: { autoNumber: \"AMS\", useLabelIds: true}\n",
        "\t\t       },\n",
        "\t\t       tex2jax: {\n",
        "\t\t\t   inlineMath: [ ['$','$'], [\"\\\\(\",\"\\\\)\"] ],\n",
        "\t\t\t   displayMath: [ ['$$','$$'], [\"\\\\[\",\"\\\\]\"] ]\n",
        "\t\t       },\n",
        "\t\t       displayAlign: 'center', // Change this to 'center' to center equations.\n",
        "\t\t       \"HTML-CSS\": {\n",
        "\t\t\t   styles: {'.MathJax_Display': {\"margin\": 4}}\n",
        "\t\t       }\n",
        "\t\t   });\n",
        "</script>"
       ],
       "metadata": {},
       "output_type": "pyout",
       "prompt_number": 1,
       "text": [
        "<IPython.core.display.HTML at 0x7f59e8f28400>"
       ]
      }
     ],
     "prompt_number": 1
    },
    {
     "cell_type": "markdown",
     "metadata": {},
     "source": [
      "#####Licencia\n",
      "El c\u00f3digo esta licenciado bajo MIT.\n",
      "\n",
      "La documentaci\u00f3n bajo:\n",
      "<a rel=\"license\" href=\"http://creativecommons.org/licenses/by/4.0/\"><img alt=\"Creative Commons License\" style=\"border-width:0\" src=\"https://i.creativecommons.org/l/by/4.0/88x31.png\" /></a><br /><span xmlns:dct=\"http://purl.org/dc/terms/\" property=\"dct:title\">TEN</span> by <span xmlns:cc=\"http://creativecommons.org/ns#\" property=\"cc:attributionName\">Laboratorio de Microscopia \u00d3ptica Avanzada - UNRC</span> is licensed under a <a rel=\"license\" href=\"http://creativecommons.org/licenses/by/4.0/\">Creative Commons Attribution 4.0 International License</a>.<br />Based on a work at <a xmlns:dct=\"http://purl.org/dc/terms/\" href=\"https://github.com/pewen/ten\" rel=\"dct:source\">https://github.com/pewen/ten</a>"
     ]
    },
    {
     "cell_type": "code",
     "collapsed": false,
     "input": [],
     "language": "python",
     "metadata": {},
     "outputs": []
    }
   ],
   "metadata": {}
  }
 ]
}