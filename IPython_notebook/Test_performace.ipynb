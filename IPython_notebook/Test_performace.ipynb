{
 "metadata": {
  "name": "",
  "signature": "sha256:600dd5ae50ed196aab788b0dce9cc4ba8d6c3b8c6618352cfd54c68195843723"
 },
 "nbformat": 3,
 "nbformat_minor": 0,
 "worksheets": [
  {
   "cells": [
    {
     "cell_type": "code",
     "collapsed": false,
     "input": [
      "import time\n",
      "import sys\n",
      "\n",
      "import numpy as np\n",
      "import matplotlib.pyplot as plt\n",
      "%matplotlib inline"
     ],
     "language": "python",
     "metadata": {},
     "outputs": [],
     "prompt_number": 1
    },
    {
     "cell_type": "code",
     "collapsed": false,
     "input": [
      "# Archivo de configuraci\u00f3n para medir los tiempos\n",
      "# Solo se varia la cantidad de excitaciones\n",
      "\n",
      "def experient_conf(num_exc):\n",
      "    conf = \"\"\"r_mean = 15\n",
      "    R_Forster = 3.14\n",
      "    mean_path = 100\n",
      "    tau_D = 0.333\n",
      "    epsilon = 1.5\n",
      "\n",
      "    num_acceptors_min = 0\n",
      "    num_acceptors_max = 501\n",
      "    acceptors_step = 20\n",
      "\n",
      "    arbitrary_list = 1 #Para una lista arbitraria (if == 1, use list)\n",
      "    list_num_acceptors = 0, 21, 43, 86, 171, 436, 871\n",
      "\n",
      "    num_exc = %i\n",
      "\n",
      "    acceptors = vol\n",
      "    exiton = laser\n",
      "    r_electro = 0\"\"\" %num_exc\n",
      "\n",
      "    conf_file = open('speed.conf', 'w')\n",
      "    conf_file.write(conf)\n",
      "    conf_file.close"
     ],
     "language": "python",
     "metadata": {},
     "outputs": [],
     "prompt_number": 6
    },
    {
     "cell_type": "code",
     "collapsed": false,
     "input": [
      "# Medici\u00f3n de los tiempos\n",
      "\n",
      "serial_time = []\n",
      "parallel2 = []\n",
      "parallel4 = []\n",
      "\n",
      "x = np.array([i for i in range(1000, 2001, 1000)])\n",
      "\n",
      "for num_exc in x:\n",
      "    \n",
      "    experient_conf(num_exc)\n",
      "    \n",
      "    out = !python3 ../main.py -c speed.conf -o ../output/ -v\n",
      "    ext, text = out[0].split(':')\n",
      "    time, ext = text.split('seg')\n",
      "    serial_time.append(float(time))\n",
      "\n",
      "    out = !mpirun -n 2 python3 ../parallelized_main.py -c speed.conf -o ../output/ -v\n",
      "    ext, text = out[0].split(':')\n",
      "    time, ext = text.split('seg')\n",
      "    parallel2.append(float(time))\n",
      "    \n",
      "    out = !mpirun -n 4 python3 ../parallelized_main.py -c speed.conf -o ../output/ -v\n",
      "    ext, text = out[0].split(':')\n",
      "    time, ext = text.split('seg')\n",
      "    parallel4.append(float(time))\n",
      "    \n",
      "    sys.stdout.write('\\r Termino la simulaci\u00f3n con {0} exitaciones'.format(num_exc) )"
     ],
     "language": "python",
     "metadata": {},
     "outputs": [],
     "prompt_number": 16
    },
    {
     "cell_type": "code",
     "collapsed": false,
     "input": [
      "serial_time, parallel2, parallel4"
     ],
     "language": "python",
     "metadata": {},
     "outputs": [
      {
       "metadata": {},
       "output_type": "pyout",
       "prompt_number": 17,
       "text": [
        "([66.372, 78.834], [39.297, 43.211], [38.899, 45.265])"
       ]
      }
     ],
     "prompt_number": 17
    }
   ],
   "metadata": {}
  }
 ]
}