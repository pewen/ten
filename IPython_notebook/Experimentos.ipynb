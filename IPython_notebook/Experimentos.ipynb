{
 "cells": [
  {
   "cell_type": "code",
   "execution_count": 1,
   "metadata": {
    "collapsed": false
   },
   "outputs": [],
   "source": [
    "import time\n",
    "import sys\n",
    "sys.path.append('../')\n",
    "\n",
    "import ten\n",
    "import ten.experiments as experiments\n",
    "from ten.experiments.mechanisms import forster, boolean"
   ]
  },
  {
   "cell_type": "markdown",
   "metadata": {},
   "source": [
    "## Creación de la NP"
   ]
  },
  {
   "cell_type": "code",
   "execution_count": 2,
   "metadata": {
    "collapsed": false
   },
   "outputs": [
    {
     "name": "stdout",
     "output_type": "stream",
     "text": [
      "Radio: 15 ~ U(15, 0),\n",
      "Tau: 0.333, Mean_path: 80, Epsilon: 1,\n",
      "Delta_t: 0.0041625, Prob decay: 0.012422199506118559,\n",
      "Number Intrisic aceptors: 10, R_Mechanisms: 1, way: vol\n"
     ]
    }
   ],
   "source": [
    "# Dopantes propios (intrisicos) de la NP\n",
    "dopantes_propios = ten.Aceptor(number=10, r_mechanisms=1, way='vol')\n",
    "\n",
    "# Dopantes que le vamos a agregar a la NP\n",
    "dopantes = ten.Aceptor(number=5, r_mechanisms=3.14, way='vol')\n",
    "\n",
    "# Nanoparticula\n",
    "NP = ten.Nanoparticle(r_param=[15, 0], tau_d=0.333, mean_path=80, epsilon=1, intrinsic_aceptors=dopantes_propios)\n",
    "print(NP)"
   ]
  },
  {
   "cell_type": "markdown",
   "metadata": {},
   "source": [
    "## Eficiencia de Quenching"
   ]
  },
  {
   "cell_type": "code",
   "execution_count": 3,
   "metadata": {
    "collapsed": false
   },
   "outputs": [
    {
     "name": "stdout",
     "output_type": "stream",
     "text": [
      "Eficiencia: 0.1212, Nº decaidos: 2197, Nº transferidos: 303\n",
      "Pasos promedio: 70.90 nm, Tiempo total: 2.48 seg.\n"
     ]
    }
   ],
   "source": [
    "out = experiments.quenching(NP, dopantes, forster, 'laser')\n",
    "print(\"Eficiencia: {0}, Nº decaidos: {1}, Nº transferidos: {2}\".format(out[0], out[1], out[3]-out[1]))\n",
    "print(\"Pasos promedio: {0:.2f} nm, Tiempo total: {1:.2f} seg.\".format(out[2], out[4]))"
   ]
  },
  {
   "cell_type": "code",
   "execution_count": 4,
   "metadata": {
    "collapsed": false
   },
   "outputs": [
    {
     "name": "stdout",
     "output_type": "stream",
     "text": [
      "Eficiencia: 0.1405, Nº decaidos: 1719, Nº transferidos: 281\n",
      "Pasos promedio: 65.07 nm, Tiempo total: 1.80 seg.\n"
     ]
    }
   ],
   "source": [
    "out = experiments.quenching(NP, dopantes, forster, 'laser')\n",
    "print(\"Eficiencia: {0}, Nº decaidos: {1}, Nº transferidos: {2}\".format(out[0], out[1], out[3]-out[1]))\n",
    "print(\"Pasos promedio: {0:.2f} nm, Tiempo total: {1:.2f} seg.\".format(out[2], out[4]))"
   ]
  },
  {
   "cell_type": "code",
   "execution_count": 5,
   "metadata": {
    "collapsed": false
   },
   "outputs": [
    {
     "name": "stdout",
     "output_type": "stream",
     "text": [
      "Eficiencia: 0.496, Nº decaidos: 1764, Nº transferidos: 1736\n",
      "Pasos promedio: 41.57 nm, Tiempo total: 13.34 seg.\n"
     ]
    }
   ],
   "source": [
    "# Dopantes que le vamos a agregar a la NP\n",
    "dopantes = ten.Aceptor(number=500, r_mechanisms=0.5, way='vol')\n",
    "\n",
    "# Nanoparticula\n",
    "NP = ten.Nanoparticle(r_param=[15, 0], tau_d=0.333, mean_path=80, epsilon=1, intrinsic_aceptors=dopantes_propios)\n",
    "\n",
    "out = experiments.quenching(NP, dopantes, boolean, 'laser')\n",
    "print(\"Eficiencia: {0}, Nº decaidos: {1}, Nº transferidos: {2}\".format(out[0], out[1], out[3]-out[1]))\n",
    "print(\"Pasos promedio: {0:.2f} nm, Tiempo total: {1:.2f} seg.\".format(out[2], out[4]))"
   ]
  },
  {
   "cell_type": "markdown",
   "metadata": {
    "collapsed": true
   },
   "source": [
    "## Exciton difusion length"
   ]
  },
  {
   "cell_type": "code",
   "execution_count": 6,
   "metadata": {
    "collapsed": false
   },
   "outputs": [
    {
     "name": "stdout",
     "output_type": "stream",
     "text": [
      "Exciton difusion length: 8.31 nm, Nº exitaciones: 1500\n",
      "Tiempo total: 1.99 seg.\n"
     ]
    }
   ],
   "source": [
    "out = experiments.difusion_length(NP, forster, 'laser')\n",
    "print(\"Exciton difusion length: {0:.2f} nm, Nº exitaciones: {1}\".format(out[0], out[1]))\n",
    "print(\"Tiempo total: {0:.2f} seg.\".format(out[2]))"
   ]
  },
  {
   "cell_type": "markdown",
   "metadata": {},
   "source": [
    "## Single photon counting"
   ]
  },
  {
   "cell_type": "code",
   "execution_count": 7,
   "metadata": {
    "collapsed": false
   },
   "outputs": [
    {
     "data": {
      "text/plain": [
       "(array([  96.,  524.,   66., ...,   29.,  132.,    0.]),\n",
       " 3000,\n",
       " 4.785261869430542)"
      ]
     },
     "execution_count": 7,
     "metadata": {},
     "output_type": "execute_result"
    }
   ],
   "source": [
    "out = experiments.single_count(NP, dopantes, forster, 'laser', exitations=3000)\n",
    "out"
   ]
  },
  {
   "cell_type": "code",
   "execution_count": 8,
   "metadata": {
    "collapsed": false
   },
   "outputs": [
    {
     "data": {
      "text/plain": [
       "3000"
      ]
     },
     "execution_count": 8,
     "metadata": {},
     "output_type": "execute_result"
    }
   ],
   "source": [
    "len(out[0])"
   ]
  },
  {
   "cell_type": "code",
   "execution_count": 9,
   "metadata": {
    "collapsed": false
   },
   "outputs": [
    {
     "data": {
      "image/png": "[encoded data removed]",
      "text/plain": [
       "<matplotlib.figure.Figure at 0x7fd8a460c2b0>"
      ]
     },
     "metadata": {},
     "output_type": "display_data"
    }
   ],
   "source": [
    "import matplotlib.pyplot as plt\n",
    "%matplotlib inline\n",
    "\n",
    "num_bins = 50\n",
    "# the histogram of the data\n",
    "n, bins, patches = plt.hist(out[0]*NP.delta_t, num_bins, normed=1, facecolor='green', alpha=0.5)\n",
    "plt.show()"
   ]
  },
  {
   "cell_type": "markdown",
   "metadata": {},
   "source": [
    "## Variando el numero de ten.Aceptores"
   ]
  },
  {
   "cell_type": "code",
   "execution_count": 10,
   "metadata": {
    "collapsed": false
   },
   "outputs": [
    {
     "name": "stdout",
     "output_type": "stream",
     "text": [
      "\n",
      "Eficiencia: 0.0245, Nº decaidos: 1951, Nº transferidos: 49\n",
      "Pasos promedio: 76.50 nm, Tiempo total: 2.45 seg.\n",
      "\n",
      "Eficiencia: 0.1185, Nº decaidos: 1763, Nº transferidos: 237\n",
      "Pasos promedio: 71.39 nm, Tiempo total: 2.56 seg.\n",
      "\n",
      "Eficiencia: 0.191, Nº decaidos: 1618, Nº transferidos: 382\n",
      "Pasos promedio: 63.82 nm, Tiempo total: 2.41 seg.\n",
      "\n",
      "Eficiencia: 0.0395, Nº decaidos: 1921, Nº transferidos: 79\n",
      "Pasos promedio: 77.52 nm, Tiempo total: 2.17 seg.\n",
      "\n",
      "Eficiencia: 0.116, Nº decaidos: 1768, Nº transferidos: 232\n",
      "Pasos promedio: 70.93 nm, Tiempo total: 2.23 seg.\n",
      "\n",
      "Eficiencia: 0.2096, Nº decaidos: 1976, Nº transferidos: 524\n",
      "Pasos promedio: 63.30 nm, Tiempo total: 2.53 seg.\n",
      "\n",
      "Eficiencia: 0.1328, Nº decaidos: 2168, Nº transferidos: 332\n",
      "Pasos promedio: 68.30 nm, Tiempo total: 2.32 seg.\n",
      "\n",
      "Eficiencia: 0.208, Nº decaidos: 1584, Nº transferidos: 416\n",
      "Pasos promedio: 63.16 nm, Tiempo total: 1.94 seg.\n",
      "\n",
      "Eficiencia: 0.2604, Nº decaidos: 1849, Nº transferidos: 651\n",
      "Pasos promedio: 60.58 nm, Tiempo total: 2.46 seg.\n",
      "\n",
      "Eficiencia: 0.228, Nº decaidos: 1544, Nº transferidos: 456\n",
      "Pasos promedio: 62.12 nm, Tiempo total: 1.70 seg.\n",
      "\n",
      "Eficiencia: 0.2936666666666667, Nº decaidos: 2119, Nº transferidos: 881\n",
      "Pasos promedio: 55.71 nm, Tiempo total: 2.60 seg.\n",
      "\n",
      "Eficiencia: 0.362, Nº decaidos: 1276, Nº transferidos: 724\n",
      "Pasos promedio: 51.13 nm, Tiempo total: 1.69 seg.\n"
     ]
    }
   ],
   "source": [
    "num = [10, 50, 100]\n",
    "num_intrisic = [0, 1, 5, 10]\n",
    "\n",
    "for j in num_intrisic:\n",
    "    for i in num:\n",
    "        # Dopantes propios (intrisicos) de la NP\n",
    "        dopantes_propios = ten.Aceptor(number=i, r_mechanisms=1, way='vol')\n",
    "        # Dopantes que le vamos a agregar a la NP\n",
    "        dopantes = ten.Aceptor(number=j, r_mechanisms=3.14, way='vol')\n",
    "        # Nanoparticula\n",
    "        NP = ten.Nanoparticle(r_param=[15, 0], tau_d=0.333, mean_path=80, epsilon=1, \n",
    "                              intrinsic_aceptors=dopantes_propios)\n",
    "        \n",
    "        # Experiment\n",
    "        out = experiments.quenching(NP, dopantes, forster, 'laser')\n",
    "        print()\n",
    "        print(\"Eficiencia: {0}, Nº decaidos: {1}, Nº transferidos: {2}\".format(out[0], out[1], out[3]-out[1]))\n",
    "        print(\"Pasos promedio: {0:.2f} nm, Tiempo total: {1:.2f} seg.\".format(out[2], out[4]))"
   ]
  },
  {
   "cell_type": "code",
   "execution_count": null,
   "metadata": {
    "collapsed": true
   },
   "outputs": [],
   "source": []
  }
 ],
 "metadata": {
  "anaconda-cloud": {},
  "kernelspec": {
   "display_name": "Python [default]",
   "language": "python",
   "name": "python3"
  },
  "language_info": {
   "codemirror_mode": {
    "name": "ipython",
    "version": 3
   },
   "file_extension": ".py",
   "mimetype": "text/x-python",
   "name": "python",
   "nbconvert_exporter": "python",
   "pygments_lexer": "ipython3",
   "version": "3.5.2"
  }
 },
 "nbformat": 4,
 "nbformat_minor": 0
}
