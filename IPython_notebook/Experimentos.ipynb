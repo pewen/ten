{
 "cells": [
  {
   "cell_type": "code",
   "execution_count": 1,
   "metadata": {
    "collapsed": false
   },
   "outputs": [],
   "source": [
    "import time\n",
    "import sys\n",
    "sys.path.append('../')\n",
    "\n",
    "import numpy as np\n",
    "import matplotlib.pyplot as plt\n",
    "\n",
    "import ten\n",
    "from ten.mechanisms import forster, dexter\n",
    "\n",
    "%matplotlib inline"
   ]
  },
  {
   "cell_type": "markdown",
   "metadata": {},
   "source": [
    "## Creación de la NP"
   ]
  },
  {
   "cell_type": "code",
   "execution_count": 19,
   "metadata": {
    "collapsed": false
   },
   "outputs": [
    {
     "name": "stdout",
     "output_type": "stream",
     "text": [
      "Radio: 22 ~ U(22, 0),\n",
      "Tau: 0.333, Mean_path: 100, Epsilon: 1,\n",
      "Delta_t: 0.00333, Prob decay: 0.009950166250831893,\n",
      "Number traps: 1, R_Mechanisms: 1, way: vol\n"
     ]
    }
   ],
   "source": [
    "# Trampas (dopantes intrisicos) de la NP\n",
    "trampas = ten.Aceptor(number=1, r_mechanisms=1, way='vol')\n",
    "# Colorantes (dopantes) que le vamos a agregar a la NP\n",
    "dopantes = ten.Aceptor(number=1500, r_mechanisms=4.684, way='sup')\n",
    "\n",
    "# Nanoparticula\n",
    "NP = ten.Nanoparticle(r_param=[22, 0], tau_d=0.333, mean_path=100, \n",
    "                      epsilon=1, traps=trampas)\n",
    "\n",
    "print(NP)"
   ]
  },
  {
   "cell_type": "code",
   "execution_count": 20,
   "metadata": {
    "collapsed": false
   },
   "outputs": [
    {
     "data": {
      "text/plain": [
       "(0.8242307692307692, 2285, 17.197769230769232, 13000, 18.799806594848633)"
      ]
     },
     "execution_count": 20,
     "metadata": {},
     "output_type": "execute_result"
    }
   ],
   "source": [
    "ten.experiments.quenching(NP, dopantes, forster, 'laser', convergence=0.001)"
   ]
  },
  {
   "cell_type": "code",
   "execution_count": 4,
   "metadata": {
    "collapsed": false
   },
   "outputs": [
    {
     "name": "stdout",
     "output_type": "stream",
     "text": [
      "Radio: 15 ~ U(15, 0),\n",
      "Tau: 0.333, Mean_path: 80, Epsilon: 1,\n",
      "Delta_t: 0.0041625, Prob decay: 0.012422199506118559,\n",
      "Number traps: 10, R_Mechanisms: 1, way: vol\n"
     ]
    }
   ],
   "source": [
    "# Trampas (dopantes intrisicos) de la NP\n",
    "trampas = ten.Aceptor(number=10, r_mechanisms=1, way='vol')\n",
    "# Colorantes (dopantes) que le vamos a agregar a la NP\n",
    "dopantes = ten.Aceptor(number=5, r_mechanisms=3.14, way='vol')\n",
    "\n",
    "# Nanoparticula\n",
    "NP = ten.Nanoparticle(r_param=[15, 0], tau_d=0.333, mean_path=80, \n",
    "                      epsilon=1, traps=trampas)\n",
    "\n",
    "print(NP)"
   ]
  },
  {
   "cell_type": "markdown",
   "metadata": {},
   "source": [
    "## Experimentos posibles\n",
    "\n",
    "### Eficiencia de Quenching"
   ]
  },
  {
   "cell_type": "code",
   "execution_count": 5,
   "metadata": {
    "collapsed": false
   },
   "outputs": [
    {
     "name": "stdout",
     "output_type": "stream",
     "text": [
      "Eficiencia: 0.1583658536585366, Nº decaidos: 34507, Nº transferidos: 6493\n",
      "Pasos promedio: 66.83 nm, Tiempo total: 8.09 seg.\n"
     ]
    }
   ],
   "source": [
    "# Usando un mecanismo de Forster\n",
    "\n",
    "out = ten.experiments.quenching(NP, dopantes, forster, 'laser', convergence=0.0001)\n",
    "print(\"Eficiencia: {0}, Nº decaidos: {1}, Nº transferidos: {2}\".format(out[0], out[1], out[3]-out[1]))\n",
    "print(\"Pasos promedio: {0:.2f} nm, Tiempo total: {1:.2f} seg.\".format(out[2], out[4]))"
   ]
  },
  {
   "cell_type": "code",
   "execution_count": 6,
   "metadata": {
    "collapsed": false
   },
   "outputs": [
    {
     "name": "stdout",
     "output_type": "stream",
     "text": [
      "Eficiencia: 0.278, Nº decaidos: 2527, Nº transferidos: 973\n",
      "Pasos promedio: 58.49 nm, Tiempo total: 13.31 seg.\n"
     ]
    }
   ],
   "source": [
    "# Usando un mecanismo de Dexter\n",
    "\n",
    "out = ten.experiments.quenching(NP, dopantes, dexter, 'laser')\n",
    "print(\"Eficiencia: {0}, Nº decaidos: {1}, Nº transferidos: {2}\".format(out[0], out[1], out[3]-out[1]))\n",
    "print(\"Pasos promedio: {0:.2f} nm, Tiempo total: {1:.2f} seg.\".format(out[2], out[4]))"
   ]
  },
  {
   "cell_type": "markdown",
   "metadata": {
    "collapsed": true
   },
   "source": [
    "### Exciton difusion length"
   ]
  },
  {
   "cell_type": "code",
   "execution_count": 6,
   "metadata": {
    "collapsed": false
   },
   "outputs": [
    {
     "name": "stdout",
     "output_type": "stream",
     "text": [
      "Exciton difusion length: 7.42 nm, Nº exitaciones: 1500\n",
      "Tiempo total: 0.33 seg.\n"
     ]
    }
   ],
   "source": [
    "# Trampas (dopantes intrisicos) de la NP\n",
    "trampas = ten.Aceptor(number=10, r_mechanisms=1, way='vol')\n",
    "# Colorantes (dopantes) que le vamos a agregar a la NP\n",
    "dopantes = ten.Aceptor(number=5, r_mechanisms=3.14, way='vol')\n",
    "# Nanoparticula\n",
    "NP = ten.Nanoparticle(r_param=[15, 0], tau_d=0.333, mean_path=80, epsilon=1, traps=trampas)\n",
    "\n",
    "out = ten.experiments.difusion_length(NP, forster, 'laser')\n",
    "print(\"Exciton difusion length: {0:.2f} nm, Nº exitaciones: {1}\".format(out[0], out[1]))\n",
    "print(\"Tiempo total: {0:.2f} seg.\".format(out[2]))"
   ]
  },
  {
   "cell_type": "markdown",
   "metadata": {},
   "source": [
    "### Single photon counting"
   ]
  },
  {
   "cell_type": "code",
   "execution_count": 7,
   "metadata": {
    "collapsed": false
   },
   "outputs": [
    {
     "data": {
      "text/plain": [
       "(array([  18.,    0.,  113., ...,   73.,   56.,   48.]),\n",
       " 3000,\n",
       " 0.5662379264831543)"
      ]
     },
     "execution_count": 7,
     "metadata": {},
     "output_type": "execute_result"
    }
   ],
   "source": [
    "# Trampas (dopantes intrisicos) de la NP\n",
    "trampas = ten.Aceptor(number=10, r_mechanisms=1, way='vol')\n",
    "# Colorantes (dopantes) que le vamos a agregar a la NP\n",
    "dopantes = ten.Aceptor(number=5, r_mechanisms=3.14, way='vol')\n",
    "# Nanoparticula\n",
    "NP = ten.Nanoparticle(r_param=[15, 0], tau_d=0.333, mean_path=80, epsilon=1, traps=trampas)\n",
    "\n",
    "out = ten.experiments.single_count(NP, dopantes, forster, 'laser', exitations=3000)\n",
    "out"
   ]
  },
  {
   "cell_type": "code",
   "execution_count": 8,
   "metadata": {
    "collapsed": false
   },
   "outputs": [
    {
     "data": {
      "image/png": "[encoded data removed]",
      "text/plain": [
       "<matplotlib.figure.Figure at 0x7ff0308a5a58>"
      ]
     },
     "metadata": {},
     "output_type": "display_data"
    }
   ],
   "source": [
    "num_bins = 50\n",
    "# the histogram of the data\n",
    "n, bins, patches = plt.hist(out[0]*NP.delta_t, num_bins, normed=1, facecolor='green', alpha=0.5)\n",
    "plt.show()"
   ]
  },
  {
   "cell_type": "markdown",
   "metadata": {},
   "source": [
    "### Combinando los tres en uno"
   ]
  },
  {
   "cell_type": "code",
   "execution_count": 9,
   "metadata": {
    "collapsed": false
   },
   "outputs": [
    {
     "name": "stdout",
     "output_type": "stream",
     "text": [
      "Eficiencia: 0.15770212765957448, Nº decaidos: 19794, Nº transferidos: 3706, Nº de exitaciones: 23500\n",
      "Cantidad pasos promedio: 66.34, Tiempo total simu: 4.85 seg.\n",
      "L_D: 7.0057688400547695 nm\n"
     ]
    }
   ],
   "source": [
    "# Trampas (dopantes intrisicos) de la NP\n",
    "trampas = ten.Aceptor(number=10, r_mechanisms=1, way='vol')\n",
    "# Colorantes (dopantes) que le vamos a agregar a la NP\n",
    "dopantes = ten.Aceptor(number=5, r_mechanisms=3.14, way='vol')\n",
    "# Nanoparticula\n",
    "NP = ten.Nanoparticle(r_param=[15, 0], tau_d=0.333, mean_path=80, epsilon=1, traps=trampas)\n",
    "\n",
    "out = ten.experiments.tricota(NP, dopantes, forster, 'laser', convergence=0.0001)\n",
    "\n",
    "text1 = \"Eficiencia: {0}, Nº decaidos: {1}, Nº transferidos: {2}, Nº de exitaciones: {3}\"\n",
    "print(text1.format(out[0], out[1], out[3]-out[1], out[3]))\n",
    "print(\"Cantidad pasos promedio: {0:.2f}, Tiempo total simu: {1:.2f} seg.\".format(out[2], out[6]))\n",
    "print(\"L_D: {0} nm\".format(out[4]))"
   ]
  },
  {
   "cell_type": "code",
   "execution_count": 10,
   "metadata": {
    "collapsed": false
   },
   "outputs": [
    {
     "data": {
      "image/png": "[encoded data removed]",
      "text/plain": [
       "<matplotlib.figure.Figure at 0x7ff0308a5be0>"
      ]
     },
     "metadata": {},
     "output_type": "display_data"
    }
   ],
   "source": [
    "data = np.array(out[-2])\n",
    "num_bins = 50\n",
    "# the histogram of the data\n",
    "n, bins, patches = plt.hist(data*NP.delta_t, num_bins, normed=1, facecolor='green', alpha=0.5)\n",
    "plt.show()"
   ]
  },
  {
   "cell_type": "markdown",
   "metadata": {},
   "source": [
    "## Variando el numero de ten.Aceptores"
   ]
  },
  {
   "cell_type": "code",
   "execution_count": 10,
   "metadata": {
    "collapsed": false
   },
   "outputs": [
    {
     "name": "stdout",
     "output_type": "stream",
     "text": [
      "\n",
      "Eficiencia: 0.0245, Nº decaidos: 1951, Nº transferidos: 49\n",
      "Pasos promedio: 76.50 nm, Tiempo total: 2.45 seg.\n",
      "\n",
      "Eficiencia: 0.1185, Nº decaidos: 1763, Nº transferidos: 237\n",
      "Pasos promedio: 71.39 nm, Tiempo total: 2.56 seg.\n",
      "\n",
      "Eficiencia: 0.191, Nº decaidos: 1618, Nº transferidos: 382\n",
      "Pasos promedio: 63.82 nm, Tiempo total: 2.41 seg.\n",
      "\n",
      "Eficiencia: 0.0395, Nº decaidos: 1921, Nº transferidos: 79\n",
      "Pasos promedio: 77.52 nm, Tiempo total: 2.17 seg.\n",
      "\n",
      "Eficiencia: 0.116, Nº decaidos: 1768, Nº transferidos: 232\n",
      "Pasos promedio: 70.93 nm, Tiempo total: 2.23 seg.\n",
      "\n",
      "Eficiencia: 0.2096, Nº decaidos: 1976, Nº transferidos: 524\n",
      "Pasos promedio: 63.30 nm, Tiempo total: 2.53 seg.\n",
      "\n",
      "Eficiencia: 0.1328, Nº decaidos: 2168, Nº transferidos: 332\n",
      "Pasos promedio: 68.30 nm, Tiempo total: 2.32 seg.\n",
      "\n",
      "Eficiencia: 0.208, Nº decaidos: 1584, Nº transferidos: 416\n",
      "Pasos promedio: 63.16 nm, Tiempo total: 1.94 seg.\n",
      "\n",
      "Eficiencia: 0.2604, Nº decaidos: 1849, Nº transferidos: 651\n",
      "Pasos promedio: 60.58 nm, Tiempo total: 2.46 seg.\n",
      "\n",
      "Eficiencia: 0.228, Nº decaidos: 1544, Nº transferidos: 456\n",
      "Pasos promedio: 62.12 nm, Tiempo total: 1.70 seg.\n",
      "\n",
      "Eficiencia: 0.2936666666666667, Nº decaidos: 2119, Nº transferidos: 881\n",
      "Pasos promedio: 55.71 nm, Tiempo total: 2.60 seg.\n",
      "\n",
      "Eficiencia: 0.362, Nº decaidos: 1276, Nº transferidos: 724\n",
      "Pasos promedio: 51.13 nm, Tiempo total: 1.69 seg.\n"
     ]
    }
   ],
   "source": [
    "num = [10, 50, 100]\n",
    "num_intrisic = [0, 1, 5, 10]\n",
    "\n",
    "for j in num_intrisic:\n",
    "    for i in num:\n",
    "        # Dopantes propios (intrisicos) de la NP\n",
    "        dopantes_propios = ten.Aceptor(number=i, r_mechanisms=1, way='vol')\n",
    "        # Dopantes que le vamos a agregar a la NP\n",
    "        dopantes = ten.Aceptor(number=j, r_mechanisms=3.14, way='vol')\n",
    "        # Nanoparticula\n",
    "        NP = ten.Nanoparticle(r_param=[15, 0], tau_d=0.333, mean_path=80, epsilon=1, \n",
    "                              intrinsic_aceptors=dopantes_propios)\n",
    "        \n",
    "        # Experiment\n",
    "        out = experiments.quenching(NP, dopantes, forster, 'laser')\n",
    "        print()\n",
    "        print(\"Eficiencia: {0}, Nº decaidos: {1}, Nº transferidos: {2}\".format(out[0], out[1], out[3]-out[1]))\n",
    "        print(\"Pasos promedio: {0:.2f} nm, Tiempo total: {1:.2f} seg.\".format(out[2], out[4]))"
   ]
  }
 ],
 "metadata": {
  "anaconda-cloud": {},
  "kernelspec": {
   "display_name": "Python [default]",
   "language": "python",
   "name": "python3"
  },
  "language_info": {
   "codemirror_mode": {
    "name": "ipython",
    "version": 3
   },
   "file_extension": ".py",
   "mimetype": "text/x-python",
   "name": "python",
   "nbconvert_exporter": "python",
   "pygments_lexer": "ipython3",
   "version": "3.5.2"
  }
 },
 "nbformat": 4,
 "nbformat_minor": 0
}
