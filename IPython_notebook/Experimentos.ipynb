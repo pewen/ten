{
 "cells": [
  {
   "cell_type": "code",
   "execution_count": 3,
   "metadata": {
    "collapsed": false
   },
   "outputs": [
    {
     "ename": "ImportError",
     "evalue": "No module named 'ten.experiments.mechanisms'",
     "output_type": "error",
     "traceback": [
      "\u001b[1;31m---------------------------------------------------------------------------\u001b[0m",
      "\u001b[1;31mImportError\u001b[0m                               Traceback (most recent call last)",
      "\u001b[1;32m<ipython-input-3-b7b4ecca6eb4>\u001b[0m in \u001b[0;36m<module>\u001b[1;34m()\u001b[0m\n\u001b[0;32m      5\u001b[0m \u001b[1;32mimport\u001b[0m \u001b[0mten\u001b[0m\u001b[1;33m\u001b[0m\u001b[0m\n\u001b[0;32m      6\u001b[0m \u001b[1;32mimport\u001b[0m \u001b[0mten\u001b[0m\u001b[1;33m.\u001b[0m\u001b[0mexperiments\u001b[0m \u001b[1;32mas\u001b[0m \u001b[0mexperiments\u001b[0m\u001b[1;33m\u001b[0m\u001b[0m\n\u001b[1;32m----> 7\u001b[1;33m \u001b[1;32mfrom\u001b[0m \u001b[0mten\u001b[0m\u001b[1;33m.\u001b[0m\u001b[0mexperiments\u001b[0m\u001b[1;33m.\u001b[0m\u001b[0mmechanisms\u001b[0m \u001b[1;32mimport\u001b[0m \u001b[0mforster\u001b[0m\u001b[1;33m,\u001b[0m \u001b[0mboolean\u001b[0m\u001b[1;33m\u001b[0m\u001b[0m\n\u001b[0m",
      "\u001b[1;31mImportError\u001b[0m: No module named 'ten.experiments.mechanisms'"
     ]
    }
   ],
   "source": [
    "import time\n",
    "import sys\n",
    "sys.path.append('../ten')\n",
    "\n",
    "import ten\n",
    "import ten.experiments as experiments\n",
    "from ten.experiments.mechanisms import forster, boolean"
   ]
  },
  {
   "cell_type": "markdown",
   "metadata": {},
   "source": [
    "## Creación de la NP"
   ]
  },
  {
   "cell_type": "code",
   "execution_count": null,
   "metadata": {
    "collapsed": false
   },
   "outputs": [],
   "source": [
    "# Dopantes propios (intrisicos) de la NP\n",
    "dopantes_propios = ten.Aceptor(number=10, r_mechanisms=1, way='vol')\n",
    "\n",
    "# Dopantes que le vamos a agregar a la NP\n",
    "dopantes = ten.Aceptor(number=5, r_mechanisms=3.14, way='vol')\n",
    "\n",
    "# Nanoparticula\n",
    "NP = ten.Nanoparticle(r_param=[15, 0], tau_d=0.333, mean_path=80, epsilon=1, intrinsic_ten.Aceptors=dopantes_propios)\n",
    "print(NP)"
   ]
  },
  {
   "cell_type": "markdown",
   "metadata": {},
   "source": [
    "## Eficiencia de Quenching"
   ]
  },
  {
   "cell_type": "code",
   "execution_count": null,
   "metadata": {
    "collapsed": false
   },
   "outputs": [],
   "source": [
    "out = experiments.quenching(NP, dopantes, forster, 'laser')\n",
    "print(\"Eficiencia: {0}, Nº decaidos: {1}, Nº transferidos: {2}\".format(out[0], out[1], out[3]-out[1]))\n",
    "print(\"Pasos promedio: {0:.2f} nm, Tiempo total: {1:.2f} seg.\".format(out[2], out[4]))"
   ]
  },
  {
   "cell_type": "code",
   "execution_count": null,
   "metadata": {
    "collapsed": false
   },
   "outputs": [],
   "source": [
    "out = experiments.quenching(NP, dopantes, forster, 'laser')\n",
    "print(\"Eficiencia: {0}, Nº decaidos: {1}, Nº transferidos: {2}\".format(out[0], out[1], out[3]-out[1]))\n",
    "print(\"Pasos promedio: {0:.2f} nm, Tiempo total: {1:.2f} seg.\".format(out[2], out[4]))"
   ]
  },
  {
   "cell_type": "code",
   "execution_count": null,
   "metadata": {
    "collapsed": false
   },
   "outputs": [],
   "source": [
    "# Dopantes que le vamos a agregar a la NP\n",
    "dopantes = ten.Aceptor(number=500, r_mechanisms=0.5, way='vol')\n",
    "\n",
    "# Nanoparticula\n",
    "NP = ten.Nanoparticle(r_param=[15, 0], tau_d=0.333, mean_path=80, epsilon=1, intrinsic_ten.Aceptors=dopantes_propios)\n",
    "\n",
    "out = experiments.quenching(NP, dopantes, boolean, 'laser')\n",
    "print(\"Eficiencia: {0}, Nº decaidos: {1}, Nº transferidos: {2}\".format(out[0], out[1], out[3]-out[1]))\n",
    "print(\"Pasos promedio: {0:.2f} nm, Tiempo total: {1:.2f} seg.\".format(out[2], out[4]))"
   ]
  },
  {
   "cell_type": "markdown",
   "metadata": {
    "collapsed": true
   },
   "source": [
    "## Exciton difusion length"
   ]
  },
  {
   "cell_type": "code",
   "execution_count": null,
   "metadata": {
    "collapsed": false
   },
   "outputs": [],
   "source": [
    "out = experiments.difusion_length(NP, forster, 'laser')\n",
    "print(\"Exciton difusion length: {0:.2f} nm, Nº exitaciones: {1}\".format(out[0], out[1]))\n",
    "print(\"Tiempo total: {0:.2f} seg.\".format(out[2]))"
   ]
  },
  {
   "cell_type": "markdown",
   "metadata": {},
   "source": [
    "## Single photon counting"
   ]
  },
  {
   "cell_type": "code",
   "execution_count": null,
   "metadata": {
    "collapsed": false
   },
   "outputs": [],
   "source": [
    "out = experiments.single_count(NP, dopantes, forster, 'laser', exitations=3000)\n",
    "out"
   ]
  },
  {
   "cell_type": "code",
   "execution_count": null,
   "metadata": {
    "collapsed": false
   },
   "outputs": [],
   "source": [
    "import matplotlib.pyplot as plt\n",
    "%matplotlib inline\n",
    "\n",
    "num_bins = 50\n",
    "# the histogram of the data\n",
    "n, bins, patches = plt.hist(out[0]*NP.delta_t, num_bins, normed=1, facecolor='green', alpha=0.5)\n",
    "plt.show()"
   ]
  },
  {
   "cell_type": "markdown",
   "metadata": {},
   "source": [
    "## Variando el numero de ten.Aceptores"
   ]
  },
  {
   "cell_type": "code",
   "execution_count": null,
   "metadata": {
    "collapsed": false
   },
   "outputs": [],
   "source": [
    "num_ten.Aceptores = [10, 50, 100]\n",
    "num_intrisic_ten.Aceptors = [0, 1, 5, 10]\n",
    "\n",
    "for j in num_intrisic_ten.Aceptors:\n",
    "    for i in num_ten.Aceptores:\n",
    "        # Dopantes propios (intrisicos) de la NP\n",
    "        dopantes_propios = ten.Aceptor(number=i, r_mechanisms=1, way='vol')\n",
    "        # Dopantes que le vamos a agregar a la NP\n",
    "        dopantes = ten.Aceptor(number=j, r_mechanisms=3.14, way='vol')\n",
    "        # Nanoparticula\n",
    "        NP = ten.Nanoparticle(r_param=[15, 0], tau_d=0.333, mean_path=80, epsilon=1, \n",
    "                          intrinsic_ten.Aceptors=dopantes_propios)\n",
    "        \n",
    "        # Experiment\n",
    "        out = experiments.quenching(NP, dopantes, forster, 'laser')\n",
    "        print()\n",
    "        print(\"Eficiencia: {0}, Nº decaidos: {1}, Nº transferidos: {2}\".format(out[0], out[1], out[3]-out[1]))\n",
    "        print(\"Pasos promedio: {0:.2f} nm, Tiempo total: {1:.2f} seg.\".format(out[2], out[4]))"
   ]
  },
  {
   "cell_type": "code",
   "execution_count": null,
   "metadata": {
    "collapsed": true
   },
   "outputs": [],
   "source": []
  }
 ],
 "metadata": {
  "anaconda-cloud": {},
  "kernelspec": {
   "display_name": "Python 3",
   "language": "python",
   "name": "python3"
  },
  "language_info": {
   "codemirror_mode": {
    "name": "ipython",
    "version": 3
   },
   "file_extension": ".py",
   "mimetype": "text/x-python",
   "name": "python",
   "nbconvert_exporter": "python",
   "pygments_lexer": "ipython3",
   "version": "3.5.1"
  }
 },
 "nbformat": 4,
 "nbformat_minor": 0
}
