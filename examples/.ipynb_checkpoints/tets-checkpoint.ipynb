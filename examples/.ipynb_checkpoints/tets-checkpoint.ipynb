{
 "metadata": {
  "name": "",
  "signature": "sha256:6a30975370a50eeecb653cd6e1e5bd062260763553a4b1d35e85d59578498cd9"
 },
 "nbformat": 3,
 "nbformat_minor": 0,
 "worksheets": [
  {
   "cells": [
    {
     "cell_type": "code",
     "collapsed": false,
     "input": [
      "import sys\n",
      "sys.path.append('../')\n",
      "\n",
      "from src.nanoparticle import NanoParticle\n",
      "from src.photon import Photon\n",
      "from config import *\n",
      "\n",
      "import time"
     ],
     "language": "python",
     "metadata": {},
     "outputs": [],
     "prompt_number": 6
    },
    {
     "cell_type": "code",
     "collapsed": false,
     "input": [
      "nano_particle = NanoParticle(r, 100, tau_D, R_Forster, L_D, delta_t)\n",
      "nano_particle.deposit_volumetrically_acceptors()"
     ],
     "language": "python",
     "metadata": {},
     "outputs": [],
     "prompt_number": 2
    },
    {
     "cell_type": "code",
     "collapsed": false,
     "input": [
      "simu = Photon(nano_particle, 300)\n",
      "a = time.time()\n",
      "simu.move()\n",
      "print(time.time() - a)"
     ],
     "language": "python",
     "metadata": {},
     "outputs": [
      {
       "output_type": "stream",
       "stream": "stdout",
       "text": [
        "6.756036281585693\n"
       ]
      }
     ],
     "prompt_number": 13
    },
    {
     "cell_type": "code",
     "collapsed": false,
     "input": [
      "simu.save_out()"
     ],
     "language": "python",
     "metadata": {},
     "outputs": [],
     "prompt_number": 14
    },
    {
     "cell_type": "code",
     "collapsed": false,
     "input": [],
     "language": "python",
     "metadata": {},
     "outputs": []
    }
   ],
   "metadata": {}
  }
 ]
}