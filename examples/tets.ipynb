{
 "metadata": {
  "name": "",
  "signature": "sha256:cd27ebfe9ce689bc38d0e0c592caabe5540da37b068c28ec2a6cbd132a294a1a"
 },
 "nbformat": 3,
 "nbformat_minor": 0,
 "worksheets": [
  {
   "cells": [
    {
     "cell_type": "code",
     "collapsed": false,
     "input": [
      "import sys\n",
      "sys.path.append('../')\n",
      "\n",
      "from src.nanoparticle import NanoParticle\n",
      "from src.photon import Photon\n",
      "from config import *\n",
      "\n",
      "import time"
     ],
     "language": "python",
     "metadata": {},
     "outputs": [],
     "prompt_number": 1
    },
    {
     "cell_type": "code",
     "collapsed": false,
     "input": [
      "nano_particle = NanoParticle(r, 60, tau_D, R_Forster, L_D, delta_t)\n",
      "nano_particle.deposit_volumetrically_acceptors()"
     ],
     "language": "python",
     "metadata": {},
     "outputs": [],
     "prompt_number": 2
    },
    {
     "cell_type": "code",
     "collapsed": false,
     "input": [
      "simu = Photon(nano_particle, 500)\n",
      "a = time.time()\n",
      "simu.move()\n",
      "print(time.time() - a)"
     ],
     "language": "python",
     "metadata": {},
     "outputs": [
      {
       "output_type": "stream",
       "stream": "stdout",
       "text": [
        "141.06426525115967\n"
       ]
      }
     ],
     "prompt_number": 6
    },
    {
     "cell_type": "code",
     "collapsed": false,
     "input": [
      "simu.save_out('.')"
     ],
     "language": "python",
     "metadata": {},
     "outputs": [],
     "prompt_number": 7
    },
    {
     "cell_type": "code",
     "collapsed": false,
     "input": [],
     "language": "python",
     "metadata": {},
     "outputs": [],
     "prompt_number": 4
    }
   ],
   "metadata": {}
  }
 ]
}